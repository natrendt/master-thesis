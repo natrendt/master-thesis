{
 "cells": [
  {
   "cell_type": "code",
   "execution_count": 4,
   "metadata": {},
   "outputs": [],
   "source": [
    "import numpy as np\n",
    "import pandas as pd\n",
    "import seaborn as sns\n",
    "import matplotlib.pyplot as plt\n",
    "from sklearn.metrics import silhouette_score\n",
    "from sklearn.cluster import KMeans, DBSCAN\n",
    "from sklearn.preprocessing import StandardScaler, OneHotEncoder"
   ]
  },
  {
   "cell_type": "code",
   "execution_count": 5,
   "metadata": {},
   "outputs": [],
   "source": [
    "base_df = pd.read_csv('./microstates/results_separateData.csv')"
   ]
  },
  {
   "cell_type": "code",
   "execution_count": 6,
   "metadata": {},
   "outputs": [],
   "source": [
    "base_df['activity'] = base_df['activity'].str.lower()"
   ]
  },
  {
   "cell_type": "code",
   "execution_count": 7,
   "metadata": {},
   "outputs": [
    {
     "data": {
      "text/html": [
       "<div>\n",
       "<style scoped>\n",
       "    .dataframe tbody tr th:only-of-type {\n",
       "        vertical-align: middle;\n",
       "    }\n",
       "\n",
       "    .dataframe tbody tr th {\n",
       "        vertical-align: top;\n",
       "    }\n",
       "\n",
       "    .dataframe thead th {\n",
       "        text-align: right;\n",
       "    }\n",
       "</style>\n",
       "<table border=\"1\" class=\"dataframe\">\n",
       "  <thead>\n",
       "    <tr style=\"text-align: right;\">\n",
       "      <th></th>\n",
       "      <th>name</th>\n",
       "      <th>activity</th>\n",
       "      <th>imagining</th>\n",
       "      <th>probability_A</th>\n",
       "      <th>probability_B</th>\n",
       "      <th>probability_C</th>\n",
       "      <th>probability_D</th>\n",
       "      <th>time_A</th>\n",
       "      <th>time_B</th>\n",
       "      <th>time_C</th>\n",
       "      <th>...</th>\n",
       "      <th>P_D_C</th>\n",
       "      <th>P_D_D</th>\n",
       "      <th>GEV_total</th>\n",
       "      <th>GEV_A</th>\n",
       "      <th>GEV_B</th>\n",
       "      <th>GEV_C</th>\n",
       "      <th>GEV_D</th>\n",
       "      <th>max_entropy</th>\n",
       "      <th>entropy</th>\n",
       "      <th>mc_entropy</th>\n",
       "    </tr>\n",
       "  </thead>\n",
       "  <tbody>\n",
       "    <tr>\n",
       "      <th>0</th>\n",
       "      <td>P19</td>\n",
       "      <td>successful</td>\n",
       "      <td>guided</td>\n",
       "      <td>0.334737</td>\n",
       "      <td>0.250526</td>\n",
       "      <td>0.114947</td>\n",
       "      <td>0.299789</td>\n",
       "      <td>12.720</td>\n",
       "      <td>9.520</td>\n",
       "      <td>4.368</td>\n",
       "      <td>...</td>\n",
       "      <td>0.009480</td>\n",
       "      <td>0.928020</td>\n",
       "      <td>0.625059</td>\n",
       "      <td>0.208141</td>\n",
       "      <td>0.231092</td>\n",
       "      <td>0.087980</td>\n",
       "      <td>0.097846</td>\n",
       "      <td>2.0</td>\n",
       "      <td>1.908582</td>\n",
       "      <td>0.467345</td>\n",
       "    </tr>\n",
       "    <tr>\n",
       "      <th>1</th>\n",
       "      <td>P19</td>\n",
       "      <td>successful</td>\n",
       "      <td>self-guided</td>\n",
       "      <td>0.250867</td>\n",
       "      <td>0.314267</td>\n",
       "      <td>0.208333</td>\n",
       "      <td>0.226533</td>\n",
       "      <td>15.052</td>\n",
       "      <td>18.856</td>\n",
       "      <td>12.500</td>\n",
       "      <td>...</td>\n",
       "      <td>0.021778</td>\n",
       "      <td>0.912890</td>\n",
       "      <td>0.759168</td>\n",
       "      <td>0.162572</td>\n",
       "      <td>0.383593</td>\n",
       "      <td>0.130449</td>\n",
       "      <td>0.082553</td>\n",
       "      <td>2.0</td>\n",
       "      <td>1.982033</td>\n",
       "      <td>0.524097</td>\n",
       "    </tr>\n",
       "    <tr>\n",
       "      <th>2</th>\n",
       "      <td>P19</td>\n",
       "      <td>training</td>\n",
       "      <td>guided</td>\n",
       "      <td>0.296865</td>\n",
       "      <td>0.097189</td>\n",
       "      <td>0.238486</td>\n",
       "      <td>0.367459</td>\n",
       "      <td>10.984</td>\n",
       "      <td>3.596</td>\n",
       "      <td>8.824</td>\n",
       "      <td>...</td>\n",
       "      <td>0.018241</td>\n",
       "      <td>0.948220</td>\n",
       "      <td>0.683006</td>\n",
       "      <td>0.195897</td>\n",
       "      <td>0.078354</td>\n",
       "      <td>0.193590</td>\n",
       "      <td>0.215166</td>\n",
       "      <td>2.0</td>\n",
       "      <td>1.870929</td>\n",
       "      <td>0.370989</td>\n",
       "    </tr>\n",
       "    <tr>\n",
       "      <th>3</th>\n",
       "      <td>P19</td>\n",
       "      <td>training</td>\n",
       "      <td>self-guided</td>\n",
       "      <td>0.250200</td>\n",
       "      <td>0.221067</td>\n",
       "      <td>0.250867</td>\n",
       "      <td>0.277867</td>\n",
       "      <td>15.012</td>\n",
       "      <td>13.264</td>\n",
       "      <td>15.052</td>\n",
       "      <td>...</td>\n",
       "      <td>0.019194</td>\n",
       "      <td>0.929463</td>\n",
       "      <td>0.690942</td>\n",
       "      <td>0.177679</td>\n",
       "      <td>0.128834</td>\n",
       "      <td>0.264577</td>\n",
       "      <td>0.119851</td>\n",
       "      <td>2.0</td>\n",
       "      <td>1.995322</td>\n",
       "      <td>0.506433</td>\n",
       "    </tr>\n",
       "    <tr>\n",
       "      <th>4</th>\n",
       "      <td>P19</td>\n",
       "      <td>slow</td>\n",
       "      <td>guided</td>\n",
       "      <td>0.184766</td>\n",
       "      <td>0.358298</td>\n",
       "      <td>0.152085</td>\n",
       "      <td>0.304851</td>\n",
       "      <td>8.684</td>\n",
       "      <td>16.840</td>\n",
       "      <td>7.148</td>\n",
       "      <td>...</td>\n",
       "      <td>0.015634</td>\n",
       "      <td>0.927694</td>\n",
       "      <td>0.496745</td>\n",
       "      <td>0.117303</td>\n",
       "      <td>0.183319</td>\n",
       "      <td>0.078563</td>\n",
       "      <td>0.117561</td>\n",
       "      <td>2.0</td>\n",
       "      <td>1.916372</td>\n",
       "      <td>0.451174</td>\n",
       "    </tr>\n",
       "    <tr>\n",
       "      <th>...</th>\n",
       "      <td>...</td>\n",
       "      <td>...</td>\n",
       "      <td>...</td>\n",
       "      <td>...</td>\n",
       "      <td>...</td>\n",
       "      <td>...</td>\n",
       "      <td>...</td>\n",
       "      <td>...</td>\n",
       "      <td>...</td>\n",
       "      <td>...</td>\n",
       "      <td>...</td>\n",
       "      <td>...</td>\n",
       "      <td>...</td>\n",
       "      <td>...</td>\n",
       "      <td>...</td>\n",
       "      <td>...</td>\n",
       "      <td>...</td>\n",
       "      <td>...</td>\n",
       "      <td>...</td>\n",
       "      <td>...</td>\n",
       "      <td>...</td>\n",
       "    </tr>\n",
       "    <tr>\n",
       "      <th>355</th>\n",
       "      <td>P20</td>\n",
       "      <td>start</td>\n",
       "      <td>self-guided</td>\n",
       "      <td>0.244000</td>\n",
       "      <td>0.257043</td>\n",
       "      <td>0.195043</td>\n",
       "      <td>0.303913</td>\n",
       "      <td>11.224</td>\n",
       "      <td>11.824</td>\n",
       "      <td>8.972</td>\n",
       "      <td>...</td>\n",
       "      <td>0.030901</td>\n",
       "      <td>0.903004</td>\n",
       "      <td>0.767544</td>\n",
       "      <td>0.176991</td>\n",
       "      <td>0.271176</td>\n",
       "      <td>0.062497</td>\n",
       "      <td>0.256879</td>\n",
       "      <td>2.0</td>\n",
       "      <td>1.982478</td>\n",
       "      <td>0.660350</td>\n",
       "    </tr>\n",
       "    <tr>\n",
       "      <th>356</th>\n",
       "      <td>P20</td>\n",
       "      <td>fitness</td>\n",
       "      <td>guided</td>\n",
       "      <td>0.330703</td>\n",
       "      <td>0.315459</td>\n",
       "      <td>0.169297</td>\n",
       "      <td>0.184541</td>\n",
       "      <td>12.236</td>\n",
       "      <td>11.672</td>\n",
       "      <td>6.264</td>\n",
       "      <td>...</td>\n",
       "      <td>0.019918</td>\n",
       "      <td>0.878149</td>\n",
       "      <td>0.766467</td>\n",
       "      <td>0.319659</td>\n",
       "      <td>0.311013</td>\n",
       "      <td>0.043526</td>\n",
       "      <td>0.092270</td>\n",
       "      <td>2.0</td>\n",
       "      <td>1.936716</td>\n",
       "      <td>0.623212</td>\n",
       "    </tr>\n",
       "    <tr>\n",
       "      <th>357</th>\n",
       "      <td>P20</td>\n",
       "      <td>fitness</td>\n",
       "      <td>self-guided</td>\n",
       "      <td>0.347267</td>\n",
       "      <td>0.280000</td>\n",
       "      <td>0.120200</td>\n",
       "      <td>0.252533</td>\n",
       "      <td>20.836</td>\n",
       "      <td>16.800</td>\n",
       "      <td>7.212</td>\n",
       "      <td>...</td>\n",
       "      <td>0.009770</td>\n",
       "      <td>0.894375</td>\n",
       "      <td>0.805037</td>\n",
       "      <td>0.392133</td>\n",
       "      <td>0.248939</td>\n",
       "      <td>0.028345</td>\n",
       "      <td>0.135620</td>\n",
       "      <td>2.0</td>\n",
       "      <td>1.912893</td>\n",
       "      <td>0.626463</td>\n",
       "    </tr>\n",
       "    <tr>\n",
       "      <th>358</th>\n",
       "      <td>P20</td>\n",
       "      <td>your</td>\n",
       "      <td>guided</td>\n",
       "      <td>0.267800</td>\n",
       "      <td>0.352000</td>\n",
       "      <td>0.148500</td>\n",
       "      <td>0.231700</td>\n",
       "      <td>10.712</td>\n",
       "      <td>14.080</td>\n",
       "      <td>5.940</td>\n",
       "      <td>...</td>\n",
       "      <td>0.013379</td>\n",
       "      <td>0.889944</td>\n",
       "      <td>0.770506</td>\n",
       "      <td>0.248660</td>\n",
       "      <td>0.333379</td>\n",
       "      <td>0.035835</td>\n",
       "      <td>0.152632</td>\n",
       "      <td>2.0</td>\n",
       "      <td>1.936666</td>\n",
       "      <td>0.644831</td>\n",
       "    </tr>\n",
       "    <tr>\n",
       "      <th>359</th>\n",
       "      <td>P20</td>\n",
       "      <td>your</td>\n",
       "      <td>self-guided</td>\n",
       "      <td>0.323733</td>\n",
       "      <td>0.241067</td>\n",
       "      <td>0.155133</td>\n",
       "      <td>0.280067</td>\n",
       "      <td>19.424</td>\n",
       "      <td>14.464</td>\n",
       "      <td>9.308</td>\n",
       "      <td>...</td>\n",
       "      <td>0.017615</td>\n",
       "      <td>0.906451</td>\n",
       "      <td>0.804421</td>\n",
       "      <td>0.378434</td>\n",
       "      <td>0.190348</td>\n",
       "      <td>0.039485</td>\n",
       "      <td>0.196155</td>\n",
       "      <td>2.0</td>\n",
       "      <td>1.952852</td>\n",
       "      <td>0.652335</td>\n",
       "    </tr>\n",
       "  </tbody>\n",
       "</table>\n",
       "<p>360 rows × 51 columns</p>\n",
       "</div>"
      ],
      "text/plain": [
       "    name    activity    imagining  probability_A  probability_B  \\\n",
       "0    P19  successful       guided       0.334737       0.250526   \n",
       "1    P19  successful  self-guided       0.250867       0.314267   \n",
       "2    P19    training       guided       0.296865       0.097189   \n",
       "3    P19    training  self-guided       0.250200       0.221067   \n",
       "4    P19        slow       guided       0.184766       0.358298   \n",
       "..   ...         ...          ...            ...            ...   \n",
       "355  P20       start  self-guided       0.244000       0.257043   \n",
       "356  P20     fitness       guided       0.330703       0.315459   \n",
       "357  P20     fitness  self-guided       0.347267       0.280000   \n",
       "358  P20        your       guided       0.267800       0.352000   \n",
       "359  P20        your  self-guided       0.323733       0.241067   \n",
       "\n",
       "     probability_C  probability_D  time_A  time_B  time_C  ...     P_D_C  \\\n",
       "0         0.114947       0.299789  12.720   9.520   4.368  ...  0.009480   \n",
       "1         0.208333       0.226533  15.052  18.856  12.500  ...  0.021778   \n",
       "2         0.238486       0.367459  10.984   3.596   8.824  ...  0.018241   \n",
       "3         0.250867       0.277867  15.012  13.264  15.052  ...  0.019194   \n",
       "4         0.152085       0.304851   8.684  16.840   7.148  ...  0.015634   \n",
       "..             ...            ...     ...     ...     ...  ...       ...   \n",
       "355       0.195043       0.303913  11.224  11.824   8.972  ...  0.030901   \n",
       "356       0.169297       0.184541  12.236  11.672   6.264  ...  0.019918   \n",
       "357       0.120200       0.252533  20.836  16.800   7.212  ...  0.009770   \n",
       "358       0.148500       0.231700  10.712  14.080   5.940  ...  0.013379   \n",
       "359       0.155133       0.280067  19.424  14.464   9.308  ...  0.017615   \n",
       "\n",
       "        P_D_D  GEV_total     GEV_A     GEV_B     GEV_C     GEV_D  max_entropy  \\\n",
       "0    0.928020   0.625059  0.208141  0.231092  0.087980  0.097846          2.0   \n",
       "1    0.912890   0.759168  0.162572  0.383593  0.130449  0.082553          2.0   \n",
       "2    0.948220   0.683006  0.195897  0.078354  0.193590  0.215166          2.0   \n",
       "3    0.929463   0.690942  0.177679  0.128834  0.264577  0.119851          2.0   \n",
       "4    0.927694   0.496745  0.117303  0.183319  0.078563  0.117561          2.0   \n",
       "..        ...        ...       ...       ...       ...       ...          ...   \n",
       "355  0.903004   0.767544  0.176991  0.271176  0.062497  0.256879          2.0   \n",
       "356  0.878149   0.766467  0.319659  0.311013  0.043526  0.092270          2.0   \n",
       "357  0.894375   0.805037  0.392133  0.248939  0.028345  0.135620          2.0   \n",
       "358  0.889944   0.770506  0.248660  0.333379  0.035835  0.152632          2.0   \n",
       "359  0.906451   0.804421  0.378434  0.190348  0.039485  0.196155          2.0   \n",
       "\n",
       "      entropy  mc_entropy  \n",
       "0    1.908582    0.467345  \n",
       "1    1.982033    0.524097  \n",
       "2    1.870929    0.370989  \n",
       "3    1.995322    0.506433  \n",
       "4    1.916372    0.451174  \n",
       "..        ...         ...  \n",
       "355  1.982478    0.660350  \n",
       "356  1.936716    0.623212  \n",
       "357  1.912893    0.626463  \n",
       "358  1.936666    0.644831  \n",
       "359  1.952852    0.652335  \n",
       "\n",
       "[360 rows x 51 columns]"
      ]
     },
     "execution_count": 7,
     "metadata": {},
     "output_type": "execute_result"
    }
   ],
   "source": [
    "base_df"
   ]
  },
  {
   "cell_type": "code",
   "execution_count": 8,
   "metadata": {},
   "outputs": [],
   "source": [
    "categorical_columns = base_df.select_dtypes(include=['object']).columns.tolist()\n",
    "encoder = OneHotEncoder(sparse_output=False)\n",
    "\n",
    "one_hot_encoded = encoder.fit_transform(base_df[categorical_columns])\n",
    "one_hot_df = pd.DataFrame(one_hot_encoded, columns=encoder.get_feature_names_out(categorical_columns))\n",
    "df_encoded = pd.concat([base_df, one_hot_df], axis=1)\n",
    "\n",
    "df_encoded = df_encoded.drop(categorical_columns, axis=1)"
   ]
  },
  {
   "cell_type": "code",
   "execution_count": 9,
   "metadata": {},
   "outputs": [],
   "source": [
    "# with pd.option_context('display.max_rows', None, 'display.max_columns', None):  # more options can be specified also\n",
    "#     display(df_encoded)"
   ]
  },
  {
   "cell_type": "code",
   "execution_count": 10,
   "metadata": {},
   "outputs": [
    {
     "data": {
      "application/vnd.plotly.v1+json": {
       "config": {
        "plotlyServerURL": "https://plot.ly"
       },
       "data": [
        {
         "coloraxis": "coloraxis",
         "hovertemplate": "x: %{x}<br>y: %{y}<br>Correlation: %{z}<extra></extra>",
         "name": "0",
         "type": "heatmap",
         "x": [
          "probability_A",
          "probability_B",
          "probability_C",
          "probability_D",
          "time_A",
          "time_B",
          "time_C",
          "time_D",
          "A_min",
          "A_max",
          "A_mean",
          "A_std",
          "B_min",
          "B_max",
          "B_mean",
          "B_std",
          "C_min",
          "C_max",
          "C_mean",
          "C_std",
          "D_min",
          "D_max",
          "D_mean",
          "D_std",
          "P_A_A",
          "P_A_B",
          "P_A_C",
          "P_A_D",
          "P_B_A",
          "P_B_B",
          "P_B_C",
          "P_B_D",
          "P_C_A",
          "P_C_B",
          "P_C_C",
          "P_C_D",
          "P_D_A",
          "P_D_B",
          "P_D_C",
          "P_D_D",
          "GEV_total",
          "GEV_A",
          "GEV_B",
          "GEV_C",
          "GEV_D",
          "max_entropy",
          "entropy",
          "mc_entropy",
          "name_P01",
          "name_P02",
          "name_P03",
          "name_P04",
          "name_P05",
          "name_P06",
          "name_P07",
          "name_P08",
          "name_P09",
          "name_P10",
          "name_P11",
          "name_P12",
          "name_P13",
          "name_P14",
          "name_P15",
          "name_P16",
          "name_P17",
          "name_P18",
          "name_P19",
          "name_P20",
          "name_P21",
          "name_P22",
          "name_P23",
          "name_P24",
          "name_P25",
          "name_P26",
          "name_P27",
          "name_P28",
          "name_P29",
          "name_P30",
          "activity_fitness",
          "activity_slow",
          "activity_start",
          "activity_successful",
          "activity_training",
          "activity_your",
          "imagining_guided",
          "imagining_self-guided"
         ],
         "xaxis": "x",
         "y": [
          "probability_A",
          "probability_B",
          "probability_C",
          "probability_D",
          "time_A",
          "time_B",
          "time_C",
          "time_D",
          "A_min",
          "A_max",
          "A_mean",
          "A_std",
          "B_min",
          "B_max",
          "B_mean",
          "B_std",
          "C_min",
          "C_max",
          "C_mean",
          "C_std",
          "D_min",
          "D_max",
          "D_mean",
          "D_std",
          "P_A_A",
          "P_A_B",
          "P_A_C",
          "P_A_D",
          "P_B_A",
          "P_B_B",
          "P_B_C",
          "P_B_D",
          "P_C_A",
          "P_C_B",
          "P_C_C",
          "P_C_D",
          "P_D_A",
          "P_D_B",
          "P_D_C",
          "P_D_D",
          "GEV_total",
          "GEV_A",
          "GEV_B",
          "GEV_C",
          "GEV_D",
          "max_entropy",
          "entropy",
          "mc_entropy",
          "name_P01",
          "name_P02",
          "name_P03",
          "name_P04",
          "name_P05",
          "name_P06",
          "name_P07",
          "name_P08",
          "name_P09",
          "name_P10",
          "name_P11",
          "name_P12",
          "name_P13",
          "name_P14",
          "name_P15",
          "name_P16",
          "name_P17",
          "name_P18",
          "name_P19",
          "name_P20",
          "name_P21",
          "name_P22",
          "name_P23",
          "name_P24",
          "name_P25",
          "name_P26",
          "name_P27",
          "name_P28",
          "name_P29",
          "name_P30",
          "activity_fitness",
          "activity_slow",
          "activity_start",
          "activity_successful",
          "activity_training",
          "activity_your",
          "imagining_guided",
          "imagining_self-guided"
         ],
         "yaxis": "y",
         "z": {
          "bdata": "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",
          "dtype": "f8",
          "shape": "86, 86"
         }
        }
       ],
       "layout": {
        "coloraxis": {
         "cmax": 1,
         "cmin": -1,
         "colorbar": {
          "title": {
           "text": "Correlation"
          }
         },
         "colorscale": [
          [
           0,
           "rgb(5,48,97)"
          ],
          [
           0.1,
           "rgb(33,102,172)"
          ],
          [
           0.2,
           "rgb(67,147,195)"
          ],
          [
           0.3,
           "rgb(146,197,222)"
          ],
          [
           0.4,
           "rgb(209,229,240)"
          ],
          [
           0.5,
           "rgb(247,247,247)"
          ],
          [
           0.6,
           "rgb(253,219,199)"
          ],
          [
           0.7,
           "rgb(244,165,130)"
          ],
          [
           0.8,
           "rgb(214,96,77)"
          ],
          [
           0.9,
           "rgb(178,24,43)"
          ],
          [
           1,
           "rgb(103,0,31)"
          ]
         ]
        },
        "height": 800,
        "margin": {
         "t": 60
        },
        "template": {
         "data": {
          "bar": [
           {
            "error_x": {
             "color": "#2a3f5f"
            },
            "error_y": {
             "color": "#2a3f5f"
            },
            "marker": {
             "line": {
              "color": "#E5ECF6",
              "width": 0.5
             },
             "pattern": {
              "fillmode": "overlay",
              "size": 10,
              "solidity": 0.2
             }
            },
            "type": "bar"
           }
          ],
          "barpolar": [
           {
            "marker": {
             "line": {
              "color": "#E5ECF6",
              "width": 0.5
             },
             "pattern": {
              "fillmode": "overlay",
              "size": 10,
              "solidity": 0.2
             }
            },
            "type": "barpolar"
           }
          ],
          "carpet": [
           {
            "aaxis": {
             "endlinecolor": "#2a3f5f",
             "gridcolor": "white",
             "linecolor": "white",
             "minorgridcolor": "white",
             "startlinecolor": "#2a3f5f"
            },
            "baxis": {
             "endlinecolor": "#2a3f5f",
             "gridcolor": "white",
             "linecolor": "white",
             "minorgridcolor": "white",
             "startlinecolor": "#2a3f5f"
            },
            "type": "carpet"
           }
          ],
          "choropleth": [
           {
            "colorbar": {
             "outlinewidth": 0,
             "ticks": ""
            },
            "type": "choropleth"
           }
          ],
          "contour": [
           {
            "colorbar": {
             "outlinewidth": 0,
             "ticks": ""
            },
            "colorscale": [
             [
              0,
              "#0d0887"
             ],
             [
              0.1111111111111111,
              "#46039f"
             ],
             [
              0.2222222222222222,
              "#7201a8"
             ],
             [
              0.3333333333333333,
              "#9c179e"
             ],
             [
              0.4444444444444444,
              "#bd3786"
             ],
             [
              0.5555555555555556,
              "#d8576b"
             ],
             [
              0.6666666666666666,
              "#ed7953"
             ],
             [
              0.7777777777777778,
              "#fb9f3a"
             ],
             [
              0.8888888888888888,
              "#fdca26"
             ],
             [
              1,
              "#f0f921"
             ]
            ],
            "type": "contour"
           }
          ],
          "contourcarpet": [
           {
            "colorbar": {
             "outlinewidth": 0,
             "ticks": ""
            },
            "type": "contourcarpet"
           }
          ],
          "heatmap": [
           {
            "colorbar": {
             "outlinewidth": 0,
             "ticks": ""
            },
            "colorscale": [
             [
              0,
              "#0d0887"
             ],
             [
              0.1111111111111111,
              "#46039f"
             ],
             [
              0.2222222222222222,
              "#7201a8"
             ],
             [
              0.3333333333333333,
              "#9c179e"
             ],
             [
              0.4444444444444444,
              "#bd3786"
             ],
             [
              0.5555555555555556,
              "#d8576b"
             ],
             [
              0.6666666666666666,
              "#ed7953"
             ],
             [
              0.7777777777777778,
              "#fb9f3a"
             ],
             [
              0.8888888888888888,
              "#fdca26"
             ],
             [
              1,
              "#f0f921"
             ]
            ],
            "type": "heatmap"
           }
          ],
          "histogram": [
           {
            "marker": {
             "pattern": {
              "fillmode": "overlay",
              "size": 10,
              "solidity": 0.2
             }
            },
            "type": "histogram"
           }
          ],
          "histogram2d": [
           {
            "colorbar": {
             "outlinewidth": 0,
             "ticks": ""
            },
            "colorscale": [
             [
              0,
              "#0d0887"
             ],
             [
              0.1111111111111111,
              "#46039f"
             ],
             [
              0.2222222222222222,
              "#7201a8"
             ],
             [
              0.3333333333333333,
              "#9c179e"
             ],
             [
              0.4444444444444444,
              "#bd3786"
             ],
             [
              0.5555555555555556,
              "#d8576b"
             ],
             [
              0.6666666666666666,
              "#ed7953"
             ],
             [
              0.7777777777777778,
              "#fb9f3a"
             ],
             [
              0.8888888888888888,
              "#fdca26"
             ],
             [
              1,
              "#f0f921"
             ]
            ],
            "type": "histogram2d"
           }
          ],
          "histogram2dcontour": [
           {
            "colorbar": {
             "outlinewidth": 0,
             "ticks": ""
            },
            "colorscale": [
             [
              0,
              "#0d0887"
             ],
             [
              0.1111111111111111,
              "#46039f"
             ],
             [
              0.2222222222222222,
              "#7201a8"
             ],
             [
              0.3333333333333333,
              "#9c179e"
             ],
             [
              0.4444444444444444,
              "#bd3786"
             ],
             [
              0.5555555555555556,
              "#d8576b"
             ],
             [
              0.6666666666666666,
              "#ed7953"
             ],
             [
              0.7777777777777778,
              "#fb9f3a"
             ],
             [
              0.8888888888888888,
              "#fdca26"
             ],
             [
              1,
              "#f0f921"
             ]
            ],
            "type": "histogram2dcontour"
           }
          ],
          "mesh3d": [
           {
            "colorbar": {
             "outlinewidth": 0,
             "ticks": ""
            },
            "type": "mesh3d"
           }
          ],
          "parcoords": [
           {
            "line": {
             "colorbar": {
              "outlinewidth": 0,
              "ticks": ""
             }
            },
            "type": "parcoords"
           }
          ],
          "pie": [
           {
            "automargin": true,
            "type": "pie"
           }
          ],
          "scatter": [
           {
            "fillpattern": {
             "fillmode": "overlay",
             "size": 10,
             "solidity": 0.2
            },
            "type": "scatter"
           }
          ],
          "scatter3d": [
           {
            "line": {
             "colorbar": {
              "outlinewidth": 0,
              "ticks": ""
             }
            },
            "marker": {
             "colorbar": {
              "outlinewidth": 0,
              "ticks": ""
             }
            },
            "type": "scatter3d"
           }
          ],
          "scattercarpet": [
           {
            "marker": {
             "colorbar": {
              "outlinewidth": 0,
              "ticks": ""
             }
            },
            "type": "scattercarpet"
           }
          ],
          "scattergeo": [
           {
            "marker": {
             "colorbar": {
              "outlinewidth": 0,
              "ticks": ""
             }
            },
            "type": "scattergeo"
           }
          ],
          "scattergl": [
           {
            "marker": {
             "colorbar": {
              "outlinewidth": 0,
              "ticks": ""
             }
            },
            "type": "scattergl"
           }
          ],
          "scattermap": [
           {
            "marker": {
             "colorbar": {
              "outlinewidth": 0,
              "ticks": ""
             }
            },
            "type": "scattermap"
           }
          ],
          "scattermapbox": [
           {
            "marker": {
             "colorbar": {
              "outlinewidth": 0,
              "ticks": ""
             }
            },
            "type": "scattermapbox"
           }
          ],
          "scatterpolar": [
           {
            "marker": {
             "colorbar": {
              "outlinewidth": 0,
              "ticks": ""
             }
            },
            "type": "scatterpolar"
           }
          ],
          "scatterpolargl": [
           {
            "marker": {
             "colorbar": {
              "outlinewidth": 0,
              "ticks": ""
             }
            },
            "type": "scatterpolargl"
           }
          ],
          "scatterternary": [
           {
            "marker": {
             "colorbar": {
              "outlinewidth": 0,
              "ticks": ""
             }
            },
            "type": "scatterternary"
           }
          ],
          "surface": [
           {
            "colorbar": {
             "outlinewidth": 0,
             "ticks": ""
            },
            "colorscale": [
             [
              0,
              "#0d0887"
             ],
             [
              0.1111111111111111,
              "#46039f"
             ],
             [
              0.2222222222222222,
              "#7201a8"
             ],
             [
              0.3333333333333333,
              "#9c179e"
             ],
             [
              0.4444444444444444,
              "#bd3786"
             ],
             [
              0.5555555555555556,
              "#d8576b"
             ],
             [
              0.6666666666666666,
              "#ed7953"
             ],
             [
              0.7777777777777778,
              "#fb9f3a"
             ],
             [
              0.8888888888888888,
              "#fdca26"
             ],
             [
              1,
              "#f0f921"
             ]
            ],
            "type": "surface"
           }
          ],
          "table": [
           {
            "cells": {
             "fill": {
              "color": "#EBF0F8"
             },
             "line": {
              "color": "white"
             }
            },
            "header": {
             "fill": {
              "color": "#C8D4E3"
             },
             "line": {
              "color": "white"
             }
            },
            "type": "table"
           }
          ]
         },
         "layout": {
          "annotationdefaults": {
           "arrowcolor": "#2a3f5f",
           "arrowhead": 0,
           "arrowwidth": 1
          },
          "autotypenumbers": "strict",
          "coloraxis": {
           "colorbar": {
            "outlinewidth": 0,
            "ticks": ""
           }
          },
          "colorscale": {
           "diverging": [
            [
             0,
             "#8e0152"
            ],
            [
             0.1,
             "#c51b7d"
            ],
            [
             0.2,
             "#de77ae"
            ],
            [
             0.3,
             "#f1b6da"
            ],
            [
             0.4,
             "#fde0ef"
            ],
            [
             0.5,
             "#f7f7f7"
            ],
            [
             0.6,
             "#e6f5d0"
            ],
            [
             0.7,
             "#b8e186"
            ],
            [
             0.8,
             "#7fbc41"
            ],
            [
             0.9,
             "#4d9221"
            ],
            [
             1,
             "#276419"
            ]
           ],
           "sequential": [
            [
             0,
             "#0d0887"
            ],
            [
             0.1111111111111111,
             "#46039f"
            ],
            [
             0.2222222222222222,
             "#7201a8"
            ],
            [
             0.3333333333333333,
             "#9c179e"
            ],
            [
             0.4444444444444444,
             "#bd3786"
            ],
            [
             0.5555555555555556,
             "#d8576b"
            ],
            [
             0.6666666666666666,
             "#ed7953"
            ],
            [
             0.7777777777777778,
             "#fb9f3a"
            ],
            [
             0.8888888888888888,
             "#fdca26"
            ],
            [
             1,
             "#f0f921"
            ]
           ],
           "sequentialminus": [
            [
             0,
             "#0d0887"
            ],
            [
             0.1111111111111111,
             "#46039f"
            ],
            [
             0.2222222222222222,
             "#7201a8"
            ],
            [
             0.3333333333333333,
             "#9c179e"
            ],
            [
             0.4444444444444444,
             "#bd3786"
            ],
            [
             0.5555555555555556,
             "#d8576b"
            ],
            [
             0.6666666666666666,
             "#ed7953"
            ],
            [
             0.7777777777777778,
             "#fb9f3a"
            ],
            [
             0.8888888888888888,
             "#fdca26"
            ],
            [
             1,
             "#f0f921"
            ]
           ]
          },
          "colorway": [
           "#636efa",
           "#EF553B",
           "#00cc96",
           "#ab63fa",
           "#FFA15A",
           "#19d3f3",
           "#FF6692",
           "#B6E880",
           "#FF97FF",
           "#FECB52"
          ],
          "font": {
           "color": "#2a3f5f"
          },
          "geo": {
           "bgcolor": "white",
           "lakecolor": "white",
           "landcolor": "#E5ECF6",
           "showlakes": true,
           "showland": true,
           "subunitcolor": "white"
          },
          "hoverlabel": {
           "align": "left"
          },
          "hovermode": "closest",
          "mapbox": {
           "style": "light"
          },
          "paper_bgcolor": "white",
          "plot_bgcolor": "#E5ECF6",
          "polar": {
           "angularaxis": {
            "gridcolor": "white",
            "linecolor": "white",
            "ticks": ""
           },
           "bgcolor": "#E5ECF6",
           "radialaxis": {
            "gridcolor": "white",
            "linecolor": "white",
            "ticks": ""
           }
          },
          "scene": {
           "xaxis": {
            "backgroundcolor": "#E5ECF6",
            "gridcolor": "white",
            "gridwidth": 2,
            "linecolor": "white",
            "showbackground": true,
            "ticks": "",
            "zerolinecolor": "white"
           },
           "yaxis": {
            "backgroundcolor": "#E5ECF6",
            "gridcolor": "white",
            "gridwidth": 2,
            "linecolor": "white",
            "showbackground": true,
            "ticks": "",
            "zerolinecolor": "white"
           },
           "zaxis": {
            "backgroundcolor": "#E5ECF6",
            "gridcolor": "white",
            "gridwidth": 2,
            "linecolor": "white",
            "showbackground": true,
            "ticks": "",
            "zerolinecolor": "white"
           }
          },
          "shapedefaults": {
           "line": {
            "color": "#2a3f5f"
           }
          },
          "ternary": {
           "aaxis": {
            "gridcolor": "white",
            "linecolor": "white",
            "ticks": ""
           },
           "baxis": {
            "gridcolor": "white",
            "linecolor": "white",
            "ticks": ""
           },
           "bgcolor": "#E5ECF6",
           "caxis": {
            "gridcolor": "white",
            "linecolor": "white",
            "ticks": ""
           }
          },
          "title": {
           "x": 0.05
          },
          "xaxis": {
           "automargin": true,
           "gridcolor": "white",
           "linecolor": "white",
           "ticks": "",
           "title": {
            "standoff": 15
           },
           "zerolinecolor": "white",
           "zerolinewidth": 2
          },
          "yaxis": {
           "automargin": true,
           "gridcolor": "white",
           "linecolor": "white",
           "ticks": "",
           "title": {
            "standoff": 15
           },
           "zerolinecolor": "white",
           "zerolinewidth": 2
          }
         }
        },
        "title": {
         "text": "Correlation Matrix Heatmap"
        },
        "width": 1000,
        "xaxis": {
         "anchor": "y",
         "constrain": "domain",
         "domain": [
          0,
          1
         ],
         "scaleanchor": "y",
         "title": {
          "text": "Features"
         }
        },
        "yaxis": {
         "anchor": "x",
         "autorange": "reversed",
         "constrain": "domain",
         "domain": [
          0,
          1
         ],
         "title": {
          "text": "Features"
         }
        }
       }
      }
     },
     "metadata": {},
     "output_type": "display_data"
    }
   ],
   "source": [
    "import plotly.express as px\n",
    "\n",
    "# Calculate the correlation matrix\n",
    "correlation_matrix = df_encoded.corr()\n",
    "\n",
    "# Create the heatmap\n",
    "fig = px.imshow(correlation_matrix, \n",
    "                labels=dict(color=\"Correlation\"),\n",
    "                x=correlation_matrix.columns,\n",
    "                y=correlation_matrix.columns,\n",
    "                color_continuous_scale='RdBu_r',\n",
    "                zmin=-1, zmax=1)\n",
    "\n",
    "# Update layout for better readability\n",
    "fig.update_layout(\n",
    "    title='Correlation Matrix Heatmap',\n",
    "    xaxis_title='Features',\n",
    "    yaxis_title='Features',\n",
    "    width=1000,\n",
    "    height=800\n",
    ")\n",
    "\n",
    "# Show the plot\n",
    "fig.show()"
   ]
  },
  {
   "cell_type": "markdown",
   "metadata": {},
   "source": [
    "## K-Means"
   ]
  },
  {
   "cell_type": "code",
   "execution_count": 11,
   "metadata": {},
   "outputs": [
    {
     "data": {
      "application/vnd.plotly.v1+json": {
       "config": {
        "plotlyServerURL": "https://plot.ly"
       },
       "data": [
        {
         "line": {
          "dash": "dash"
         },
         "marker": {
          "color": "red"
         },
         "mode": "lines+markers",
         "type": "scatter",
         "x": [
          1,
          2,
          3,
          4,
          5,
          6,
          7,
          8,
          9,
          10,
          11,
          12,
          13,
          14,
          15,
          16,
          17,
          18,
          19,
          20
         ],
         "y": [
          30600.00000000001,
          27379.41725230906,
          26270.8278707262,
          25066.023710286478,
          24439.569530163375,
          23803.03970795825,
          23378.979714388402,
          22383.013133708137,
          21900.76334370277,
          21544.811221709744,
          21377.98975102436,
          21084.613467003328,
          20592.524237595302,
          20252.69052354433,
          19724.19273677914,
          19119.278682651595,
          18804.499759596,
          18329.441863328764,
          17946.21471400041,
          17626.68032579893
         ]
        }
       ],
       "layout": {
        "height": 600,
        "template": {
         "data": {
          "bar": [
           {
            "error_x": {
             "color": "#2a3f5f"
            },
            "error_y": {
             "color": "#2a3f5f"
            },
            "marker": {
             "line": {
              "color": "#E5ECF6",
              "width": 0.5
             },
             "pattern": {
              "fillmode": "overlay",
              "size": 10,
              "solidity": 0.2
             }
            },
            "type": "bar"
           }
          ],
          "barpolar": [
           {
            "marker": {
             "line": {
              "color": "#E5ECF6",
              "width": 0.5
             },
             "pattern": {
              "fillmode": "overlay",
              "size": 10,
              "solidity": 0.2
             }
            },
            "type": "barpolar"
           }
          ],
          "carpet": [
           {
            "aaxis": {
             "endlinecolor": "#2a3f5f",
             "gridcolor": "white",
             "linecolor": "white",
             "minorgridcolor": "white",
             "startlinecolor": "#2a3f5f"
            },
            "baxis": {
             "endlinecolor": "#2a3f5f",
             "gridcolor": "white",
             "linecolor": "white",
             "minorgridcolor": "white",
             "startlinecolor": "#2a3f5f"
            },
            "type": "carpet"
           }
          ],
          "choropleth": [
           {
            "colorbar": {
             "outlinewidth": 0,
             "ticks": ""
            },
            "type": "choropleth"
           }
          ],
          "contour": [
           {
            "colorbar": {
             "outlinewidth": 0,
             "ticks": ""
            },
            "colorscale": [
             [
              0,
              "#0d0887"
             ],
             [
              0.1111111111111111,
              "#46039f"
             ],
             [
              0.2222222222222222,
              "#7201a8"
             ],
             [
              0.3333333333333333,
              "#9c179e"
             ],
             [
              0.4444444444444444,
              "#bd3786"
             ],
             [
              0.5555555555555556,
              "#d8576b"
             ],
             [
              0.6666666666666666,
              "#ed7953"
             ],
             [
              0.7777777777777778,
              "#fb9f3a"
             ],
             [
              0.8888888888888888,
              "#fdca26"
             ],
             [
              1,
              "#f0f921"
             ]
            ],
            "type": "contour"
           }
          ],
          "contourcarpet": [
           {
            "colorbar": {
             "outlinewidth": 0,
             "ticks": ""
            },
            "type": "contourcarpet"
           }
          ],
          "heatmap": [
           {
            "colorbar": {
             "outlinewidth": 0,
             "ticks": ""
            },
            "colorscale": [
             [
              0,
              "#0d0887"
             ],
             [
              0.1111111111111111,
              "#46039f"
             ],
             [
              0.2222222222222222,
              "#7201a8"
             ],
             [
              0.3333333333333333,
              "#9c179e"
             ],
             [
              0.4444444444444444,
              "#bd3786"
             ],
             [
              0.5555555555555556,
              "#d8576b"
             ],
             [
              0.6666666666666666,
              "#ed7953"
             ],
             [
              0.7777777777777778,
              "#fb9f3a"
             ],
             [
              0.8888888888888888,
              "#fdca26"
             ],
             [
              1,
              "#f0f921"
             ]
            ],
            "type": "heatmap"
           }
          ],
          "histogram": [
           {
            "marker": {
             "pattern": {
              "fillmode": "overlay",
              "size": 10,
              "solidity": 0.2
             }
            },
            "type": "histogram"
           }
          ],
          "histogram2d": [
           {
            "colorbar": {
             "outlinewidth": 0,
             "ticks": ""
            },
            "colorscale": [
             [
              0,
              "#0d0887"
             ],
             [
              0.1111111111111111,
              "#46039f"
             ],
             [
              0.2222222222222222,
              "#7201a8"
             ],
             [
              0.3333333333333333,
              "#9c179e"
             ],
             [
              0.4444444444444444,
              "#bd3786"
             ],
             [
              0.5555555555555556,
              "#d8576b"
             ],
             [
              0.6666666666666666,
              "#ed7953"
             ],
             [
              0.7777777777777778,
              "#fb9f3a"
             ],
             [
              0.8888888888888888,
              "#fdca26"
             ],
             [
              1,
              "#f0f921"
             ]
            ],
            "type": "histogram2d"
           }
          ],
          "histogram2dcontour": [
           {
            "colorbar": {
             "outlinewidth": 0,
             "ticks": ""
            },
            "colorscale": [
             [
              0,
              "#0d0887"
             ],
             [
              0.1111111111111111,
              "#46039f"
             ],
             [
              0.2222222222222222,
              "#7201a8"
             ],
             [
              0.3333333333333333,
              "#9c179e"
             ],
             [
              0.4444444444444444,
              "#bd3786"
             ],
             [
              0.5555555555555556,
              "#d8576b"
             ],
             [
              0.6666666666666666,
              "#ed7953"
             ],
             [
              0.7777777777777778,
              "#fb9f3a"
             ],
             [
              0.8888888888888888,
              "#fdca26"
             ],
             [
              1,
              "#f0f921"
             ]
            ],
            "type": "histogram2dcontour"
           }
          ],
          "mesh3d": [
           {
            "colorbar": {
             "outlinewidth": 0,
             "ticks": ""
            },
            "type": "mesh3d"
           }
          ],
          "parcoords": [
           {
            "line": {
             "colorbar": {
              "outlinewidth": 0,
              "ticks": ""
             }
            },
            "type": "parcoords"
           }
          ],
          "pie": [
           {
            "automargin": true,
            "type": "pie"
           }
          ],
          "scatter": [
           {
            "fillpattern": {
             "fillmode": "overlay",
             "size": 10,
             "solidity": 0.2
            },
            "type": "scatter"
           }
          ],
          "scatter3d": [
           {
            "line": {
             "colorbar": {
              "outlinewidth": 0,
              "ticks": ""
             }
            },
            "marker": {
             "colorbar": {
              "outlinewidth": 0,
              "ticks": ""
             }
            },
            "type": "scatter3d"
           }
          ],
          "scattercarpet": [
           {
            "marker": {
             "colorbar": {
              "outlinewidth": 0,
              "ticks": ""
             }
            },
            "type": "scattercarpet"
           }
          ],
          "scattergeo": [
           {
            "marker": {
             "colorbar": {
              "outlinewidth": 0,
              "ticks": ""
             }
            },
            "type": "scattergeo"
           }
          ],
          "scattergl": [
           {
            "marker": {
             "colorbar": {
              "outlinewidth": 0,
              "ticks": ""
             }
            },
            "type": "scattergl"
           }
          ],
          "scattermap": [
           {
            "marker": {
             "colorbar": {
              "outlinewidth": 0,
              "ticks": ""
             }
            },
            "type": "scattermap"
           }
          ],
          "scattermapbox": [
           {
            "marker": {
             "colorbar": {
              "outlinewidth": 0,
              "ticks": ""
             }
            },
            "type": "scattermapbox"
           }
          ],
          "scatterpolar": [
           {
            "marker": {
             "colorbar": {
              "outlinewidth": 0,
              "ticks": ""
             }
            },
            "type": "scatterpolar"
           }
          ],
          "scatterpolargl": [
           {
            "marker": {
             "colorbar": {
              "outlinewidth": 0,
              "ticks": ""
             }
            },
            "type": "scatterpolargl"
           }
          ],
          "scatterternary": [
           {
            "marker": {
             "colorbar": {
              "outlinewidth": 0,
              "ticks": ""
             }
            },
            "type": "scatterternary"
           }
          ],
          "surface": [
           {
            "colorbar": {
             "outlinewidth": 0,
             "ticks": ""
            },
            "colorscale": [
             [
              0,
              "#0d0887"
             ],
             [
              0.1111111111111111,
              "#46039f"
             ],
             [
              0.2222222222222222,
              "#7201a8"
             ],
             [
              0.3333333333333333,
              "#9c179e"
             ],
             [
              0.4444444444444444,
              "#bd3786"
             ],
             [
              0.5555555555555556,
              "#d8576b"
             ],
             [
              0.6666666666666666,
              "#ed7953"
             ],
             [
              0.7777777777777778,
              "#fb9f3a"
             ],
             [
              0.8888888888888888,
              "#fdca26"
             ],
             [
              1,
              "#f0f921"
             ]
            ],
            "type": "surface"
           }
          ],
          "table": [
           {
            "cells": {
             "fill": {
              "color": "#EBF0F8"
             },
             "line": {
              "color": "white"
             }
            },
            "header": {
             "fill": {
              "color": "#C8D4E3"
             },
             "line": {
              "color": "white"
             }
            },
            "type": "table"
           }
          ]
         },
         "layout": {
          "annotationdefaults": {
           "arrowcolor": "#2a3f5f",
           "arrowhead": 0,
           "arrowwidth": 1
          },
          "autotypenumbers": "strict",
          "coloraxis": {
           "colorbar": {
            "outlinewidth": 0,
            "ticks": ""
           }
          },
          "colorscale": {
           "diverging": [
            [
             0,
             "#8e0152"
            ],
            [
             0.1,
             "#c51b7d"
            ],
            [
             0.2,
             "#de77ae"
            ],
            [
             0.3,
             "#f1b6da"
            ],
            [
             0.4,
             "#fde0ef"
            ],
            [
             0.5,
             "#f7f7f7"
            ],
            [
             0.6,
             "#e6f5d0"
            ],
            [
             0.7,
             "#b8e186"
            ],
            [
             0.8,
             "#7fbc41"
            ],
            [
             0.9,
             "#4d9221"
            ],
            [
             1,
             "#276419"
            ]
           ],
           "sequential": [
            [
             0,
             "#0d0887"
            ],
            [
             0.1111111111111111,
             "#46039f"
            ],
            [
             0.2222222222222222,
             "#7201a8"
            ],
            [
             0.3333333333333333,
             "#9c179e"
            ],
            [
             0.4444444444444444,
             "#bd3786"
            ],
            [
             0.5555555555555556,
             "#d8576b"
            ],
            [
             0.6666666666666666,
             "#ed7953"
            ],
            [
             0.7777777777777778,
             "#fb9f3a"
            ],
            [
             0.8888888888888888,
             "#fdca26"
            ],
            [
             1,
             "#f0f921"
            ]
           ],
           "sequentialminus": [
            [
             0,
             "#0d0887"
            ],
            [
             0.1111111111111111,
             "#46039f"
            ],
            [
             0.2222222222222222,
             "#7201a8"
            ],
            [
             0.3333333333333333,
             "#9c179e"
            ],
            [
             0.4444444444444444,
             "#bd3786"
            ],
            [
             0.5555555555555556,
             "#d8576b"
            ],
            [
             0.6666666666666666,
             "#ed7953"
            ],
            [
             0.7777777777777778,
             "#fb9f3a"
            ],
            [
             0.8888888888888888,
             "#fdca26"
            ],
            [
             1,
             "#f0f921"
            ]
           ]
          },
          "colorway": [
           "#636efa",
           "#EF553B",
           "#00cc96",
           "#ab63fa",
           "#FFA15A",
           "#19d3f3",
           "#FF6692",
           "#B6E880",
           "#FF97FF",
           "#FECB52"
          ],
          "font": {
           "color": "#2a3f5f"
          },
          "geo": {
           "bgcolor": "white",
           "lakecolor": "white",
           "landcolor": "#E5ECF6",
           "showlakes": true,
           "showland": true,
           "subunitcolor": "white"
          },
          "hoverlabel": {
           "align": "left"
          },
          "hovermode": "closest",
          "mapbox": {
           "style": "light"
          },
          "paper_bgcolor": "white",
          "plot_bgcolor": "#E5ECF6",
          "polar": {
           "angularaxis": {
            "gridcolor": "white",
            "linecolor": "white",
            "ticks": ""
           },
           "bgcolor": "#E5ECF6",
           "radialaxis": {
            "gridcolor": "white",
            "linecolor": "white",
            "ticks": ""
           }
          },
          "scene": {
           "xaxis": {
            "backgroundcolor": "#E5ECF6",
            "gridcolor": "white",
            "gridwidth": 2,
            "linecolor": "white",
            "showbackground": true,
            "ticks": "",
            "zerolinecolor": "white"
           },
           "yaxis": {
            "backgroundcolor": "#E5ECF6",
            "gridcolor": "white",
            "gridwidth": 2,
            "linecolor": "white",
            "showbackground": true,
            "ticks": "",
            "zerolinecolor": "white"
           },
           "zaxis": {
            "backgroundcolor": "#E5ECF6",
            "gridcolor": "white",
            "gridwidth": 2,
            "linecolor": "white",
            "showbackground": true,
            "ticks": "",
            "zerolinecolor": "white"
           }
          },
          "shapedefaults": {
           "line": {
            "color": "#2a3f5f"
           }
          },
          "ternary": {
           "aaxis": {
            "gridcolor": "white",
            "linecolor": "white",
            "ticks": ""
           },
           "baxis": {
            "gridcolor": "white",
            "linecolor": "white",
            "ticks": ""
           },
           "bgcolor": "#E5ECF6",
           "caxis": {
            "gridcolor": "white",
            "linecolor": "white",
            "ticks": ""
           }
          },
          "title": {
           "x": 0.05
          },
          "xaxis": {
           "automargin": true,
           "gridcolor": "white",
           "linecolor": "white",
           "ticks": "",
           "title": {
            "standoff": 15
           },
           "zerolinecolor": "white",
           "zerolinewidth": 2
          },
          "yaxis": {
           "automargin": true,
           "gridcolor": "white",
           "linecolor": "white",
           "ticks": "",
           "title": {
            "standoff": 15
           },
           "zerolinecolor": "white",
           "zerolinewidth": 2
          }
         }
        },
        "title": {
         "text": "Elbow Method"
        },
        "width": 1000,
        "xaxis": {
         "title": {
          "text": "Number of clusters"
         }
        },
        "yaxis": {
         "title": {
          "text": "Inertia"
         }
        }
       }
      }
     },
     "metadata": {},
     "output_type": "display_data"
    }
   ],
   "source": [
    "import plotly.graph_objects as go\n",
    "\n",
    "# Scale the data\n",
    "scaler = StandardScaler()\n",
    "scaled_data = scaler.fit_transform(df_encoded)\n",
    "\n",
    "# Elbow Method\n",
    "wcss = []\n",
    "for i in range(1, 21):\n",
    "    kmeans = KMeans(n_clusters=i, random_state=42)\n",
    "    kmeans.fit(scaled_data)\n",
    "    wcss.append(kmeans.inertia_)\n",
    "\n",
    "# Create the plot\n",
    "fig = go.Figure()\n",
    "fig.add_trace(go.Scatter(x=list(range(1, 21)), y=wcss, mode='lines+markers', marker=dict(color='red'), line=dict(dash='dash')))\n",
    "\n",
    "# Update layout for better readability\n",
    "fig.update_layout(\n",
    "    title='Elbow Method',\n",
    "    xaxis_title='Number of clusters',\n",
    "    yaxis_title='Inertia',\n",
    "    width=1000,\n",
    "    height=600\n",
    ")\n",
    "\n",
    "# Show the plot\n",
    "fig.show()"
   ]
  },
  {
   "cell_type": "code",
   "execution_count": 12,
   "metadata": {},
   "outputs": [
    {
     "data": {
      "application/vnd.plotly.v1+json": {
       "config": {
        "plotlyServerURL": "https://plot.ly"
       },
       "data": [
        {
         "line": {
          "dash": "dash"
         },
         "marker": {
          "color": "red"
         },
         "mode": "lines+markers",
         "type": "scatter",
         "x": [
          2,
          3,
          4,
          5,
          6,
          7,
          8,
          9,
          10,
          11,
          12,
          13,
          14,
          15,
          16,
          17,
          18,
          19,
          20
         ],
         "y": [
          0.1094085749110336,
          0.06160831494300446,
          0.06488947059673578,
          0.058484557027757254,
          0.058872205713509214,
          0.05454251880003229,
          0.07260844286433403,
          0.0748249575727101,
          0.07506965809720252,
          0.06944729220222763,
          0.07311295668147716,
          0.08631160783887927,
          0.09083062740802714,
          0.09920290014840685,
          0.10945150913568094,
          0.11457955646561821,
          0.12484812665672898,
          0.13020721427873302,
          0.13850220748884717
         ]
        }
       ],
       "layout": {
        "height": 600,
        "template": {
         "data": {
          "bar": [
           {
            "error_x": {
             "color": "#2a3f5f"
            },
            "error_y": {
             "color": "#2a3f5f"
            },
            "marker": {
             "line": {
              "color": "#E5ECF6",
              "width": 0.5
             },
             "pattern": {
              "fillmode": "overlay",
              "size": 10,
              "solidity": 0.2
             }
            },
            "type": "bar"
           }
          ],
          "barpolar": [
           {
            "marker": {
             "line": {
              "color": "#E5ECF6",
              "width": 0.5
             },
             "pattern": {
              "fillmode": "overlay",
              "size": 10,
              "solidity": 0.2
             }
            },
            "type": "barpolar"
           }
          ],
          "carpet": [
           {
            "aaxis": {
             "endlinecolor": "#2a3f5f",
             "gridcolor": "white",
             "linecolor": "white",
             "minorgridcolor": "white",
             "startlinecolor": "#2a3f5f"
            },
            "baxis": {
             "endlinecolor": "#2a3f5f",
             "gridcolor": "white",
             "linecolor": "white",
             "minorgridcolor": "white",
             "startlinecolor": "#2a3f5f"
            },
            "type": "carpet"
           }
          ],
          "choropleth": [
           {
            "colorbar": {
             "outlinewidth": 0,
             "ticks": ""
            },
            "type": "choropleth"
           }
          ],
          "contour": [
           {
            "colorbar": {
             "outlinewidth": 0,
             "ticks": ""
            },
            "colorscale": [
             [
              0,
              "#0d0887"
             ],
             [
              0.1111111111111111,
              "#46039f"
             ],
             [
              0.2222222222222222,
              "#7201a8"
             ],
             [
              0.3333333333333333,
              "#9c179e"
             ],
             [
              0.4444444444444444,
              "#bd3786"
             ],
             [
              0.5555555555555556,
              "#d8576b"
             ],
             [
              0.6666666666666666,
              "#ed7953"
             ],
             [
              0.7777777777777778,
              "#fb9f3a"
             ],
             [
              0.8888888888888888,
              "#fdca26"
             ],
             [
              1,
              "#f0f921"
             ]
            ],
            "type": "contour"
           }
          ],
          "contourcarpet": [
           {
            "colorbar": {
             "outlinewidth": 0,
             "ticks": ""
            },
            "type": "contourcarpet"
           }
          ],
          "heatmap": [
           {
            "colorbar": {
             "outlinewidth": 0,
             "ticks": ""
            },
            "colorscale": [
             [
              0,
              "#0d0887"
             ],
             [
              0.1111111111111111,
              "#46039f"
             ],
             [
              0.2222222222222222,
              "#7201a8"
             ],
             [
              0.3333333333333333,
              "#9c179e"
             ],
             [
              0.4444444444444444,
              "#bd3786"
             ],
             [
              0.5555555555555556,
              "#d8576b"
             ],
             [
              0.6666666666666666,
              "#ed7953"
             ],
             [
              0.7777777777777778,
              "#fb9f3a"
             ],
             [
              0.8888888888888888,
              "#fdca26"
             ],
             [
              1,
              "#f0f921"
             ]
            ],
            "type": "heatmap"
           }
          ],
          "histogram": [
           {
            "marker": {
             "pattern": {
              "fillmode": "overlay",
              "size": 10,
              "solidity": 0.2
             }
            },
            "type": "histogram"
           }
          ],
          "histogram2d": [
           {
            "colorbar": {
             "outlinewidth": 0,
             "ticks": ""
            },
            "colorscale": [
             [
              0,
              "#0d0887"
             ],
             [
              0.1111111111111111,
              "#46039f"
             ],
             [
              0.2222222222222222,
              "#7201a8"
             ],
             [
              0.3333333333333333,
              "#9c179e"
             ],
             [
              0.4444444444444444,
              "#bd3786"
             ],
             [
              0.5555555555555556,
              "#d8576b"
             ],
             [
              0.6666666666666666,
              "#ed7953"
             ],
             [
              0.7777777777777778,
              "#fb9f3a"
             ],
             [
              0.8888888888888888,
              "#fdca26"
             ],
             [
              1,
              "#f0f921"
             ]
            ],
            "type": "histogram2d"
           }
          ],
          "histogram2dcontour": [
           {
            "colorbar": {
             "outlinewidth": 0,
             "ticks": ""
            },
            "colorscale": [
             [
              0,
              "#0d0887"
             ],
             [
              0.1111111111111111,
              "#46039f"
             ],
             [
              0.2222222222222222,
              "#7201a8"
             ],
             [
              0.3333333333333333,
              "#9c179e"
             ],
             [
              0.4444444444444444,
              "#bd3786"
             ],
             [
              0.5555555555555556,
              "#d8576b"
             ],
             [
              0.6666666666666666,
              "#ed7953"
             ],
             [
              0.7777777777777778,
              "#fb9f3a"
             ],
             [
              0.8888888888888888,
              "#fdca26"
             ],
             [
              1,
              "#f0f921"
             ]
            ],
            "type": "histogram2dcontour"
           }
          ],
          "mesh3d": [
           {
            "colorbar": {
             "outlinewidth": 0,
             "ticks": ""
            },
            "type": "mesh3d"
           }
          ],
          "parcoords": [
           {
            "line": {
             "colorbar": {
              "outlinewidth": 0,
              "ticks": ""
             }
            },
            "type": "parcoords"
           }
          ],
          "pie": [
           {
            "automargin": true,
            "type": "pie"
           }
          ],
          "scatter": [
           {
            "fillpattern": {
             "fillmode": "overlay",
             "size": 10,
             "solidity": 0.2
            },
            "type": "scatter"
           }
          ],
          "scatter3d": [
           {
            "line": {
             "colorbar": {
              "outlinewidth": 0,
              "ticks": ""
             }
            },
            "marker": {
             "colorbar": {
              "outlinewidth": 0,
              "ticks": ""
             }
            },
            "type": "scatter3d"
           }
          ],
          "scattercarpet": [
           {
            "marker": {
             "colorbar": {
              "outlinewidth": 0,
              "ticks": ""
             }
            },
            "type": "scattercarpet"
           }
          ],
          "scattergeo": [
           {
            "marker": {
             "colorbar": {
              "outlinewidth": 0,
              "ticks": ""
             }
            },
            "type": "scattergeo"
           }
          ],
          "scattergl": [
           {
            "marker": {
             "colorbar": {
              "outlinewidth": 0,
              "ticks": ""
             }
            },
            "type": "scattergl"
           }
          ],
          "scattermap": [
           {
            "marker": {
             "colorbar": {
              "outlinewidth": 0,
              "ticks": ""
             }
            },
            "type": "scattermap"
           }
          ],
          "scattermapbox": [
           {
            "marker": {
             "colorbar": {
              "outlinewidth": 0,
              "ticks": ""
             }
            },
            "type": "scattermapbox"
           }
          ],
          "scatterpolar": [
           {
            "marker": {
             "colorbar": {
              "outlinewidth": 0,
              "ticks": ""
             }
            },
            "type": "scatterpolar"
           }
          ],
          "scatterpolargl": [
           {
            "marker": {
             "colorbar": {
              "outlinewidth": 0,
              "ticks": ""
             }
            },
            "type": "scatterpolargl"
           }
          ],
          "scatterternary": [
           {
            "marker": {
             "colorbar": {
              "outlinewidth": 0,
              "ticks": ""
             }
            },
            "type": "scatterternary"
           }
          ],
          "surface": [
           {
            "colorbar": {
             "outlinewidth": 0,
             "ticks": ""
            },
            "colorscale": [
             [
              0,
              "#0d0887"
             ],
             [
              0.1111111111111111,
              "#46039f"
             ],
             [
              0.2222222222222222,
              "#7201a8"
             ],
             [
              0.3333333333333333,
              "#9c179e"
             ],
             [
              0.4444444444444444,
              "#bd3786"
             ],
             [
              0.5555555555555556,
              "#d8576b"
             ],
             [
              0.6666666666666666,
              "#ed7953"
             ],
             [
              0.7777777777777778,
              "#fb9f3a"
             ],
             [
              0.8888888888888888,
              "#fdca26"
             ],
             [
              1,
              "#f0f921"
             ]
            ],
            "type": "surface"
           }
          ],
          "table": [
           {
            "cells": {
             "fill": {
              "color": "#EBF0F8"
             },
             "line": {
              "color": "white"
             }
            },
            "header": {
             "fill": {
              "color": "#C8D4E3"
             },
             "line": {
              "color": "white"
             }
            },
            "type": "table"
           }
          ]
         },
         "layout": {
          "annotationdefaults": {
           "arrowcolor": "#2a3f5f",
           "arrowhead": 0,
           "arrowwidth": 1
          },
          "autotypenumbers": "strict",
          "coloraxis": {
           "colorbar": {
            "outlinewidth": 0,
            "ticks": ""
           }
          },
          "colorscale": {
           "diverging": [
            [
             0,
             "#8e0152"
            ],
            [
             0.1,
             "#c51b7d"
            ],
            [
             0.2,
             "#de77ae"
            ],
            [
             0.3,
             "#f1b6da"
            ],
            [
             0.4,
             "#fde0ef"
            ],
            [
             0.5,
             "#f7f7f7"
            ],
            [
             0.6,
             "#e6f5d0"
            ],
            [
             0.7,
             "#b8e186"
            ],
            [
             0.8,
             "#7fbc41"
            ],
            [
             0.9,
             "#4d9221"
            ],
            [
             1,
             "#276419"
            ]
           ],
           "sequential": [
            [
             0,
             "#0d0887"
            ],
            [
             0.1111111111111111,
             "#46039f"
            ],
            [
             0.2222222222222222,
             "#7201a8"
            ],
            [
             0.3333333333333333,
             "#9c179e"
            ],
            [
             0.4444444444444444,
             "#bd3786"
            ],
            [
             0.5555555555555556,
             "#d8576b"
            ],
            [
             0.6666666666666666,
             "#ed7953"
            ],
            [
             0.7777777777777778,
             "#fb9f3a"
            ],
            [
             0.8888888888888888,
             "#fdca26"
            ],
            [
             1,
             "#f0f921"
            ]
           ],
           "sequentialminus": [
            [
             0,
             "#0d0887"
            ],
            [
             0.1111111111111111,
             "#46039f"
            ],
            [
             0.2222222222222222,
             "#7201a8"
            ],
            [
             0.3333333333333333,
             "#9c179e"
            ],
            [
             0.4444444444444444,
             "#bd3786"
            ],
            [
             0.5555555555555556,
             "#d8576b"
            ],
            [
             0.6666666666666666,
             "#ed7953"
            ],
            [
             0.7777777777777778,
             "#fb9f3a"
            ],
            [
             0.8888888888888888,
             "#fdca26"
            ],
            [
             1,
             "#f0f921"
            ]
           ]
          },
          "colorway": [
           "#636efa",
           "#EF553B",
           "#00cc96",
           "#ab63fa",
           "#FFA15A",
           "#19d3f3",
           "#FF6692",
           "#B6E880",
           "#FF97FF",
           "#FECB52"
          ],
          "font": {
           "color": "#2a3f5f"
          },
          "geo": {
           "bgcolor": "white",
           "lakecolor": "white",
           "landcolor": "#E5ECF6",
           "showlakes": true,
           "showland": true,
           "subunitcolor": "white"
          },
          "hoverlabel": {
           "align": "left"
          },
          "hovermode": "closest",
          "mapbox": {
           "style": "light"
          },
          "paper_bgcolor": "white",
          "plot_bgcolor": "#E5ECF6",
          "polar": {
           "angularaxis": {
            "gridcolor": "white",
            "linecolor": "white",
            "ticks": ""
           },
           "bgcolor": "#E5ECF6",
           "radialaxis": {
            "gridcolor": "white",
            "linecolor": "white",
            "ticks": ""
           }
          },
          "scene": {
           "xaxis": {
            "backgroundcolor": "#E5ECF6",
            "gridcolor": "white",
            "gridwidth": 2,
            "linecolor": "white",
            "showbackground": true,
            "ticks": "",
            "zerolinecolor": "white"
           },
           "yaxis": {
            "backgroundcolor": "#E5ECF6",
            "gridcolor": "white",
            "gridwidth": 2,
            "linecolor": "white",
            "showbackground": true,
            "ticks": "",
            "zerolinecolor": "white"
           },
           "zaxis": {
            "backgroundcolor": "#E5ECF6",
            "gridcolor": "white",
            "gridwidth": 2,
            "linecolor": "white",
            "showbackground": true,
            "ticks": "",
            "zerolinecolor": "white"
           }
          },
          "shapedefaults": {
           "line": {
            "color": "#2a3f5f"
           }
          },
          "ternary": {
           "aaxis": {
            "gridcolor": "white",
            "linecolor": "white",
            "ticks": ""
           },
           "baxis": {
            "gridcolor": "white",
            "linecolor": "white",
            "ticks": ""
           },
           "bgcolor": "#E5ECF6",
           "caxis": {
            "gridcolor": "white",
            "linecolor": "white",
            "ticks": ""
           }
          },
          "title": {
           "x": 0.05
          },
          "xaxis": {
           "automargin": true,
           "gridcolor": "white",
           "linecolor": "white",
           "ticks": "",
           "title": {
            "standoff": 15
           },
           "zerolinecolor": "white",
           "zerolinewidth": 2
          },
          "yaxis": {
           "automargin": true,
           "gridcolor": "white",
           "linecolor": "white",
           "ticks": "",
           "title": {
            "standoff": 15
           },
           "zerolinecolor": "white",
           "zerolinewidth": 2
          }
         }
        },
        "title": {
         "text": "Silhouette Analysis"
        },
        "width": 1000,
        "xaxis": {
         "title": {
          "text": "Number of clusters"
         }
        },
        "yaxis": {
         "title": {
          "text": "Silhouette Score"
         }
        }
       }
      }
     },
     "metadata": {},
     "output_type": "display_data"
    }
   ],
   "source": [
    "import plotly.graph_objects as go\n",
    "\n",
    "# Silhouette Analysis\n",
    "silhouette_scores = []\n",
    "for n_clusters in range(2, 21):\n",
    "    kmeans = KMeans(n_clusters=n_clusters, random_state=42)\n",
    "    cluster_labels = kmeans.fit_predict(scaled_data)\n",
    "    silhouette_avg = silhouette_score(scaled_data, cluster_labels)\n",
    "    silhouette_scores.append(silhouette_avg)\n",
    "\n",
    "# Create the plot\n",
    "fig = go.Figure()\n",
    "fig.add_trace(go.Scatter(x=list(range(2, 21)), y=silhouette_scores, mode='lines+markers', marker=dict(color='red'), line=dict(dash='dash')))\n",
    "\n",
    "# Update layout for better readability\n",
    "fig.update_layout(\n",
    "    title='Silhouette Analysis',\n",
    "    xaxis_title='Number of clusters',\n",
    "    yaxis_title='Silhouette Score',\n",
    "    width=1000,\n",
    "    height=600\n",
    ")\n",
    "\n",
    "# Show the plot\n",
    "fig.show()\n"
   ]
  },
  {
   "cell_type": "code",
   "execution_count": 13,
   "metadata": {},
   "outputs": [
    {
     "data": {
      "text/plain": [
       "cluster\n",
       "3    77\n",
       "4    62\n",
       "2    60\n",
       "7    43\n",
       "1    39\n",
       "0    32\n",
       "6    32\n",
       "5    15\n",
       "Name: count, dtype: int64"
      ]
     },
     "execution_count": 13,
     "metadata": {},
     "output_type": "execute_result"
    }
   ],
   "source": [
    "kmeans = KMeans(n_clusters = 8, init='k-means++')\n",
    "kmeans.fit(scaled_data)\n",
    "pred = kmeans.predict(scaled_data)\n",
    "\n",
    "frame = pd.DataFrame(scaled_data)\n",
    "frame['cluster'] = pred\n",
    "frame['cluster'].value_counts()"
   ]
  },
  {
   "cell_type": "code",
   "execution_count": 14,
   "metadata": {},
   "outputs": [
    {
     "data": {
      "application/vnd.plotly.v1+json": {
       "config": {
        "plotlyServerURL": "https://plot.ly"
       },
       "data": [
        {
         "hovertemplate": "feature_0=%{x}<br>feature_1=%{y}<br>cluster=%{marker.color}<extra></extra>",
         "legendgroup": "",
         "marker": {
          "color": {
           "bdata": "AAAAAAAAAAABAAAAAAAAAAAAAAAAAAAAAAAAAAAAAAADAAAAAAAAAAAAAAAAAAAAAgAAAAIAAAACAAAABAAAAAIAAAAGAAAAAwAAAAIAAAADAAAAAwAAAAcAAAADAAAABAAAAAQAAAAAAAAAAwAAAAMAAAADAAAAAwAAAAQAAAACAAAABAAAAAMAAAAEAAAABwAAAAIAAAAHAAAABAAAAAcAAAAHAAAABwAAAAIAAAAHAAAAAgAAAAMAAAAEAAAAAgAAAAIAAAACAAAAAgAAAAIAAAACAAAAAgAAAAIAAAACAAAAAgAAAAIAAAACAAAAAwAAAAMAAAABAAAAAwAAAAcAAAAAAAAAAgAAAAMAAAADAAAAAwAAAAAAAAACAAAAAAAAAAAAAAAAAAAAAAAAAAAAAAADAAAAAAAAAAAAAAAAAAAAAAAAAAAAAAAAAAAAAQAAAAEAAAABAAAAAQAAAAEAAAAHAAAAAQAAAAUAAAAHAAAABwAAAAMAAAAAAAAABQAAAAUAAAAFAAAABQAAAAUAAAAFAAAABQAAAAUAAAAFAAAABQAAAAUAAAAFAAAAAwAAAAQAAAAEAAAABAAAAAYAAAAEAAAABwAAAAQAAAACAAAABAAAAAQAAAAEAAAABAAAAAYAAAADAAAAAAAAAAMAAAAHAAAAAwAAAAQAAAADAAAABAAAAAcAAAAAAAAABwAAAAcAAAADAAAAAwAAAAMAAAAHAAAAAwAAAAMAAAADAAAAAwAAAAMAAAADAAAABgAAAAQAAAAGAAAABAAAAAQAAAAEAAAABgAAAAQAAAAEAAAABAAAAAQAAAAEAAAAAQAAAAIAAAADAAAABwAAAAMAAAAHAAAAAwAAAAMAAAADAAAAAwAAAAMAAAAEAAAABgAAAAcAAAAEAAAABAAAAAEAAAAFAAAAAwAAAAYAAAABAAAAAQAAAAEAAAABAAAAAgAAAAEAAAACAAAAAgAAAAIAAAACAAAAAgAAAAEAAAACAAAAAgAAAAIAAAAEAAAAAwAAAAcAAAAHAAAAAwAAAAMAAAAHAAAAAwAAAAcAAAAHAAAABwAAAAMAAAAHAAAABAAAAAQAAAAEAAAABAAAAAIAAAACAAAABAAAAAQAAAACAAAAAgAAAAIAAAACAAAAAAAAAAQAAAAEAAAABAAAAAcAAAABAAAABAAAAAQAAAADAAAABAAAAAQAAAAEAAAAAgAAAAIAAAAEAAAABAAAAAIAAAAEAAAAAgAAAAIAAAAHAAAAAgAAAAQAAAAEAAAABgAAAAYAAAAGAAAABgAAAAYAAAAGAAAABgAAAAIAAAAGAAAABgAAAAYAAAAGAAAAAwAAAAMAAAADAAAAAwAAAAMAAAAAAAAAAwAAAAMAAAADAAAAAwAAAAMAAAADAAAAAQAAAAMAAAABAAAABQAAAAEAAAABAAAAAQAAAAEAAAABAAAAAQAAAAEAAAADAAAABwAAAAcAAAAHAAAAAgAAAAcAAAACAAAAAgAAAAQAAAAHAAAABwAAAAcAAAAHAAAAAQAAAAEAAAABAAAAAQAAAAEAAAABAAAAAQAAAAcAAAABAAAAAQAAAAEAAAABAAAAAwAAAAcAAAABAAAAAwAAAAMAAAADAAAAAwAAAAMAAAAHAAAABAAAAAcAAAABAAAABAAAAAYAAAAAAAAABAAAAAYAAAACAAAABAAAAAQAAAACAAAAAgAAAAIAAAACAAAAAwAAAAQAAAADAAAABAAAAAIAAAACAAAAAwAAAAYAAAACAAAAAgAAAAMAAAACAAAABAAAAAcAAAAHAAAAAwAAAAMAAAAAAAAAAwAAAAMAAAADAAAAAwAAAAMAAAAAAAAABgAAAAYAAAAGAAAABgAAAAQAAAAGAAAABAAAAAYAAAAGAAAABgAAAAYAAAAGAAAA",
           "dtype": "i4"
          },
          "coloraxis": "coloraxis",
          "symbol": "circle"
         },
         "mode": "markers",
         "name": "",
         "orientation": "v",
         "showlegend": false,
         "type": "scatter",
         "x": {
          "bdata": "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",
          "dtype": "f8"
         },
         "xaxis": "x",
         "y": {
          "bdata": "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",
          "dtype": "f8"
         },
         "yaxis": "y"
        }
       ],
       "layout": {
        "coloraxis": {
         "colorbar": {
          "title": {
           "text": "cluster"
          }
         },
         "colorscale": [
          [
           0,
           "#0d0887"
          ],
          [
           0.1111111111111111,
           "#46039f"
          ],
          [
           0.2222222222222222,
           "#7201a8"
          ],
          [
           0.3333333333333333,
           "#9c179e"
          ],
          [
           0.4444444444444444,
           "#bd3786"
          ],
          [
           0.5555555555555556,
           "#d8576b"
          ],
          [
           0.6666666666666666,
           "#ed7953"
          ],
          [
           0.7777777777777778,
           "#fb9f3a"
          ],
          [
           0.8888888888888888,
           "#fdca26"
          ],
          [
           1,
           "#f0f921"
          ]
         ]
        },
        "legend": {
         "tracegroupgap": 0
        },
        "template": {
         "data": {
          "bar": [
           {
            "error_x": {
             "color": "#2a3f5f"
            },
            "error_y": {
             "color": "#2a3f5f"
            },
            "marker": {
             "line": {
              "color": "#E5ECF6",
              "width": 0.5
             },
             "pattern": {
              "fillmode": "overlay",
              "size": 10,
              "solidity": 0.2
             }
            },
            "type": "bar"
           }
          ],
          "barpolar": [
           {
            "marker": {
             "line": {
              "color": "#E5ECF6",
              "width": 0.5
             },
             "pattern": {
              "fillmode": "overlay",
              "size": 10,
              "solidity": 0.2
             }
            },
            "type": "barpolar"
           }
          ],
          "carpet": [
           {
            "aaxis": {
             "endlinecolor": "#2a3f5f",
             "gridcolor": "white",
             "linecolor": "white",
             "minorgridcolor": "white",
             "startlinecolor": "#2a3f5f"
            },
            "baxis": {
             "endlinecolor": "#2a3f5f",
             "gridcolor": "white",
             "linecolor": "white",
             "minorgridcolor": "white",
             "startlinecolor": "#2a3f5f"
            },
            "type": "carpet"
           }
          ],
          "choropleth": [
           {
            "colorbar": {
             "outlinewidth": 0,
             "ticks": ""
            },
            "type": "choropleth"
           }
          ],
          "contour": [
           {
            "colorbar": {
             "outlinewidth": 0,
             "ticks": ""
            },
            "colorscale": [
             [
              0,
              "#0d0887"
             ],
             [
              0.1111111111111111,
              "#46039f"
             ],
             [
              0.2222222222222222,
              "#7201a8"
             ],
             [
              0.3333333333333333,
              "#9c179e"
             ],
             [
              0.4444444444444444,
              "#bd3786"
             ],
             [
              0.5555555555555556,
              "#d8576b"
             ],
             [
              0.6666666666666666,
              "#ed7953"
             ],
             [
              0.7777777777777778,
              "#fb9f3a"
             ],
             [
              0.8888888888888888,
              "#fdca26"
             ],
             [
              1,
              "#f0f921"
             ]
            ],
            "type": "contour"
           }
          ],
          "contourcarpet": [
           {
            "colorbar": {
             "outlinewidth": 0,
             "ticks": ""
            },
            "type": "contourcarpet"
           }
          ],
          "heatmap": [
           {
            "colorbar": {
             "outlinewidth": 0,
             "ticks": ""
            },
            "colorscale": [
             [
              0,
              "#0d0887"
             ],
             [
              0.1111111111111111,
              "#46039f"
             ],
             [
              0.2222222222222222,
              "#7201a8"
             ],
             [
              0.3333333333333333,
              "#9c179e"
             ],
             [
              0.4444444444444444,
              "#bd3786"
             ],
             [
              0.5555555555555556,
              "#d8576b"
             ],
             [
              0.6666666666666666,
              "#ed7953"
             ],
             [
              0.7777777777777778,
              "#fb9f3a"
             ],
             [
              0.8888888888888888,
              "#fdca26"
             ],
             [
              1,
              "#f0f921"
             ]
            ],
            "type": "heatmap"
           }
          ],
          "histogram": [
           {
            "marker": {
             "pattern": {
              "fillmode": "overlay",
              "size": 10,
              "solidity": 0.2
             }
            },
            "type": "histogram"
           }
          ],
          "histogram2d": [
           {
            "colorbar": {
             "outlinewidth": 0,
             "ticks": ""
            },
            "colorscale": [
             [
              0,
              "#0d0887"
             ],
             [
              0.1111111111111111,
              "#46039f"
             ],
             [
              0.2222222222222222,
              "#7201a8"
             ],
             [
              0.3333333333333333,
              "#9c179e"
             ],
             [
              0.4444444444444444,
              "#bd3786"
             ],
             [
              0.5555555555555556,
              "#d8576b"
             ],
             [
              0.6666666666666666,
              "#ed7953"
             ],
             [
              0.7777777777777778,
              "#fb9f3a"
             ],
             [
              0.8888888888888888,
              "#fdca26"
             ],
             [
              1,
              "#f0f921"
             ]
            ],
            "type": "histogram2d"
           }
          ],
          "histogram2dcontour": [
           {
            "colorbar": {
             "outlinewidth": 0,
             "ticks": ""
            },
            "colorscale": [
             [
              0,
              "#0d0887"
             ],
             [
              0.1111111111111111,
              "#46039f"
             ],
             [
              0.2222222222222222,
              "#7201a8"
             ],
             [
              0.3333333333333333,
              "#9c179e"
             ],
             [
              0.4444444444444444,
              "#bd3786"
             ],
             [
              0.5555555555555556,
              "#d8576b"
             ],
             [
              0.6666666666666666,
              "#ed7953"
             ],
             [
              0.7777777777777778,
              "#fb9f3a"
             ],
             [
              0.8888888888888888,
              "#fdca26"
             ],
             [
              1,
              "#f0f921"
             ]
            ],
            "type": "histogram2dcontour"
           }
          ],
          "mesh3d": [
           {
            "colorbar": {
             "outlinewidth": 0,
             "ticks": ""
            },
            "type": "mesh3d"
           }
          ],
          "parcoords": [
           {
            "line": {
             "colorbar": {
              "outlinewidth": 0,
              "ticks": ""
             }
            },
            "type": "parcoords"
           }
          ],
          "pie": [
           {
            "automargin": true,
            "type": "pie"
           }
          ],
          "scatter": [
           {
            "fillpattern": {
             "fillmode": "overlay",
             "size": 10,
             "solidity": 0.2
            },
            "type": "scatter"
           }
          ],
          "scatter3d": [
           {
            "line": {
             "colorbar": {
              "outlinewidth": 0,
              "ticks": ""
             }
            },
            "marker": {
             "colorbar": {
              "outlinewidth": 0,
              "ticks": ""
             }
            },
            "type": "scatter3d"
           }
          ],
          "scattercarpet": [
           {
            "marker": {
             "colorbar": {
              "outlinewidth": 0,
              "ticks": ""
             }
            },
            "type": "scattercarpet"
           }
          ],
          "scattergeo": [
           {
            "marker": {
             "colorbar": {
              "outlinewidth": 0,
              "ticks": ""
             }
            },
            "type": "scattergeo"
           }
          ],
          "scattergl": [
           {
            "marker": {
             "colorbar": {
              "outlinewidth": 0,
              "ticks": ""
             }
            },
            "type": "scattergl"
           }
          ],
          "scattermap": [
           {
            "marker": {
             "colorbar": {
              "outlinewidth": 0,
              "ticks": ""
             }
            },
            "type": "scattermap"
           }
          ],
          "scattermapbox": [
           {
            "marker": {
             "colorbar": {
              "outlinewidth": 0,
              "ticks": ""
             }
            },
            "type": "scattermapbox"
           }
          ],
          "scatterpolar": [
           {
            "marker": {
             "colorbar": {
              "outlinewidth": 0,
              "ticks": ""
             }
            },
            "type": "scatterpolar"
           }
          ],
          "scatterpolargl": [
           {
            "marker": {
             "colorbar": {
              "outlinewidth": 0,
              "ticks": ""
             }
            },
            "type": "scatterpolargl"
           }
          ],
          "scatterternary": [
           {
            "marker": {
             "colorbar": {
              "outlinewidth": 0,
              "ticks": ""
             }
            },
            "type": "scatterternary"
           }
          ],
          "surface": [
           {
            "colorbar": {
             "outlinewidth": 0,
             "ticks": ""
            },
            "colorscale": [
             [
              0,
              "#0d0887"
             ],
             [
              0.1111111111111111,
              "#46039f"
             ],
             [
              0.2222222222222222,
              "#7201a8"
             ],
             [
              0.3333333333333333,
              "#9c179e"
             ],
             [
              0.4444444444444444,
              "#bd3786"
             ],
             [
              0.5555555555555556,
              "#d8576b"
             ],
             [
              0.6666666666666666,
              "#ed7953"
             ],
             [
              0.7777777777777778,
              "#fb9f3a"
             ],
             [
              0.8888888888888888,
              "#fdca26"
             ],
             [
              1,
              "#f0f921"
             ]
            ],
            "type": "surface"
           }
          ],
          "table": [
           {
            "cells": {
             "fill": {
              "color": "#EBF0F8"
             },
             "line": {
              "color": "white"
             }
            },
            "header": {
             "fill": {
              "color": "#C8D4E3"
             },
             "line": {
              "color": "white"
             }
            },
            "type": "table"
           }
          ]
         },
         "layout": {
          "annotationdefaults": {
           "arrowcolor": "#2a3f5f",
           "arrowhead": 0,
           "arrowwidth": 1
          },
          "autotypenumbers": "strict",
          "coloraxis": {
           "colorbar": {
            "outlinewidth": 0,
            "ticks": ""
           }
          },
          "colorscale": {
           "diverging": [
            [
             0,
             "#8e0152"
            ],
            [
             0.1,
             "#c51b7d"
            ],
            [
             0.2,
             "#de77ae"
            ],
            [
             0.3,
             "#f1b6da"
            ],
            [
             0.4,
             "#fde0ef"
            ],
            [
             0.5,
             "#f7f7f7"
            ],
            [
             0.6,
             "#e6f5d0"
            ],
            [
             0.7,
             "#b8e186"
            ],
            [
             0.8,
             "#7fbc41"
            ],
            [
             0.9,
             "#4d9221"
            ],
            [
             1,
             "#276419"
            ]
           ],
           "sequential": [
            [
             0,
             "#0d0887"
            ],
            [
             0.1111111111111111,
             "#46039f"
            ],
            [
             0.2222222222222222,
             "#7201a8"
            ],
            [
             0.3333333333333333,
             "#9c179e"
            ],
            [
             0.4444444444444444,
             "#bd3786"
            ],
            [
             0.5555555555555556,
             "#d8576b"
            ],
            [
             0.6666666666666666,
             "#ed7953"
            ],
            [
             0.7777777777777778,
             "#fb9f3a"
            ],
            [
             0.8888888888888888,
             "#fdca26"
            ],
            [
             1,
             "#f0f921"
            ]
           ],
           "sequentialminus": [
            [
             0,
             "#0d0887"
            ],
            [
             0.1111111111111111,
             "#46039f"
            ],
            [
             0.2222222222222222,
             "#7201a8"
            ],
            [
             0.3333333333333333,
             "#9c179e"
            ],
            [
             0.4444444444444444,
             "#bd3786"
            ],
            [
             0.5555555555555556,
             "#d8576b"
            ],
            [
             0.6666666666666666,
             "#ed7953"
            ],
            [
             0.7777777777777778,
             "#fb9f3a"
            ],
            [
             0.8888888888888888,
             "#fdca26"
            ],
            [
             1,
             "#f0f921"
            ]
           ]
          },
          "colorway": [
           "#636efa",
           "#EF553B",
           "#00cc96",
           "#ab63fa",
           "#FFA15A",
           "#19d3f3",
           "#FF6692",
           "#B6E880",
           "#FF97FF",
           "#FECB52"
          ],
          "font": {
           "color": "#2a3f5f"
          },
          "geo": {
           "bgcolor": "white",
           "lakecolor": "white",
           "landcolor": "#E5ECF6",
           "showlakes": true,
           "showland": true,
           "subunitcolor": "white"
          },
          "hoverlabel": {
           "align": "left"
          },
          "hovermode": "closest",
          "mapbox": {
           "style": "light"
          },
          "paper_bgcolor": "white",
          "plot_bgcolor": "#E5ECF6",
          "polar": {
           "angularaxis": {
            "gridcolor": "white",
            "linecolor": "white",
            "ticks": ""
           },
           "bgcolor": "#E5ECF6",
           "radialaxis": {
            "gridcolor": "white",
            "linecolor": "white",
            "ticks": ""
           }
          },
          "scene": {
           "xaxis": {
            "backgroundcolor": "#E5ECF6",
            "gridcolor": "white",
            "gridwidth": 2,
            "linecolor": "white",
            "showbackground": true,
            "ticks": "",
            "zerolinecolor": "white"
           },
           "yaxis": {
            "backgroundcolor": "#E5ECF6",
            "gridcolor": "white",
            "gridwidth": 2,
            "linecolor": "white",
            "showbackground": true,
            "ticks": "",
            "zerolinecolor": "white"
           },
           "zaxis": {
            "backgroundcolor": "#E5ECF6",
            "gridcolor": "white",
            "gridwidth": 2,
            "linecolor": "white",
            "showbackground": true,
            "ticks": "",
            "zerolinecolor": "white"
           }
          },
          "shapedefaults": {
           "line": {
            "color": "#2a3f5f"
           }
          },
          "ternary": {
           "aaxis": {
            "gridcolor": "white",
            "linecolor": "white",
            "ticks": ""
           },
           "baxis": {
            "gridcolor": "white",
            "linecolor": "white",
            "ticks": ""
           },
           "bgcolor": "#E5ECF6",
           "caxis": {
            "gridcolor": "white",
            "linecolor": "white",
            "ticks": ""
           }
          },
          "title": {
           "x": 0.05
          },
          "xaxis": {
           "automargin": true,
           "gridcolor": "white",
           "linecolor": "white",
           "ticks": "",
           "title": {
            "standoff": 15
           },
           "zerolinecolor": "white",
           "zerolinewidth": 2
          },
          "yaxis": {
           "automargin": true,
           "gridcolor": "white",
           "linecolor": "white",
           "ticks": "",
           "title": {
            "standoff": 15
           },
           "zerolinecolor": "white",
           "zerolinewidth": 2
          }
         }
        },
        "title": {
         "text": "Cluster Visualization"
        },
        "xaxis": {
         "anchor": "y",
         "domain": [
          0,
          1
         ],
         "title": {
          "text": "feature_0"
         }
        },
        "yaxis": {
         "anchor": "x",
         "domain": [
          0,
          1
         ],
         "title": {
          "text": "feature_1"
         }
        }
       }
      }
     },
     "metadata": {},
     "output_type": "display_data"
    }
   ],
   "source": [
    "import plotly.express as px\n",
    "\n",
    "# Create a DataFrame for the scaled data with cluster labels\n",
    "df_scaled = pd.DataFrame(scaled_data, columns=[f'feature_{i}' for i in range(scaled_data.shape[1])])\n",
    "df_scaled['cluster'] = pred\n",
    "\n",
    "# Create a scatter plot for the first two features\n",
    "fig = px.scatter(df_scaled, x='feature_0', y='feature_1', color='cluster', title='Cluster Visualization')\n",
    "fig.show()"
   ]
  },
  {
   "cell_type": "code",
   "execution_count": null,
   "metadata": {},
   "outputs": [],
   "source": []
  },
  {
   "cell_type": "markdown",
   "metadata": {},
   "source": [
    "## Split dataset by imagining value"
   ]
  },
  {
   "cell_type": "code",
   "execution_count": 15,
   "metadata": {},
   "outputs": [
    {
     "data": {
      "text/html": [
       "<div>\n",
       "<style scoped>\n",
       "    .dataframe tbody tr th:only-of-type {\n",
       "        vertical-align: middle;\n",
       "    }\n",
       "\n",
       "    .dataframe tbody tr th {\n",
       "        vertical-align: top;\n",
       "    }\n",
       "\n",
       "    .dataframe thead th {\n",
       "        text-align: right;\n",
       "    }\n",
       "</style>\n",
       "<table border=\"1\" class=\"dataframe\">\n",
       "  <thead>\n",
       "    <tr style=\"text-align: right;\">\n",
       "      <th></th>\n",
       "      <th>name</th>\n",
       "      <th>activity</th>\n",
       "      <th>imagining</th>\n",
       "      <th>probability_A</th>\n",
       "      <th>probability_B</th>\n",
       "      <th>probability_C</th>\n",
       "      <th>probability_D</th>\n",
       "      <th>time_A</th>\n",
       "      <th>time_B</th>\n",
       "      <th>time_C</th>\n",
       "      <th>...</th>\n",
       "      <th>P_D_C</th>\n",
       "      <th>P_D_D</th>\n",
       "      <th>GEV_total</th>\n",
       "      <th>GEV_A</th>\n",
       "      <th>GEV_B</th>\n",
       "      <th>GEV_C</th>\n",
       "      <th>GEV_D</th>\n",
       "      <th>max_entropy</th>\n",
       "      <th>entropy</th>\n",
       "      <th>mc_entropy</th>\n",
       "    </tr>\n",
       "  </thead>\n",
       "  <tbody>\n",
       "    <tr>\n",
       "      <th>0</th>\n",
       "      <td>P19</td>\n",
       "      <td>successful</td>\n",
       "      <td>guided</td>\n",
       "      <td>0.334737</td>\n",
       "      <td>0.250526</td>\n",
       "      <td>0.114947</td>\n",
       "      <td>0.299789</td>\n",
       "      <td>12.720</td>\n",
       "      <td>9.520</td>\n",
       "      <td>4.368</td>\n",
       "      <td>...</td>\n",
       "      <td>0.009480</td>\n",
       "      <td>0.928020</td>\n",
       "      <td>0.625059</td>\n",
       "      <td>0.208141</td>\n",
       "      <td>0.231092</td>\n",
       "      <td>0.087980</td>\n",
       "      <td>0.097846</td>\n",
       "      <td>2.0</td>\n",
       "      <td>1.908582</td>\n",
       "      <td>0.467345</td>\n",
       "    </tr>\n",
       "    <tr>\n",
       "      <th>1</th>\n",
       "      <td>P19</td>\n",
       "      <td>successful</td>\n",
       "      <td>self-guided</td>\n",
       "      <td>0.250867</td>\n",
       "      <td>0.314267</td>\n",
       "      <td>0.208333</td>\n",
       "      <td>0.226533</td>\n",
       "      <td>15.052</td>\n",
       "      <td>18.856</td>\n",
       "      <td>12.500</td>\n",
       "      <td>...</td>\n",
       "      <td>0.021778</td>\n",
       "      <td>0.912890</td>\n",
       "      <td>0.759168</td>\n",
       "      <td>0.162572</td>\n",
       "      <td>0.383593</td>\n",
       "      <td>0.130449</td>\n",
       "      <td>0.082553</td>\n",
       "      <td>2.0</td>\n",
       "      <td>1.982033</td>\n",
       "      <td>0.524097</td>\n",
       "    </tr>\n",
       "    <tr>\n",
       "      <th>2</th>\n",
       "      <td>P19</td>\n",
       "      <td>training</td>\n",
       "      <td>guided</td>\n",
       "      <td>0.296865</td>\n",
       "      <td>0.097189</td>\n",
       "      <td>0.238486</td>\n",
       "      <td>0.367459</td>\n",
       "      <td>10.984</td>\n",
       "      <td>3.596</td>\n",
       "      <td>8.824</td>\n",
       "      <td>...</td>\n",
       "      <td>0.018241</td>\n",
       "      <td>0.948220</td>\n",
       "      <td>0.683006</td>\n",
       "      <td>0.195897</td>\n",
       "      <td>0.078354</td>\n",
       "      <td>0.193590</td>\n",
       "      <td>0.215166</td>\n",
       "      <td>2.0</td>\n",
       "      <td>1.870929</td>\n",
       "      <td>0.370989</td>\n",
       "    </tr>\n",
       "    <tr>\n",
       "      <th>3</th>\n",
       "      <td>P19</td>\n",
       "      <td>training</td>\n",
       "      <td>self-guided</td>\n",
       "      <td>0.250200</td>\n",
       "      <td>0.221067</td>\n",
       "      <td>0.250867</td>\n",
       "      <td>0.277867</td>\n",
       "      <td>15.012</td>\n",
       "      <td>13.264</td>\n",
       "      <td>15.052</td>\n",
       "      <td>...</td>\n",
       "      <td>0.019194</td>\n",
       "      <td>0.929463</td>\n",
       "      <td>0.690942</td>\n",
       "      <td>0.177679</td>\n",
       "      <td>0.128834</td>\n",
       "      <td>0.264577</td>\n",
       "      <td>0.119851</td>\n",
       "      <td>2.0</td>\n",
       "      <td>1.995322</td>\n",
       "      <td>0.506433</td>\n",
       "    </tr>\n",
       "    <tr>\n",
       "      <th>4</th>\n",
       "      <td>P19</td>\n",
       "      <td>slow</td>\n",
       "      <td>guided</td>\n",
       "      <td>0.184766</td>\n",
       "      <td>0.358298</td>\n",
       "      <td>0.152085</td>\n",
       "      <td>0.304851</td>\n",
       "      <td>8.684</td>\n",
       "      <td>16.840</td>\n",
       "      <td>7.148</td>\n",
       "      <td>...</td>\n",
       "      <td>0.015634</td>\n",
       "      <td>0.927694</td>\n",
       "      <td>0.496745</td>\n",
       "      <td>0.117303</td>\n",
       "      <td>0.183319</td>\n",
       "      <td>0.078563</td>\n",
       "      <td>0.117561</td>\n",
       "      <td>2.0</td>\n",
       "      <td>1.916372</td>\n",
       "      <td>0.451174</td>\n",
       "    </tr>\n",
       "    <tr>\n",
       "      <th>...</th>\n",
       "      <td>...</td>\n",
       "      <td>...</td>\n",
       "      <td>...</td>\n",
       "      <td>...</td>\n",
       "      <td>...</td>\n",
       "      <td>...</td>\n",
       "      <td>...</td>\n",
       "      <td>...</td>\n",
       "      <td>...</td>\n",
       "      <td>...</td>\n",
       "      <td>...</td>\n",
       "      <td>...</td>\n",
       "      <td>...</td>\n",
       "      <td>...</td>\n",
       "      <td>...</td>\n",
       "      <td>...</td>\n",
       "      <td>...</td>\n",
       "      <td>...</td>\n",
       "      <td>...</td>\n",
       "      <td>...</td>\n",
       "      <td>...</td>\n",
       "    </tr>\n",
       "    <tr>\n",
       "      <th>355</th>\n",
       "      <td>P20</td>\n",
       "      <td>start</td>\n",
       "      <td>self-guided</td>\n",
       "      <td>0.244000</td>\n",
       "      <td>0.257043</td>\n",
       "      <td>0.195043</td>\n",
       "      <td>0.303913</td>\n",
       "      <td>11.224</td>\n",
       "      <td>11.824</td>\n",
       "      <td>8.972</td>\n",
       "      <td>...</td>\n",
       "      <td>0.030901</td>\n",
       "      <td>0.903004</td>\n",
       "      <td>0.767544</td>\n",
       "      <td>0.176991</td>\n",
       "      <td>0.271176</td>\n",
       "      <td>0.062497</td>\n",
       "      <td>0.256879</td>\n",
       "      <td>2.0</td>\n",
       "      <td>1.982478</td>\n",
       "      <td>0.660350</td>\n",
       "    </tr>\n",
       "    <tr>\n",
       "      <th>356</th>\n",
       "      <td>P20</td>\n",
       "      <td>fitness</td>\n",
       "      <td>guided</td>\n",
       "      <td>0.330703</td>\n",
       "      <td>0.315459</td>\n",
       "      <td>0.169297</td>\n",
       "      <td>0.184541</td>\n",
       "      <td>12.236</td>\n",
       "      <td>11.672</td>\n",
       "      <td>6.264</td>\n",
       "      <td>...</td>\n",
       "      <td>0.019918</td>\n",
       "      <td>0.878149</td>\n",
       "      <td>0.766467</td>\n",
       "      <td>0.319659</td>\n",
       "      <td>0.311013</td>\n",
       "      <td>0.043526</td>\n",
       "      <td>0.092270</td>\n",
       "      <td>2.0</td>\n",
       "      <td>1.936716</td>\n",
       "      <td>0.623212</td>\n",
       "    </tr>\n",
       "    <tr>\n",
       "      <th>357</th>\n",
       "      <td>P20</td>\n",
       "      <td>fitness</td>\n",
       "      <td>self-guided</td>\n",
       "      <td>0.347267</td>\n",
       "      <td>0.280000</td>\n",
       "      <td>0.120200</td>\n",
       "      <td>0.252533</td>\n",
       "      <td>20.836</td>\n",
       "      <td>16.800</td>\n",
       "      <td>7.212</td>\n",
       "      <td>...</td>\n",
       "      <td>0.009770</td>\n",
       "      <td>0.894375</td>\n",
       "      <td>0.805037</td>\n",
       "      <td>0.392133</td>\n",
       "      <td>0.248939</td>\n",
       "      <td>0.028345</td>\n",
       "      <td>0.135620</td>\n",
       "      <td>2.0</td>\n",
       "      <td>1.912893</td>\n",
       "      <td>0.626463</td>\n",
       "    </tr>\n",
       "    <tr>\n",
       "      <th>358</th>\n",
       "      <td>P20</td>\n",
       "      <td>your</td>\n",
       "      <td>guided</td>\n",
       "      <td>0.267800</td>\n",
       "      <td>0.352000</td>\n",
       "      <td>0.148500</td>\n",
       "      <td>0.231700</td>\n",
       "      <td>10.712</td>\n",
       "      <td>14.080</td>\n",
       "      <td>5.940</td>\n",
       "      <td>...</td>\n",
       "      <td>0.013379</td>\n",
       "      <td>0.889944</td>\n",
       "      <td>0.770506</td>\n",
       "      <td>0.248660</td>\n",
       "      <td>0.333379</td>\n",
       "      <td>0.035835</td>\n",
       "      <td>0.152632</td>\n",
       "      <td>2.0</td>\n",
       "      <td>1.936666</td>\n",
       "      <td>0.644831</td>\n",
       "    </tr>\n",
       "    <tr>\n",
       "      <th>359</th>\n",
       "      <td>P20</td>\n",
       "      <td>your</td>\n",
       "      <td>self-guided</td>\n",
       "      <td>0.323733</td>\n",
       "      <td>0.241067</td>\n",
       "      <td>0.155133</td>\n",
       "      <td>0.280067</td>\n",
       "      <td>19.424</td>\n",
       "      <td>14.464</td>\n",
       "      <td>9.308</td>\n",
       "      <td>...</td>\n",
       "      <td>0.017615</td>\n",
       "      <td>0.906451</td>\n",
       "      <td>0.804421</td>\n",
       "      <td>0.378434</td>\n",
       "      <td>0.190348</td>\n",
       "      <td>0.039485</td>\n",
       "      <td>0.196155</td>\n",
       "      <td>2.0</td>\n",
       "      <td>1.952852</td>\n",
       "      <td>0.652335</td>\n",
       "    </tr>\n",
       "  </tbody>\n",
       "</table>\n",
       "<p>360 rows × 51 columns</p>\n",
       "</div>"
      ],
      "text/plain": [
       "    name    activity    imagining  probability_A  probability_B  \\\n",
       "0    P19  successful       guided       0.334737       0.250526   \n",
       "1    P19  successful  self-guided       0.250867       0.314267   \n",
       "2    P19    training       guided       0.296865       0.097189   \n",
       "3    P19    training  self-guided       0.250200       0.221067   \n",
       "4    P19        slow       guided       0.184766       0.358298   \n",
       "..   ...         ...          ...            ...            ...   \n",
       "355  P20       start  self-guided       0.244000       0.257043   \n",
       "356  P20     fitness       guided       0.330703       0.315459   \n",
       "357  P20     fitness  self-guided       0.347267       0.280000   \n",
       "358  P20        your       guided       0.267800       0.352000   \n",
       "359  P20        your  self-guided       0.323733       0.241067   \n",
       "\n",
       "     probability_C  probability_D  time_A  time_B  time_C  ...     P_D_C  \\\n",
       "0         0.114947       0.299789  12.720   9.520   4.368  ...  0.009480   \n",
       "1         0.208333       0.226533  15.052  18.856  12.500  ...  0.021778   \n",
       "2         0.238486       0.367459  10.984   3.596   8.824  ...  0.018241   \n",
       "3         0.250867       0.277867  15.012  13.264  15.052  ...  0.019194   \n",
       "4         0.152085       0.304851   8.684  16.840   7.148  ...  0.015634   \n",
       "..             ...            ...     ...     ...     ...  ...       ...   \n",
       "355       0.195043       0.303913  11.224  11.824   8.972  ...  0.030901   \n",
       "356       0.169297       0.184541  12.236  11.672   6.264  ...  0.019918   \n",
       "357       0.120200       0.252533  20.836  16.800   7.212  ...  0.009770   \n",
       "358       0.148500       0.231700  10.712  14.080   5.940  ...  0.013379   \n",
       "359       0.155133       0.280067  19.424  14.464   9.308  ...  0.017615   \n",
       "\n",
       "        P_D_D  GEV_total     GEV_A     GEV_B     GEV_C     GEV_D  max_entropy  \\\n",
       "0    0.928020   0.625059  0.208141  0.231092  0.087980  0.097846          2.0   \n",
       "1    0.912890   0.759168  0.162572  0.383593  0.130449  0.082553          2.0   \n",
       "2    0.948220   0.683006  0.195897  0.078354  0.193590  0.215166          2.0   \n",
       "3    0.929463   0.690942  0.177679  0.128834  0.264577  0.119851          2.0   \n",
       "4    0.927694   0.496745  0.117303  0.183319  0.078563  0.117561          2.0   \n",
       "..        ...        ...       ...       ...       ...       ...          ...   \n",
       "355  0.903004   0.767544  0.176991  0.271176  0.062497  0.256879          2.0   \n",
       "356  0.878149   0.766467  0.319659  0.311013  0.043526  0.092270          2.0   \n",
       "357  0.894375   0.805037  0.392133  0.248939  0.028345  0.135620          2.0   \n",
       "358  0.889944   0.770506  0.248660  0.333379  0.035835  0.152632          2.0   \n",
       "359  0.906451   0.804421  0.378434  0.190348  0.039485  0.196155          2.0   \n",
       "\n",
       "      entropy  mc_entropy  \n",
       "0    1.908582    0.467345  \n",
       "1    1.982033    0.524097  \n",
       "2    1.870929    0.370989  \n",
       "3    1.995322    0.506433  \n",
       "4    1.916372    0.451174  \n",
       "..        ...         ...  \n",
       "355  1.982478    0.660350  \n",
       "356  1.936716    0.623212  \n",
       "357  1.912893    0.626463  \n",
       "358  1.936666    0.644831  \n",
       "359  1.952852    0.652335  \n",
       "\n",
       "[360 rows x 51 columns]"
      ]
     },
     "execution_count": 15,
     "metadata": {},
     "output_type": "execute_result"
    }
   ],
   "source": [
    "base_df"
   ]
  },
  {
   "cell_type": "code",
   "execution_count": 16,
   "metadata": {},
   "outputs": [
    {
     "data": {
      "text/plain": [
       "array(['successful', 'training', 'slow', 'start', 'fitness', 'your'],\n",
       "      dtype=object)"
      ]
     },
     "execution_count": 16,
     "metadata": {},
     "output_type": "execute_result"
    }
   ],
   "source": [
    "base_df['activity'].unique()"
   ]
  },
  {
   "cell_type": "code",
   "execution_count": 25,
   "metadata": {},
   "outputs": [
    {
     "name": "stderr",
     "output_type": "stream",
     "text": [
      "C:\\Users\\Marta\\AppData\\Local\\Temp\\ipykernel_21340\\2934940368.py:5: SettingWithCopyWarning:\n",
      "\n",
      "\n",
      "A value is trying to be set on a copy of a slice from a DataFrame\n",
      "\n",
      "See the caveats in the documentation: https://pandas.pydata.org/pandas-docs/stable/user_guide/indexing.html#returning-a-view-versus-a-copy\n",
      "\n",
      "C:\\Users\\Marta\\AppData\\Local\\Temp\\ipykernel_21340\\2934940368.py:6: SettingWithCopyWarning:\n",
      "\n",
      "\n",
      "A value is trying to be set on a copy of a slice from a DataFrame\n",
      "\n",
      "See the caveats in the documentation: https://pandas.pydata.org/pandas-docs/stable/user_guide/indexing.html#returning-a-view-versus-a-copy\n",
      "\n"
     ]
    }
   ],
   "source": [
    "# Split the dataset based on the value of the 'imagining' column\n",
    "df_guided = base_df[base_df['imagining'] == 'guided']\n",
    "df_self_guided = base_df[base_df['imagining'] == 'self-guided']\n",
    "\n",
    "df_guided.drop('imagining', axis=1, inplace=True)\n",
    "df_self_guided.drop('imagining', axis=1, inplace=True)\n",
    "\n",
    "df_guided.reset_index(drop=True, inplace=True)\n",
    "df_self_guided.reset_index(drop=True, inplace=True)"
   ]
  },
  {
   "cell_type": "code",
   "execution_count": 26,
   "metadata": {
    "vscode": {
     "languageId": "ruby"
    }
   },
   "outputs": [
    {
     "name": "stderr",
     "output_type": "stream",
     "text": [
      "C:\\Users\\Marta\\AppData\\Local\\Temp\\ipykernel_21340\\3563669695.py:15: SettingWithCopyWarning:\n",
      "\n",
      "\n",
      "A value is trying to be set on a copy of a slice from a DataFrame\n",
      "\n",
      "See the caveats in the documentation: https://pandas.pydata.org/pandas-docs/stable/user_guide/indexing.html#returning-a-view-versus-a-copy\n",
      "\n",
      "C:\\Users\\Marta\\AppData\\Local\\Temp\\ipykernel_21340\\3563669695.py:16: SettingWithCopyWarning:\n",
      "\n",
      "\n",
      "A value is trying to be set on a copy of a slice from a DataFrame\n",
      "\n",
      "See the caveats in the documentation: https://pandas.pydata.org/pandas-docs/stable/user_guide/indexing.html#returning-a-view-versus-a-copy\n",
      "\n",
      "C:\\Users\\Marta\\AppData\\Local\\Temp\\ipykernel_21340\\3563669695.py:17: SettingWithCopyWarning:\n",
      "\n",
      "\n",
      "A value is trying to be set on a copy of a slice from a DataFrame\n",
      "\n",
      "See the caveats in the documentation: https://pandas.pydata.org/pandas-docs/stable/user_guide/indexing.html#returning-a-view-versus-a-copy\n",
      "\n",
      "C:\\Users\\Marta\\AppData\\Local\\Temp\\ipykernel_21340\\3563669695.py:18: SettingWithCopyWarning:\n",
      "\n",
      "\n",
      "A value is trying to be set on a copy of a slice from a DataFrame\n",
      "\n",
      "See the caveats in the documentation: https://pandas.pydata.org/pandas-docs/stable/user_guide/indexing.html#returning-a-view-versus-a-copy\n",
      "\n",
      "C:\\Users\\Marta\\AppData\\Local\\Temp\\ipykernel_21340\\3563669695.py:19: SettingWithCopyWarning:\n",
      "\n",
      "\n",
      "A value is trying to be set on a copy of a slice from a DataFrame\n",
      "\n",
      "See the caveats in the documentation: https://pandas.pydata.org/pandas-docs/stable/user_guide/indexing.html#returning-a-view-versus-a-copy\n",
      "\n",
      "C:\\Users\\Marta\\AppData\\Local\\Temp\\ipykernel_21340\\3563669695.py:20: SettingWithCopyWarning:\n",
      "\n",
      "\n",
      "A value is trying to be set on a copy of a slice from a DataFrame\n",
      "\n",
      "See the caveats in the documentation: https://pandas.pydata.org/pandas-docs/stable/user_guide/indexing.html#returning-a-view-versus-a-copy\n",
      "\n",
      "C:\\Users\\Marta\\AppData\\Local\\Temp\\ipykernel_21340\\3563669695.py:21: SettingWithCopyWarning:\n",
      "\n",
      "\n",
      "A value is trying to be set on a copy of a slice from a DataFrame\n",
      "\n",
      "See the caveats in the documentation: https://pandas.pydata.org/pandas-docs/stable/user_guide/indexing.html#returning-a-view-versus-a-copy\n",
      "\n",
      "C:\\Users\\Marta\\AppData\\Local\\Temp\\ipykernel_21340\\3563669695.py:22: SettingWithCopyWarning:\n",
      "\n",
      "\n",
      "A value is trying to be set on a copy of a slice from a DataFrame\n",
      "\n",
      "See the caveats in the documentation: https://pandas.pydata.org/pandas-docs/stable/user_guide/indexing.html#returning-a-view-versus-a-copy\n",
      "\n",
      "C:\\Users\\Marta\\AppData\\Local\\Temp\\ipykernel_21340\\3563669695.py:23: SettingWithCopyWarning:\n",
      "\n",
      "\n",
      "A value is trying to be set on a copy of a slice from a DataFrame\n",
      "\n",
      "See the caveats in the documentation: https://pandas.pydata.org/pandas-docs/stable/user_guide/indexing.html#returning-a-view-versus-a-copy\n",
      "\n",
      "C:\\Users\\Marta\\AppData\\Local\\Temp\\ipykernel_21340\\3563669695.py:24: SettingWithCopyWarning:\n",
      "\n",
      "\n",
      "A value is trying to be set on a copy of a slice from a DataFrame\n",
      "\n",
      "See the caveats in the documentation: https://pandas.pydata.org/pandas-docs/stable/user_guide/indexing.html#returning-a-view-versus-a-copy\n",
      "\n",
      "C:\\Users\\Marta\\AppData\\Local\\Temp\\ipykernel_21340\\3563669695.py:25: SettingWithCopyWarning:\n",
      "\n",
      "\n",
      "A value is trying to be set on a copy of a slice from a DataFrame\n",
      "\n",
      "See the caveats in the documentation: https://pandas.pydata.org/pandas-docs/stable/user_guide/indexing.html#returning-a-view-versus-a-copy\n",
      "\n",
      "C:\\Users\\Marta\\AppData\\Local\\Temp\\ipykernel_21340\\3563669695.py:26: SettingWithCopyWarning:\n",
      "\n",
      "\n",
      "A value is trying to be set on a copy of a slice from a DataFrame\n",
      "\n",
      "See the caveats in the documentation: https://pandas.pydata.org/pandas-docs/stable/user_guide/indexing.html#returning-a-view-versus-a-copy\n",
      "\n"
     ]
    }
   ],
   "source": [
    "df_guided_successful = df_guided[df_guided['activity'] == 'successful']\n",
    "df_guided_training = df_guided[df_guided['activity'] == 'training']\n",
    "df_guided_slow = df_guided[df_guided['activity'] == 'slow']\n",
    "df_guided_start = df_guided[df_guided['activity'] == 'start']\n",
    "df_guided_fitness = df_guided[df_guided['activity'] == 'fitness']\n",
    "df_guided_your = df_guided[df_guided['activity'] == 'your']\n",
    "\n",
    "df_self_guided_successful = df_self_guided[df_self_guided['activity'] == 'successful']\n",
    "df_self_guided_training = df_self_guided[df_self_guided['activity'] == 'training']\n",
    "df_self_guided_slow = df_self_guided[df_self_guided['activity'] == 'slow']\n",
    "df_self_guided_start = df_self_guided[df_self_guided['activity'] == 'start']\n",
    "df_self_guided_fitness = df_self_guided[df_self_guided['activity'] == 'fitness']\n",
    "df_self_guided_your = df_self_guided[df_self_guided['activity'] == 'your']\n",
    "\n",
    "df_guided_successful.drop('activity', axis=1, inplace=True)\n",
    "df_guided_training.drop('activity', axis=1, inplace=True)\n",
    "df_guided_slow.drop('activity', axis=1, inplace=True)\n",
    "df_guided_start.drop('activity', axis=1, inplace=True)\n",
    "df_guided_fitness.drop('activity', axis=1, inplace=True)\n",
    "df_guided_your.drop('activity', axis=1, inplace=True)\n",
    "df_self_guided_successful.drop('activity', axis=1, inplace=True)\n",
    "df_self_guided_training.drop('activity', axis=1, inplace=True)\n",
    "df_self_guided_slow.drop('activity', axis=1, inplace=True)\n",
    "df_self_guided_start.drop('activity', axis=1, inplace=True)\n",
    "df_self_guided_fitness.drop('activity', axis=1, inplace=True)\n",
    "df_self_guided_your.drop('activity', axis=1, inplace=True)\n",
    "\n",
    "\n",
    "df_guided_successful.reset_index(drop=True, inplace=True)\n",
    "df_guided_training.reset_index(drop=True, inplace=True)\n",
    "df_guided_slow.reset_index(drop=True, inplace=True)\n",
    "df_guided_start.reset_index(drop=True, inplace=True)\n",
    "df_guided_fitness.reset_index(drop=True, inplace=True)\n",
    "df_guided_your.reset_index(drop=True, inplace=True)\n",
    "df_self_guided_successful.reset_index(drop=True, inplace=True)\n",
    "df_self_guided_training.reset_index(drop=True, inplace=True)\n",
    "df_self_guided_slow.reset_index(drop=True, inplace=True)\n",
    "df_self_guided_start.reset_index(drop=True, inplace=True)\n",
    "df_self_guided_fitness.reset_index(drop=True, inplace=True)\n",
    "df_self_guided_your.reset_index(drop=True, inplace=True)\n"
   ]
  },
  {
   "cell_type": "code",
   "execution_count": null,
   "metadata": {},
   "outputs": [],
   "source": []
  },
  {
   "cell_type": "markdown",
   "metadata": {},
   "source": [
    "## Compare corr by imagining"
   ]
  },
  {
   "cell_type": "markdown",
   "metadata": {},
   "source": [
    "### Guided"
   ]
  },
  {
   "cell_type": "code",
   "execution_count": 27,
   "metadata": {},
   "outputs": [],
   "source": [
    "categorical_columns_guided = df_guided.select_dtypes(include=['object']).columns.tolist()\n",
    "encoder_gd = OneHotEncoder(sparse_output=False)\n",
    "\n",
    "one_hot_encoded_gd = encoder_gd.fit_transform(df_guided[categorical_columns_guided])\n",
    "one_hot_df_guided = pd.DataFrame(one_hot_encoded_gd, columns=encoder_gd.get_feature_names_out(categorical_columns_guided))\n",
    "df_encoded_guided = pd.concat([df_guided, one_hot_df_guided], axis=1)\n",
    "\n",
    "df_encoded_guided = df_encoded_guided.drop(categorical_columns_guided, axis=1)"
   ]
  },
  {
   "cell_type": "code",
   "execution_count": 33,
   "metadata": {},
   "outputs": [
    {
     "data": {
      "application/vnd.plotly.v1+json": {
       "config": {
        "plotlyServerURL": "https://plot.ly"
       },
       "data": [
        {
         "coloraxis": "coloraxis",
         "hovertemplate": "x: %{x}<br>y: %{y}<br>Correlation: %{z}<extra></extra>",
         "name": "0",
         "type": "heatmap",
         "x": [
          "probability_A",
          "probability_B",
          "probability_C",
          "probability_D",
          "time_A",
          "time_B",
          "time_C",
          "time_D",
          "A_min",
          "A_max",
          "A_mean",
          "A_std",
          "B_min",
          "B_max",
          "B_mean",
          "B_std",
          "C_min",
          "C_max",
          "C_mean",
          "C_std",
          "D_min",
          "D_max",
          "D_mean",
          "D_std",
          "P_A_A",
          "P_A_B",
          "P_A_C",
          "P_A_D",
          "P_B_A",
          "P_B_B",
          "P_B_C",
          "P_B_D",
          "P_C_A",
          "P_C_B",
          "P_C_C",
          "P_C_D",
          "P_D_A",
          "P_D_B",
          "P_D_C",
          "P_D_D",
          "GEV_total",
          "GEV_A",
          "GEV_B",
          "GEV_C",
          "GEV_D",
          "max_entropy",
          "entropy",
          "mc_entropy",
          "name_P01",
          "name_P02",
          "name_P03",
          "name_P04",
          "name_P05",
          "name_P06",
          "name_P07",
          "name_P08",
          "name_P09",
          "name_P10",
          "name_P11",
          "name_P12",
          "name_P13",
          "name_P14",
          "name_P15",
          "name_P16",
          "name_P17",
          "name_P18",
          "name_P19",
          "name_P20",
          "name_P21",
          "name_P22",
          "name_P23",
          "name_P24",
          "name_P25",
          "name_P26",
          "name_P27",
          "name_P28",
          "name_P29",
          "name_P30",
          "activity_fitness",
          "activity_slow",
          "activity_start",
          "activity_successful",
          "activity_training",
          "activity_your"
         ],
         "xaxis": "x",
         "y": [
          "probability_A",
          "probability_B",
          "probability_C",
          "probability_D",
          "time_A",
          "time_B",
          "time_C",
          "time_D",
          "A_min",
          "A_max",
          "A_mean",
          "A_std",
          "B_min",
          "B_max",
          "B_mean",
          "B_std",
          "C_min",
          "C_max",
          "C_mean",
          "C_std",
          "D_min",
          "D_max",
          "D_mean",
          "D_std",
          "P_A_A",
          "P_A_B",
          "P_A_C",
          "P_A_D",
          "P_B_A",
          "P_B_B",
          "P_B_C",
          "P_B_D",
          "P_C_A",
          "P_C_B",
          "P_C_C",
          "P_C_D",
          "P_D_A",
          "P_D_B",
          "P_D_C",
          "P_D_D",
          "GEV_total",
          "GEV_A",
          "GEV_B",
          "GEV_C",
          "GEV_D",
          "max_entropy",
          "entropy",
          "mc_entropy",
          "name_P01",
          "name_P02",
          "name_P03",
          "name_P04",
          "name_P05",
          "name_P06",
          "name_P07",
          "name_P08",
          "name_P09",
          "name_P10",
          "name_P11",
          "name_P12",
          "name_P13",
          "name_P14",
          "name_P15",
          "name_P16",
          "name_P17",
          "name_P18",
          "name_P19",
          "name_P20",
          "name_P21",
          "name_P22",
          "name_P23",
          "name_P24",
          "name_P25",
          "name_P26",
          "name_P27",
          "name_P28",
          "name_P29",
          "name_P30",
          "activity_fitness",
          "activity_slow",
          "activity_start",
          "activity_successful",
          "activity_training",
          "activity_your"
         ],
         "yaxis": "y",
         "z": {
          "bdata": "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",
          "dtype": "f8",
          "shape": "84, 84"
         }
        }
       ],
       "layout": {
        "coloraxis": {
         "cmax": 1,
         "cmin": -1,
         "colorbar": {
          "title": {
           "text": "Correlation"
          }
         },
         "colorscale": [
          [
           0,
           "rgb(5,48,97)"
          ],
          [
           0.1,
           "rgb(33,102,172)"
          ],
          [
           0.2,
           "rgb(67,147,195)"
          ],
          [
           0.3,
           "rgb(146,197,222)"
          ],
          [
           0.4,
           "rgb(209,229,240)"
          ],
          [
           0.5,
           "rgb(247,247,247)"
          ],
          [
           0.6,
           "rgb(253,219,199)"
          ],
          [
           0.7,
           "rgb(244,165,130)"
          ],
          [
           0.8,
           "rgb(214,96,77)"
          ],
          [
           0.9,
           "rgb(178,24,43)"
          ],
          [
           1,
           "rgb(103,0,31)"
          ]
         ]
        },
        "height": 800,
        "margin": {
         "t": 60
        },
        "template": {
         "data": {
          "bar": [
           {
            "error_x": {
             "color": "#2a3f5f"
            },
            "error_y": {
             "color": "#2a3f5f"
            },
            "marker": {
             "line": {
              "color": "#E5ECF6",
              "width": 0.5
             },
             "pattern": {
              "fillmode": "overlay",
              "size": 10,
              "solidity": 0.2
             }
            },
            "type": "bar"
           }
          ],
          "barpolar": [
           {
            "marker": {
             "line": {
              "color": "#E5ECF6",
              "width": 0.5
             },
             "pattern": {
              "fillmode": "overlay",
              "size": 10,
              "solidity": 0.2
             }
            },
            "type": "barpolar"
           }
          ],
          "carpet": [
           {
            "aaxis": {
             "endlinecolor": "#2a3f5f",
             "gridcolor": "white",
             "linecolor": "white",
             "minorgridcolor": "white",
             "startlinecolor": "#2a3f5f"
            },
            "baxis": {
             "endlinecolor": "#2a3f5f",
             "gridcolor": "white",
             "linecolor": "white",
             "minorgridcolor": "white",
             "startlinecolor": "#2a3f5f"
            },
            "type": "carpet"
           }
          ],
          "choropleth": [
           {
            "colorbar": {
             "outlinewidth": 0,
             "ticks": ""
            },
            "type": "choropleth"
           }
          ],
          "contour": [
           {
            "colorbar": {
             "outlinewidth": 0,
             "ticks": ""
            },
            "colorscale": [
             [
              0,
              "#0d0887"
             ],
             [
              0.1111111111111111,
              "#46039f"
             ],
             [
              0.2222222222222222,
              "#7201a8"
             ],
             [
              0.3333333333333333,
              "#9c179e"
             ],
             [
              0.4444444444444444,
              "#bd3786"
             ],
             [
              0.5555555555555556,
              "#d8576b"
             ],
             [
              0.6666666666666666,
              "#ed7953"
             ],
             [
              0.7777777777777778,
              "#fb9f3a"
             ],
             [
              0.8888888888888888,
              "#fdca26"
             ],
             [
              1,
              "#f0f921"
             ]
            ],
            "type": "contour"
           }
          ],
          "contourcarpet": [
           {
            "colorbar": {
             "outlinewidth": 0,
             "ticks": ""
            },
            "type": "contourcarpet"
           }
          ],
          "heatmap": [
           {
            "colorbar": {
             "outlinewidth": 0,
             "ticks": ""
            },
            "colorscale": [
             [
              0,
              "#0d0887"
             ],
             [
              0.1111111111111111,
              "#46039f"
             ],
             [
              0.2222222222222222,
              "#7201a8"
             ],
             [
              0.3333333333333333,
              "#9c179e"
             ],
             [
              0.4444444444444444,
              "#bd3786"
             ],
             [
              0.5555555555555556,
              "#d8576b"
             ],
             [
              0.6666666666666666,
              "#ed7953"
             ],
             [
              0.7777777777777778,
              "#fb9f3a"
             ],
             [
              0.8888888888888888,
              "#fdca26"
             ],
             [
              1,
              "#f0f921"
             ]
            ],
            "type": "heatmap"
           }
          ],
          "histogram": [
           {
            "marker": {
             "pattern": {
              "fillmode": "overlay",
              "size": 10,
              "solidity": 0.2
             }
            },
            "type": "histogram"
           }
          ],
          "histogram2d": [
           {
            "colorbar": {
             "outlinewidth": 0,
             "ticks": ""
            },
            "colorscale": [
             [
              0,
              "#0d0887"
             ],
             [
              0.1111111111111111,
              "#46039f"
             ],
             [
              0.2222222222222222,
              "#7201a8"
             ],
             [
              0.3333333333333333,
              "#9c179e"
             ],
             [
              0.4444444444444444,
              "#bd3786"
             ],
             [
              0.5555555555555556,
              "#d8576b"
             ],
             [
              0.6666666666666666,
              "#ed7953"
             ],
             [
              0.7777777777777778,
              "#fb9f3a"
             ],
             [
              0.8888888888888888,
              "#fdca26"
             ],
             [
              1,
              "#f0f921"
             ]
            ],
            "type": "histogram2d"
           }
          ],
          "histogram2dcontour": [
           {
            "colorbar": {
             "outlinewidth": 0,
             "ticks": ""
            },
            "colorscale": [
             [
              0,
              "#0d0887"
             ],
             [
              0.1111111111111111,
              "#46039f"
             ],
             [
              0.2222222222222222,
              "#7201a8"
             ],
             [
              0.3333333333333333,
              "#9c179e"
             ],
             [
              0.4444444444444444,
              "#bd3786"
             ],
             [
              0.5555555555555556,
              "#d8576b"
             ],
             [
              0.6666666666666666,
              "#ed7953"
             ],
             [
              0.7777777777777778,
              "#fb9f3a"
             ],
             [
              0.8888888888888888,
              "#fdca26"
             ],
             [
              1,
              "#f0f921"
             ]
            ],
            "type": "histogram2dcontour"
           }
          ],
          "mesh3d": [
           {
            "colorbar": {
             "outlinewidth": 0,
             "ticks": ""
            },
            "type": "mesh3d"
           }
          ],
          "parcoords": [
           {
            "line": {
             "colorbar": {
              "outlinewidth": 0,
              "ticks": ""
             }
            },
            "type": "parcoords"
           }
          ],
          "pie": [
           {
            "automargin": true,
            "type": "pie"
           }
          ],
          "scatter": [
           {
            "fillpattern": {
             "fillmode": "overlay",
             "size": 10,
             "solidity": 0.2
            },
            "type": "scatter"
           }
          ],
          "scatter3d": [
           {
            "line": {
             "colorbar": {
              "outlinewidth": 0,
              "ticks": ""
             }
            },
            "marker": {
             "colorbar": {
              "outlinewidth": 0,
              "ticks": ""
             }
            },
            "type": "scatter3d"
           }
          ],
          "scattercarpet": [
           {
            "marker": {
             "colorbar": {
              "outlinewidth": 0,
              "ticks": ""
             }
            },
            "type": "scattercarpet"
           }
          ],
          "scattergeo": [
           {
            "marker": {
             "colorbar": {
              "outlinewidth": 0,
              "ticks": ""
             }
            },
            "type": "scattergeo"
           }
          ],
          "scattergl": [
           {
            "marker": {
             "colorbar": {
              "outlinewidth": 0,
              "ticks": ""
             }
            },
            "type": "scattergl"
           }
          ],
          "scattermap": [
           {
            "marker": {
             "colorbar": {
              "outlinewidth": 0,
              "ticks": ""
             }
            },
            "type": "scattermap"
           }
          ],
          "scattermapbox": [
           {
            "marker": {
             "colorbar": {
              "outlinewidth": 0,
              "ticks": ""
             }
            },
            "type": "scattermapbox"
           }
          ],
          "scatterpolar": [
           {
            "marker": {
             "colorbar": {
              "outlinewidth": 0,
              "ticks": ""
             }
            },
            "type": "scatterpolar"
           }
          ],
          "scatterpolargl": [
           {
            "marker": {
             "colorbar": {
              "outlinewidth": 0,
              "ticks": ""
             }
            },
            "type": "scatterpolargl"
           }
          ],
          "scatterternary": [
           {
            "marker": {
             "colorbar": {
              "outlinewidth": 0,
              "ticks": ""
             }
            },
            "type": "scatterternary"
           }
          ],
          "surface": [
           {
            "colorbar": {
             "outlinewidth": 0,
             "ticks": ""
            },
            "colorscale": [
             [
              0,
              "#0d0887"
             ],
             [
              0.1111111111111111,
              "#46039f"
             ],
             [
              0.2222222222222222,
              "#7201a8"
             ],
             [
              0.3333333333333333,
              "#9c179e"
             ],
             [
              0.4444444444444444,
              "#bd3786"
             ],
             [
              0.5555555555555556,
              "#d8576b"
             ],
             [
              0.6666666666666666,
              "#ed7953"
             ],
             [
              0.7777777777777778,
              "#fb9f3a"
             ],
             [
              0.8888888888888888,
              "#fdca26"
             ],
             [
              1,
              "#f0f921"
             ]
            ],
            "type": "surface"
           }
          ],
          "table": [
           {
            "cells": {
             "fill": {
              "color": "#EBF0F8"
             },
             "line": {
              "color": "white"
             }
            },
            "header": {
             "fill": {
              "color": "#C8D4E3"
             },
             "line": {
              "color": "white"
             }
            },
            "type": "table"
           }
          ]
         },
         "layout": {
          "annotationdefaults": {
           "arrowcolor": "#2a3f5f",
           "arrowhead": 0,
           "arrowwidth": 1
          },
          "autotypenumbers": "strict",
          "coloraxis": {
           "colorbar": {
            "outlinewidth": 0,
            "ticks": ""
           }
          },
          "colorscale": {
           "diverging": [
            [
             0,
             "#8e0152"
            ],
            [
             0.1,
             "#c51b7d"
            ],
            [
             0.2,
             "#de77ae"
            ],
            [
             0.3,
             "#f1b6da"
            ],
            [
             0.4,
             "#fde0ef"
            ],
            [
             0.5,
             "#f7f7f7"
            ],
            [
             0.6,
             "#e6f5d0"
            ],
            [
             0.7,
             "#b8e186"
            ],
            [
             0.8,
             "#7fbc41"
            ],
            [
             0.9,
             "#4d9221"
            ],
            [
             1,
             "#276419"
            ]
           ],
           "sequential": [
            [
             0,
             "#0d0887"
            ],
            [
             0.1111111111111111,
             "#46039f"
            ],
            [
             0.2222222222222222,
             "#7201a8"
            ],
            [
             0.3333333333333333,
             "#9c179e"
            ],
            [
             0.4444444444444444,
             "#bd3786"
            ],
            [
             0.5555555555555556,
             "#d8576b"
            ],
            [
             0.6666666666666666,
             "#ed7953"
            ],
            [
             0.7777777777777778,
             "#fb9f3a"
            ],
            [
             0.8888888888888888,
             "#fdca26"
            ],
            [
             1,
             "#f0f921"
            ]
           ],
           "sequentialminus": [
            [
             0,
             "#0d0887"
            ],
            [
             0.1111111111111111,
             "#46039f"
            ],
            [
             0.2222222222222222,
             "#7201a8"
            ],
            [
             0.3333333333333333,
             "#9c179e"
            ],
            [
             0.4444444444444444,
             "#bd3786"
            ],
            [
             0.5555555555555556,
             "#d8576b"
            ],
            [
             0.6666666666666666,
             "#ed7953"
            ],
            [
             0.7777777777777778,
             "#fb9f3a"
            ],
            [
             0.8888888888888888,
             "#fdca26"
            ],
            [
             1,
             "#f0f921"
            ]
           ]
          },
          "colorway": [
           "#636efa",
           "#EF553B",
           "#00cc96",
           "#ab63fa",
           "#FFA15A",
           "#19d3f3",
           "#FF6692",
           "#B6E880",
           "#FF97FF",
           "#FECB52"
          ],
          "font": {
           "color": "#2a3f5f"
          },
          "geo": {
           "bgcolor": "white",
           "lakecolor": "white",
           "landcolor": "#E5ECF6",
           "showlakes": true,
           "showland": true,
           "subunitcolor": "white"
          },
          "hoverlabel": {
           "align": "left"
          },
          "hovermode": "closest",
          "mapbox": {
           "style": "light"
          },
          "paper_bgcolor": "white",
          "plot_bgcolor": "#E5ECF6",
          "polar": {
           "angularaxis": {
            "gridcolor": "white",
            "linecolor": "white",
            "ticks": ""
           },
           "bgcolor": "#E5ECF6",
           "radialaxis": {
            "gridcolor": "white",
            "linecolor": "white",
            "ticks": ""
           }
          },
          "scene": {
           "xaxis": {
            "backgroundcolor": "#E5ECF6",
            "gridcolor": "white",
            "gridwidth": 2,
            "linecolor": "white",
            "showbackground": true,
            "ticks": "",
            "zerolinecolor": "white"
           },
           "yaxis": {
            "backgroundcolor": "#E5ECF6",
            "gridcolor": "white",
            "gridwidth": 2,
            "linecolor": "white",
            "showbackground": true,
            "ticks": "",
            "zerolinecolor": "white"
           },
           "zaxis": {
            "backgroundcolor": "#E5ECF6",
            "gridcolor": "white",
            "gridwidth": 2,
            "linecolor": "white",
            "showbackground": true,
            "ticks": "",
            "zerolinecolor": "white"
           }
          },
          "shapedefaults": {
           "line": {
            "color": "#2a3f5f"
           }
          },
          "ternary": {
           "aaxis": {
            "gridcolor": "white",
            "linecolor": "white",
            "ticks": ""
           },
           "baxis": {
            "gridcolor": "white",
            "linecolor": "white",
            "ticks": ""
           },
           "bgcolor": "#E5ECF6",
           "caxis": {
            "gridcolor": "white",
            "linecolor": "white",
            "ticks": ""
           }
          },
          "title": {
           "x": 0.05
          },
          "xaxis": {
           "automargin": true,
           "gridcolor": "white",
           "linecolor": "white",
           "ticks": "",
           "title": {
            "standoff": 15
           },
           "zerolinecolor": "white",
           "zerolinewidth": 2
          },
          "yaxis": {
           "automargin": true,
           "gridcolor": "white",
           "linecolor": "white",
           "ticks": "",
           "title": {
            "standoff": 15
           },
           "zerolinecolor": "white",
           "zerolinewidth": 2
          }
         }
        },
        "title": {
         "text": "Correlation Matrix Heatmap"
        },
        "width": 1000,
        "xaxis": {
         "anchor": "y",
         "constrain": "domain",
         "domain": [
          0,
          1
         ],
         "scaleanchor": "y",
         "title": {
          "text": "Features"
         }
        },
        "yaxis": {
         "anchor": "x",
         "autorange": "reversed",
         "constrain": "domain",
         "domain": [
          0,
          1
         ],
         "title": {
          "text": "Features"
         }
        }
       }
      }
     },
     "metadata": {},
     "output_type": "display_data"
    }
   ],
   "source": [
    "import plotly.express as px\n",
    "\n",
    "# Calculate the correlation matrix\n",
    "correlation_matrix_guided = df_encoded_guided.corr()\n",
    "\n",
    "# Create the heatmap\n",
    "fig = px.imshow(correlation_matrix, \n",
    "                labels=dict(color=\"Correlation\"),\n",
    "                x=correlation_matrix.columns,\n",
    "                y=correlation_matrix.columns,\n",
    "                color_continuous_scale='RdBu_r',\n",
    "                zmin=-1, zmax=1)\n",
    "\n",
    "# Update layout for better readability\n",
    "fig.update_layout(\n",
    "    title='Correlation Matrix Heatmap',\n",
    "    xaxis_title='Features',\n",
    "    yaxis_title='Features',\n",
    "    width=1000,\n",
    "    height=800\n",
    ")\n",
    "\n",
    "# Show the plot\n",
    "fig.show()"
   ]
  },
  {
   "cell_type": "markdown",
   "metadata": {},
   "source": [
    "### Self-guided"
   ]
  },
  {
   "cell_type": "code",
   "execution_count": 34,
   "metadata": {},
   "outputs": [],
   "source": [
    "categorical_columns_self_guided = df_self_guided.select_dtypes(include=['object']).columns.tolist()\n",
    "encoder_sgd = OneHotEncoder(sparse_output=False)\n",
    "\n",
    "one_hot_encoded_sgd = encoder_sgd.fit_transform(df_self_guided[categorical_columns_self_guided])\n",
    "one_hot_df_self_guided = pd.DataFrame(one_hot_encoded_sgd, columns=encoder_sgd.get_feature_names_out(categorical_columns_self_guided))\n",
    "df_encoded_self_guided = pd.concat([df_self_guided, one_hot_df_self_guided], axis=1)\n",
    "\n",
    "df_encoded_self_guided = df_encoded_self_guided.drop(categorical_columns_self_guided, axis=1)"
   ]
  },
  {
   "cell_type": "code",
   "execution_count": 35,
   "metadata": {},
   "outputs": [
    {
     "data": {
      "application/vnd.plotly.v1+json": {
       "config": {
        "plotlyServerURL": "https://plot.ly"
       },
       "data": [
        {
         "coloraxis": "coloraxis",
         "hovertemplate": "x: %{x}<br>y: %{y}<br>Correlation: %{z}<extra></extra>",
         "name": "0",
         "type": "heatmap",
         "x": [
          "probability_A",
          "probability_B",
          "probability_C",
          "probability_D",
          "time_A",
          "time_B",
          "time_C",
          "time_D",
          "A_min",
          "A_max",
          "A_mean",
          "A_std",
          "B_min",
          "B_max",
          "B_mean",
          "B_std",
          "C_min",
          "C_max",
          "C_mean",
          "C_std",
          "D_min",
          "D_max",
          "D_mean",
          "D_std",
          "P_A_A",
          "P_A_B",
          "P_A_C",
          "P_A_D",
          "P_B_A",
          "P_B_B",
          "P_B_C",
          "P_B_D",
          "P_C_A",
          "P_C_B",
          "P_C_C",
          "P_C_D",
          "P_D_A",
          "P_D_B",
          "P_D_C",
          "P_D_D",
          "GEV_total",
          "GEV_A",
          "GEV_B",
          "GEV_C",
          "GEV_D",
          "max_entropy",
          "entropy",
          "mc_entropy",
          "name_P01",
          "name_P02",
          "name_P03",
          "name_P04",
          "name_P05",
          "name_P06",
          "name_P07",
          "name_P08",
          "name_P09",
          "name_P10",
          "name_P11",
          "name_P12",
          "name_P13",
          "name_P14",
          "name_P15",
          "name_P16",
          "name_P17",
          "name_P18",
          "name_P19",
          "name_P20",
          "name_P21",
          "name_P22",
          "name_P23",
          "name_P24",
          "name_P25",
          "name_P26",
          "name_P27",
          "name_P28",
          "name_P29",
          "name_P30",
          "activity_fitness",
          "activity_slow",
          "activity_start",
          "activity_successful",
          "activity_training",
          "activity_your"
         ],
         "xaxis": "x",
         "y": [
          "probability_A",
          "probability_B",
          "probability_C",
          "probability_D",
          "time_A",
          "time_B",
          "time_C",
          "time_D",
          "A_min",
          "A_max",
          "A_mean",
          "A_std",
          "B_min",
          "B_max",
          "B_mean",
          "B_std",
          "C_min",
          "C_max",
          "C_mean",
          "C_std",
          "D_min",
          "D_max",
          "D_mean",
          "D_std",
          "P_A_A",
          "P_A_B",
          "P_A_C",
          "P_A_D",
          "P_B_A",
          "P_B_B",
          "P_B_C",
          "P_B_D",
          "P_C_A",
          "P_C_B",
          "P_C_C",
          "P_C_D",
          "P_D_A",
          "P_D_B",
          "P_D_C",
          "P_D_D",
          "GEV_total",
          "GEV_A",
          "GEV_B",
          "GEV_C",
          "GEV_D",
          "max_entropy",
          "entropy",
          "mc_entropy",
          "name_P01",
          "name_P02",
          "name_P03",
          "name_P04",
          "name_P05",
          "name_P06",
          "name_P07",
          "name_P08",
          "name_P09",
          "name_P10",
          "name_P11",
          "name_P12",
          "name_P13",
          "name_P14",
          "name_P15",
          "name_P16",
          "name_P17",
          "name_P18",
          "name_P19",
          "name_P20",
          "name_P21",
          "name_P22",
          "name_P23",
          "name_P24",
          "name_P25",
          "name_P26",
          "name_P27",
          "name_P28",
          "name_P29",
          "name_P30",
          "activity_fitness",
          "activity_slow",
          "activity_start",
          "activity_successful",
          "activity_training",
          "activity_your"
         ],
         "yaxis": "y",
         "z": {
          "bdata": "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",
          "dtype": "f8",
          "shape": "84, 84"
         }
        }
       ],
       "layout": {
        "coloraxis": {
         "cmax": 1,
         "cmin": -1,
         "colorbar": {
          "title": {
           "text": "Correlation"
          }
         },
         "colorscale": [
          [
           0,
           "rgb(5,48,97)"
          ],
          [
           0.1,
           "rgb(33,102,172)"
          ],
          [
           0.2,
           "rgb(67,147,195)"
          ],
          [
           0.3,
           "rgb(146,197,222)"
          ],
          [
           0.4,
           "rgb(209,229,240)"
          ],
          [
           0.5,
           "rgb(247,247,247)"
          ],
          [
           0.6,
           "rgb(253,219,199)"
          ],
          [
           0.7,
           "rgb(244,165,130)"
          ],
          [
           0.8,
           "rgb(214,96,77)"
          ],
          [
           0.9,
           "rgb(178,24,43)"
          ],
          [
           1,
           "rgb(103,0,31)"
          ]
         ]
        },
        "height": 800,
        "margin": {
         "t": 60
        },
        "template": {
         "data": {
          "bar": [
           {
            "error_x": {
             "color": "#2a3f5f"
            },
            "error_y": {
             "color": "#2a3f5f"
            },
            "marker": {
             "line": {
              "color": "#E5ECF6",
              "width": 0.5
             },
             "pattern": {
              "fillmode": "overlay",
              "size": 10,
              "solidity": 0.2
             }
            },
            "type": "bar"
           }
          ],
          "barpolar": [
           {
            "marker": {
             "line": {
              "color": "#E5ECF6",
              "width": 0.5
             },
             "pattern": {
              "fillmode": "overlay",
              "size": 10,
              "solidity": 0.2
             }
            },
            "type": "barpolar"
           }
          ],
          "carpet": [
           {
            "aaxis": {
             "endlinecolor": "#2a3f5f",
             "gridcolor": "white",
             "linecolor": "white",
             "minorgridcolor": "white",
             "startlinecolor": "#2a3f5f"
            },
            "baxis": {
             "endlinecolor": "#2a3f5f",
             "gridcolor": "white",
             "linecolor": "white",
             "minorgridcolor": "white",
             "startlinecolor": "#2a3f5f"
            },
            "type": "carpet"
           }
          ],
          "choropleth": [
           {
            "colorbar": {
             "outlinewidth": 0,
             "ticks": ""
            },
            "type": "choropleth"
           }
          ],
          "contour": [
           {
            "colorbar": {
             "outlinewidth": 0,
             "ticks": ""
            },
            "colorscale": [
             [
              0,
              "#0d0887"
             ],
             [
              0.1111111111111111,
              "#46039f"
             ],
             [
              0.2222222222222222,
              "#7201a8"
             ],
             [
              0.3333333333333333,
              "#9c179e"
             ],
             [
              0.4444444444444444,
              "#bd3786"
             ],
             [
              0.5555555555555556,
              "#d8576b"
             ],
             [
              0.6666666666666666,
              "#ed7953"
             ],
             [
              0.7777777777777778,
              "#fb9f3a"
             ],
             [
              0.8888888888888888,
              "#fdca26"
             ],
             [
              1,
              "#f0f921"
             ]
            ],
            "type": "contour"
           }
          ],
          "contourcarpet": [
           {
            "colorbar": {
             "outlinewidth": 0,
             "ticks": ""
            },
            "type": "contourcarpet"
           }
          ],
          "heatmap": [
           {
            "colorbar": {
             "outlinewidth": 0,
             "ticks": ""
            },
            "colorscale": [
             [
              0,
              "#0d0887"
             ],
             [
              0.1111111111111111,
              "#46039f"
             ],
             [
              0.2222222222222222,
              "#7201a8"
             ],
             [
              0.3333333333333333,
              "#9c179e"
             ],
             [
              0.4444444444444444,
              "#bd3786"
             ],
             [
              0.5555555555555556,
              "#d8576b"
             ],
             [
              0.6666666666666666,
              "#ed7953"
             ],
             [
              0.7777777777777778,
              "#fb9f3a"
             ],
             [
              0.8888888888888888,
              "#fdca26"
             ],
             [
              1,
              "#f0f921"
             ]
            ],
            "type": "heatmap"
           }
          ],
          "histogram": [
           {
            "marker": {
             "pattern": {
              "fillmode": "overlay",
              "size": 10,
              "solidity": 0.2
             }
            },
            "type": "histogram"
           }
          ],
          "histogram2d": [
           {
            "colorbar": {
             "outlinewidth": 0,
             "ticks": ""
            },
            "colorscale": [
             [
              0,
              "#0d0887"
             ],
             [
              0.1111111111111111,
              "#46039f"
             ],
             [
              0.2222222222222222,
              "#7201a8"
             ],
             [
              0.3333333333333333,
              "#9c179e"
             ],
             [
              0.4444444444444444,
              "#bd3786"
             ],
             [
              0.5555555555555556,
              "#d8576b"
             ],
             [
              0.6666666666666666,
              "#ed7953"
             ],
             [
              0.7777777777777778,
              "#fb9f3a"
             ],
             [
              0.8888888888888888,
              "#fdca26"
             ],
             [
              1,
              "#f0f921"
             ]
            ],
            "type": "histogram2d"
           }
          ],
          "histogram2dcontour": [
           {
            "colorbar": {
             "outlinewidth": 0,
             "ticks": ""
            },
            "colorscale": [
             [
              0,
              "#0d0887"
             ],
             [
              0.1111111111111111,
              "#46039f"
             ],
             [
              0.2222222222222222,
              "#7201a8"
             ],
             [
              0.3333333333333333,
              "#9c179e"
             ],
             [
              0.4444444444444444,
              "#bd3786"
             ],
             [
              0.5555555555555556,
              "#d8576b"
             ],
             [
              0.6666666666666666,
              "#ed7953"
             ],
             [
              0.7777777777777778,
              "#fb9f3a"
             ],
             [
              0.8888888888888888,
              "#fdca26"
             ],
             [
              1,
              "#f0f921"
             ]
            ],
            "type": "histogram2dcontour"
           }
          ],
          "mesh3d": [
           {
            "colorbar": {
             "outlinewidth": 0,
             "ticks": ""
            },
            "type": "mesh3d"
           }
          ],
          "parcoords": [
           {
            "line": {
             "colorbar": {
              "outlinewidth": 0,
              "ticks": ""
             }
            },
            "type": "parcoords"
           }
          ],
          "pie": [
           {
            "automargin": true,
            "type": "pie"
           }
          ],
          "scatter": [
           {
            "fillpattern": {
             "fillmode": "overlay",
             "size": 10,
             "solidity": 0.2
            },
            "type": "scatter"
           }
          ],
          "scatter3d": [
           {
            "line": {
             "colorbar": {
              "outlinewidth": 0,
              "ticks": ""
             }
            },
            "marker": {
             "colorbar": {
              "outlinewidth": 0,
              "ticks": ""
             }
            },
            "type": "scatter3d"
           }
          ],
          "scattercarpet": [
           {
            "marker": {
             "colorbar": {
              "outlinewidth": 0,
              "ticks": ""
             }
            },
            "type": "scattercarpet"
           }
          ],
          "scattergeo": [
           {
            "marker": {
             "colorbar": {
              "outlinewidth": 0,
              "ticks": ""
             }
            },
            "type": "scattergeo"
           }
          ],
          "scattergl": [
           {
            "marker": {
             "colorbar": {
              "outlinewidth": 0,
              "ticks": ""
             }
            },
            "type": "scattergl"
           }
          ],
          "scattermap": [
           {
            "marker": {
             "colorbar": {
              "outlinewidth": 0,
              "ticks": ""
             }
            },
            "type": "scattermap"
           }
          ],
          "scattermapbox": [
           {
            "marker": {
             "colorbar": {
              "outlinewidth": 0,
              "ticks": ""
             }
            },
            "type": "scattermapbox"
           }
          ],
          "scatterpolar": [
           {
            "marker": {
             "colorbar": {
              "outlinewidth": 0,
              "ticks": ""
             }
            },
            "type": "scatterpolar"
           }
          ],
          "scatterpolargl": [
           {
            "marker": {
             "colorbar": {
              "outlinewidth": 0,
              "ticks": ""
             }
            },
            "type": "scatterpolargl"
           }
          ],
          "scatterternary": [
           {
            "marker": {
             "colorbar": {
              "outlinewidth": 0,
              "ticks": ""
             }
            },
            "type": "scatterternary"
           }
          ],
          "surface": [
           {
            "colorbar": {
             "outlinewidth": 0,
             "ticks": ""
            },
            "colorscale": [
             [
              0,
              "#0d0887"
             ],
             [
              0.1111111111111111,
              "#46039f"
             ],
             [
              0.2222222222222222,
              "#7201a8"
             ],
             [
              0.3333333333333333,
              "#9c179e"
             ],
             [
              0.4444444444444444,
              "#bd3786"
             ],
             [
              0.5555555555555556,
              "#d8576b"
             ],
             [
              0.6666666666666666,
              "#ed7953"
             ],
             [
              0.7777777777777778,
              "#fb9f3a"
             ],
             [
              0.8888888888888888,
              "#fdca26"
             ],
             [
              1,
              "#f0f921"
             ]
            ],
            "type": "surface"
           }
          ],
          "table": [
           {
            "cells": {
             "fill": {
              "color": "#EBF0F8"
             },
             "line": {
              "color": "white"
             }
            },
            "header": {
             "fill": {
              "color": "#C8D4E3"
             },
             "line": {
              "color": "white"
             }
            },
            "type": "table"
           }
          ]
         },
         "layout": {
          "annotationdefaults": {
           "arrowcolor": "#2a3f5f",
           "arrowhead": 0,
           "arrowwidth": 1
          },
          "autotypenumbers": "strict",
          "coloraxis": {
           "colorbar": {
            "outlinewidth": 0,
            "ticks": ""
           }
          },
          "colorscale": {
           "diverging": [
            [
             0,
             "#8e0152"
            ],
            [
             0.1,
             "#c51b7d"
            ],
            [
             0.2,
             "#de77ae"
            ],
            [
             0.3,
             "#f1b6da"
            ],
            [
             0.4,
             "#fde0ef"
            ],
            [
             0.5,
             "#f7f7f7"
            ],
            [
             0.6,
             "#e6f5d0"
            ],
            [
             0.7,
             "#b8e186"
            ],
            [
             0.8,
             "#7fbc41"
            ],
            [
             0.9,
             "#4d9221"
            ],
            [
             1,
             "#276419"
            ]
           ],
           "sequential": [
            [
             0,
             "#0d0887"
            ],
            [
             0.1111111111111111,
             "#46039f"
            ],
            [
             0.2222222222222222,
             "#7201a8"
            ],
            [
             0.3333333333333333,
             "#9c179e"
            ],
            [
             0.4444444444444444,
             "#bd3786"
            ],
            [
             0.5555555555555556,
             "#d8576b"
            ],
            [
             0.6666666666666666,
             "#ed7953"
            ],
            [
             0.7777777777777778,
             "#fb9f3a"
            ],
            [
             0.8888888888888888,
             "#fdca26"
            ],
            [
             1,
             "#f0f921"
            ]
           ],
           "sequentialminus": [
            [
             0,
             "#0d0887"
            ],
            [
             0.1111111111111111,
             "#46039f"
            ],
            [
             0.2222222222222222,
             "#7201a8"
            ],
            [
             0.3333333333333333,
             "#9c179e"
            ],
            [
             0.4444444444444444,
             "#bd3786"
            ],
            [
             0.5555555555555556,
             "#d8576b"
            ],
            [
             0.6666666666666666,
             "#ed7953"
            ],
            [
             0.7777777777777778,
             "#fb9f3a"
            ],
            [
             0.8888888888888888,
             "#fdca26"
            ],
            [
             1,
             "#f0f921"
            ]
           ]
          },
          "colorway": [
           "#636efa",
           "#EF553B",
           "#00cc96",
           "#ab63fa",
           "#FFA15A",
           "#19d3f3",
           "#FF6692",
           "#B6E880",
           "#FF97FF",
           "#FECB52"
          ],
          "font": {
           "color": "#2a3f5f"
          },
          "geo": {
           "bgcolor": "white",
           "lakecolor": "white",
           "landcolor": "#E5ECF6",
           "showlakes": true,
           "showland": true,
           "subunitcolor": "white"
          },
          "hoverlabel": {
           "align": "left"
          },
          "hovermode": "closest",
          "mapbox": {
           "style": "light"
          },
          "paper_bgcolor": "white",
          "plot_bgcolor": "#E5ECF6",
          "polar": {
           "angularaxis": {
            "gridcolor": "white",
            "linecolor": "white",
            "ticks": ""
           },
           "bgcolor": "#E5ECF6",
           "radialaxis": {
            "gridcolor": "white",
            "linecolor": "white",
            "ticks": ""
           }
          },
          "scene": {
           "xaxis": {
            "backgroundcolor": "#E5ECF6",
            "gridcolor": "white",
            "gridwidth": 2,
            "linecolor": "white",
            "showbackground": true,
            "ticks": "",
            "zerolinecolor": "white"
           },
           "yaxis": {
            "backgroundcolor": "#E5ECF6",
            "gridcolor": "white",
            "gridwidth": 2,
            "linecolor": "white",
            "showbackground": true,
            "ticks": "",
            "zerolinecolor": "white"
           },
           "zaxis": {
            "backgroundcolor": "#E5ECF6",
            "gridcolor": "white",
            "gridwidth": 2,
            "linecolor": "white",
            "showbackground": true,
            "ticks": "",
            "zerolinecolor": "white"
           }
          },
          "shapedefaults": {
           "line": {
            "color": "#2a3f5f"
           }
          },
          "ternary": {
           "aaxis": {
            "gridcolor": "white",
            "linecolor": "white",
            "ticks": ""
           },
           "baxis": {
            "gridcolor": "white",
            "linecolor": "white",
            "ticks": ""
           },
           "bgcolor": "#E5ECF6",
           "caxis": {
            "gridcolor": "white",
            "linecolor": "white",
            "ticks": ""
           }
          },
          "title": {
           "x": 0.05
          },
          "xaxis": {
           "automargin": true,
           "gridcolor": "white",
           "linecolor": "white",
           "ticks": "",
           "title": {
            "standoff": 15
           },
           "zerolinecolor": "white",
           "zerolinewidth": 2
          },
          "yaxis": {
           "automargin": true,
           "gridcolor": "white",
           "linecolor": "white",
           "ticks": "",
           "title": {
            "standoff": 15
           },
           "zerolinecolor": "white",
           "zerolinewidth": 2
          }
         }
        },
        "title": {
         "text": "Correlation Matrix Heatmap"
        },
        "width": 1000,
        "xaxis": {
         "anchor": "y",
         "constrain": "domain",
         "domain": [
          0,
          1
         ],
         "scaleanchor": "y",
         "title": {
          "text": "Features"
         }
        },
        "yaxis": {
         "anchor": "x",
         "autorange": "reversed",
         "constrain": "domain",
         "domain": [
          0,
          1
         ],
         "title": {
          "text": "Features"
         }
        }
       }
      }
     },
     "metadata": {},
     "output_type": "display_data"
    }
   ],
   "source": [
    "import plotly.express as px\n",
    "\n",
    "# Calculate the correlation matrix\n",
    "correlation_matrix_self_guided = df_encoded_self_guided.corr()\n",
    "\n",
    "# Create the heatmap\n",
    "fig = px.imshow(correlation_matrix, \n",
    "                labels=dict(color=\"Correlation\"),\n",
    "                x=correlation_matrix.columns,\n",
    "                y=correlation_matrix.columns,\n",
    "                color_continuous_scale='RdBu_r',\n",
    "                zmin=-1, zmax=1)\n",
    "\n",
    "# Update layout for better readability\n",
    "fig.update_layout(\n",
    "    title='Correlation Matrix Heatmap',\n",
    "    xaxis_title='Features',\n",
    "    yaxis_title='Features',\n",
    "    width=1000,\n",
    "    height=800\n",
    ")\n",
    "\n",
    "# Show the plot\n",
    "fig.show()"
   ]
  },
  {
   "cell_type": "code",
   "execution_count": null,
   "metadata": {},
   "outputs": [
    {
     "data": {
      "text/html": [
       "<div>\n",
       "<style scoped>\n",
       "    .dataframe tbody tr th:only-of-type {\n",
       "        vertical-align: middle;\n",
       "    }\n",
       "\n",
       "    .dataframe tbody tr th {\n",
       "        vertical-align: top;\n",
       "    }\n",
       "\n",
       "    .dataframe thead th {\n",
       "        text-align: right;\n",
       "    }\n",
       "</style>\n",
       "<table border=\"1\" class=\"dataframe\">\n",
       "  <thead>\n",
       "    <tr style=\"text-align: right;\">\n",
       "      <th></th>\n",
       "      <th>probability_A</th>\n",
       "      <th>probability_B</th>\n",
       "      <th>probability_C</th>\n",
       "      <th>probability_D</th>\n",
       "      <th>time_A</th>\n",
       "      <th>time_B</th>\n",
       "      <th>time_C</th>\n",
       "      <th>time_D</th>\n",
       "      <th>A_min</th>\n",
       "      <th>A_max</th>\n",
       "      <th>...</th>\n",
       "      <th>name_P27</th>\n",
       "      <th>name_P28</th>\n",
       "      <th>name_P29</th>\n",
       "      <th>name_P30</th>\n",
       "      <th>activity_fitness</th>\n",
       "      <th>activity_slow</th>\n",
       "      <th>activity_start</th>\n",
       "      <th>activity_successful</th>\n",
       "      <th>activity_training</th>\n",
       "      <th>activity_your</th>\n",
       "    </tr>\n",
       "  </thead>\n",
       "  <tbody>\n",
       "    <tr>\n",
       "      <th>probability_A</th>\n",
       "      <td>0.000000</td>\n",
       "      <td>0.118581</td>\n",
       "      <td>0.122963</td>\n",
       "      <td>0.187787</td>\n",
       "      <td>0.004248</td>\n",
       "      <td>0.105085</td>\n",
       "      <td>0.123828</td>\n",
       "      <td>0.177212</td>\n",
       "      <td>0.073801</td>\n",
       "      <td>0.042322</td>\n",
       "      <td>...</td>\n",
       "      <td>0.042842</td>\n",
       "      <td>0.036042</td>\n",
       "      <td>0.084381</td>\n",
       "      <td>0.016857</td>\n",
       "      <td>0.044337</td>\n",
       "      <td>0.031964</td>\n",
       "      <td>0.043448</td>\n",
       "      <td>0.005136</td>\n",
       "      <td>0.042334</td>\n",
       "      <td>0.008351</td>\n",
       "    </tr>\n",
       "    <tr>\n",
       "      <th>probability_B</th>\n",
       "      <td>0.118581</td>\n",
       "      <td>0.000000</td>\n",
       "      <td>0.117728</td>\n",
       "      <td>0.065155</td>\n",
       "      <td>0.139395</td>\n",
       "      <td>0.013360</td>\n",
       "      <td>0.079328</td>\n",
       "      <td>0.040012</td>\n",
       "      <td>0.117202</td>\n",
       "      <td>0.110011</td>\n",
       "      <td>...</td>\n",
       "      <td>0.034627</td>\n",
       "      <td>0.051432</td>\n",
       "      <td>0.066254</td>\n",
       "      <td>0.062265</td>\n",
       "      <td>0.169230</td>\n",
       "      <td>0.110463</td>\n",
       "      <td>0.133979</td>\n",
       "      <td>0.053057</td>\n",
       "      <td>0.038278</td>\n",
       "      <td>0.101411</td>\n",
       "    </tr>\n",
       "    <tr>\n",
       "      <th>probability_C</th>\n",
       "      <td>0.122963</td>\n",
       "      <td>0.117728</td>\n",
       "      <td>0.000000</td>\n",
       "      <td>0.015509</td>\n",
       "      <td>0.108562</td>\n",
       "      <td>0.087796</td>\n",
       "      <td>0.013832</td>\n",
       "      <td>0.023520</td>\n",
       "      <td>0.152182</td>\n",
       "      <td>0.047057</td>\n",
       "      <td>...</td>\n",
       "      <td>0.166969</td>\n",
       "      <td>0.082876</td>\n",
       "      <td>0.059359</td>\n",
       "      <td>0.063526</td>\n",
       "      <td>0.013567</td>\n",
       "      <td>0.059553</td>\n",
       "      <td>0.082789</td>\n",
       "      <td>0.033805</td>\n",
       "      <td>0.044670</td>\n",
       "      <td>0.115278</td>\n",
       "    </tr>\n",
       "    <tr>\n",
       "      <th>probability_D</th>\n",
       "      <td>0.187787</td>\n",
       "      <td>0.065155</td>\n",
       "      <td>0.015509</td>\n",
       "      <td>0.000000</td>\n",
       "      <td>0.153197</td>\n",
       "      <td>0.089158</td>\n",
       "      <td>0.058645</td>\n",
       "      <td>0.007592</td>\n",
       "      <td>0.091199</td>\n",
       "      <td>0.069540</td>\n",
       "      <td>...</td>\n",
       "      <td>0.147567</td>\n",
       "      <td>0.067251</td>\n",
       "      <td>0.036736</td>\n",
       "      <td>0.013737</td>\n",
       "      <td>0.185655</td>\n",
       "      <td>0.073679</td>\n",
       "      <td>0.114274</td>\n",
       "      <td>0.089706</td>\n",
       "      <td>0.128107</td>\n",
       "      <td>0.008436</td>\n",
       "    </tr>\n",
       "    <tr>\n",
       "      <th>time_A</th>\n",
       "      <td>0.004248</td>\n",
       "      <td>0.139395</td>\n",
       "      <td>0.108562</td>\n",
       "      <td>0.153197</td>\n",
       "      <td>0.000000</td>\n",
       "      <td>0.120632</td>\n",
       "      <td>0.114655</td>\n",
       "      <td>0.157343</td>\n",
       "      <td>0.081568</td>\n",
       "      <td>0.032632</td>\n",
       "      <td>...</td>\n",
       "      <td>0.035814</td>\n",
       "      <td>0.024235</td>\n",
       "      <td>0.090118</td>\n",
       "      <td>0.015023</td>\n",
       "      <td>0.108438</td>\n",
       "      <td>0.058671</td>\n",
       "      <td>0.450748</td>\n",
       "      <td>0.133300</td>\n",
       "      <td>0.185838</td>\n",
       "      <td>0.081842</td>\n",
       "    </tr>\n",
       "    <tr>\n",
       "      <th>...</th>\n",
       "      <td>...</td>\n",
       "      <td>...</td>\n",
       "      <td>...</td>\n",
       "      <td>...</td>\n",
       "      <td>...</td>\n",
       "      <td>...</td>\n",
       "      <td>...</td>\n",
       "      <td>...</td>\n",
       "      <td>...</td>\n",
       "      <td>...</td>\n",
       "      <td>...</td>\n",
       "      <td>...</td>\n",
       "      <td>...</td>\n",
       "      <td>...</td>\n",
       "      <td>...</td>\n",
       "      <td>...</td>\n",
       "      <td>...</td>\n",
       "      <td>...</td>\n",
       "      <td>...</td>\n",
       "      <td>...</td>\n",
       "      <td>...</td>\n",
       "    </tr>\n",
       "    <tr>\n",
       "      <th>activity_slow</th>\n",
       "      <td>0.031964</td>\n",
       "      <td>0.110463</td>\n",
       "      <td>0.059553</td>\n",
       "      <td>0.073679</td>\n",
       "      <td>0.058671</td>\n",
       "      <td>0.009632</td>\n",
       "      <td>0.180692</td>\n",
       "      <td>0.172054</td>\n",
       "      <td>0.030185</td>\n",
       "      <td>0.221588</td>\n",
       "      <td>...</td>\n",
       "      <td>0.000000</td>\n",
       "      <td>0.000000</td>\n",
       "      <td>0.000000</td>\n",
       "      <td>0.000000</td>\n",
       "      <td>0.000000</td>\n",
       "      <td>0.000000</td>\n",
       "      <td>0.000000</td>\n",
       "      <td>0.000000</td>\n",
       "      <td>0.000000</td>\n",
       "      <td>0.000000</td>\n",
       "    </tr>\n",
       "    <tr>\n",
       "      <th>activity_start</th>\n",
       "      <td>0.043448</td>\n",
       "      <td>0.133979</td>\n",
       "      <td>0.082789</td>\n",
       "      <td>0.114274</td>\n",
       "      <td>0.450748</td>\n",
       "      <td>0.504461</td>\n",
       "      <td>0.292901</td>\n",
       "      <td>0.319340</td>\n",
       "      <td>0.105070</td>\n",
       "      <td>0.212574</td>\n",
       "      <td>...</td>\n",
       "      <td>0.000000</td>\n",
       "      <td>0.000000</td>\n",
       "      <td>0.000000</td>\n",
       "      <td>0.000000</td>\n",
       "      <td>0.000000</td>\n",
       "      <td>0.000000</td>\n",
       "      <td>0.000000</td>\n",
       "      <td>0.000000</td>\n",
       "      <td>0.000000</td>\n",
       "      <td>0.000000</td>\n",
       "    </tr>\n",
       "    <tr>\n",
       "      <th>activity_successful</th>\n",
       "      <td>0.005136</td>\n",
       "      <td>0.053057</td>\n",
       "      <td>0.033805</td>\n",
       "      <td>0.089706</td>\n",
       "      <td>0.133300</td>\n",
       "      <td>0.168425</td>\n",
       "      <td>0.157017</td>\n",
       "      <td>0.048301</td>\n",
       "      <td>0.014453</td>\n",
       "      <td>0.024260</td>\n",
       "      <td>...</td>\n",
       "      <td>0.000000</td>\n",
       "      <td>0.000000</td>\n",
       "      <td>0.000000</td>\n",
       "      <td>0.000000</td>\n",
       "      <td>0.000000</td>\n",
       "      <td>0.000000</td>\n",
       "      <td>0.000000</td>\n",
       "      <td>0.000000</td>\n",
       "      <td>0.000000</td>\n",
       "      <td>0.000000</td>\n",
       "    </tr>\n",
       "    <tr>\n",
       "      <th>activity_training</th>\n",
       "      <td>0.042334</td>\n",
       "      <td>0.038278</td>\n",
       "      <td>0.044670</td>\n",
       "      <td>0.128107</td>\n",
       "      <td>0.185838</td>\n",
       "      <td>0.178828</td>\n",
       "      <td>0.196150</td>\n",
       "      <td>0.044068</td>\n",
       "      <td>0.014453</td>\n",
       "      <td>0.027917</td>\n",
       "      <td>...</td>\n",
       "      <td>0.000000</td>\n",
       "      <td>0.000000</td>\n",
       "      <td>0.000000</td>\n",
       "      <td>0.000000</td>\n",
       "      <td>0.000000</td>\n",
       "      <td>0.000000</td>\n",
       "      <td>0.000000</td>\n",
       "      <td>0.000000</td>\n",
       "      <td>0.000000</td>\n",
       "      <td>0.000000</td>\n",
       "    </tr>\n",
       "    <tr>\n",
       "      <th>activity_your</th>\n",
       "      <td>0.008351</td>\n",
       "      <td>0.101411</td>\n",
       "      <td>0.115278</td>\n",
       "      <td>0.008436</td>\n",
       "      <td>0.081842</td>\n",
       "      <td>0.168561</td>\n",
       "      <td>0.044265</td>\n",
       "      <td>0.073011</td>\n",
       "      <td>0.011830</td>\n",
       "      <td>0.029252</td>\n",
       "      <td>...</td>\n",
       "      <td>0.000000</td>\n",
       "      <td>0.000000</td>\n",
       "      <td>0.000000</td>\n",
       "      <td>0.000000</td>\n",
       "      <td>0.000000</td>\n",
       "      <td>0.000000</td>\n",
       "      <td>0.000000</td>\n",
       "      <td>0.000000</td>\n",
       "      <td>0.000000</td>\n",
       "      <td>0.000000</td>\n",
       "    </tr>\n",
       "  </tbody>\n",
       "</table>\n",
       "<p>84 rows × 84 columns</p>\n",
       "</div>"
      ],
      "text/plain": [
       "                     probability_A  probability_B  probability_C  \\\n",
       "probability_A             0.000000       0.118581       0.122963   \n",
       "probability_B             0.118581       0.000000       0.117728   \n",
       "probability_C             0.122963       0.117728       0.000000   \n",
       "probability_D             0.187787       0.065155       0.015509   \n",
       "time_A                    0.004248       0.139395       0.108562   \n",
       "...                            ...            ...            ...   \n",
       "activity_slow             0.031964       0.110463       0.059553   \n",
       "activity_start            0.043448       0.133979       0.082789   \n",
       "activity_successful       0.005136       0.053057       0.033805   \n",
       "activity_training         0.042334       0.038278       0.044670   \n",
       "activity_your             0.008351       0.101411       0.115278   \n",
       "\n",
       "                     probability_D    time_A    time_B    time_C    time_D  \\\n",
       "probability_A             0.187787  0.004248  0.105085  0.123828  0.177212   \n",
       "probability_B             0.065155  0.139395  0.013360  0.079328  0.040012   \n",
       "probability_C             0.015509  0.108562  0.087796  0.013832  0.023520   \n",
       "probability_D             0.000000  0.153197  0.089158  0.058645  0.007592   \n",
       "time_A                    0.153197  0.000000  0.120632  0.114655  0.157343   \n",
       "...                            ...       ...       ...       ...       ...   \n",
       "activity_slow             0.073679  0.058671  0.009632  0.180692  0.172054   \n",
       "activity_start            0.114274  0.450748  0.504461  0.292901  0.319340   \n",
       "activity_successful       0.089706  0.133300  0.168425  0.157017  0.048301   \n",
       "activity_training         0.128107  0.185838  0.178828  0.196150  0.044068   \n",
       "activity_your             0.008436  0.081842  0.168561  0.044265  0.073011   \n",
       "\n",
       "                        A_min     A_max  ...  name_P27  name_P28  name_P29  \\\n",
       "probability_A        0.073801  0.042322  ...  0.042842  0.036042  0.084381   \n",
       "probability_B        0.117202  0.110011  ...  0.034627  0.051432  0.066254   \n",
       "probability_C        0.152182  0.047057  ...  0.166969  0.082876  0.059359   \n",
       "probability_D        0.091199  0.069540  ...  0.147567  0.067251  0.036736   \n",
       "time_A               0.081568  0.032632  ...  0.035814  0.024235  0.090118   \n",
       "...                       ...       ...  ...       ...       ...       ...   \n",
       "activity_slow        0.030185  0.221588  ...  0.000000  0.000000  0.000000   \n",
       "activity_start       0.105070  0.212574  ...  0.000000  0.000000  0.000000   \n",
       "activity_successful  0.014453  0.024260  ...  0.000000  0.000000  0.000000   \n",
       "activity_training    0.014453  0.027917  ...  0.000000  0.000000  0.000000   \n",
       "activity_your        0.011830  0.029252  ...  0.000000  0.000000  0.000000   \n",
       "\n",
       "                     name_P30  activity_fitness  activity_slow  \\\n",
       "probability_A        0.016857          0.044337       0.031964   \n",
       "probability_B        0.062265          0.169230       0.110463   \n",
       "probability_C        0.063526          0.013567       0.059553   \n",
       "probability_D        0.013737          0.185655       0.073679   \n",
       "time_A               0.015023          0.108438       0.058671   \n",
       "...                       ...               ...            ...   \n",
       "activity_slow        0.000000          0.000000       0.000000   \n",
       "activity_start       0.000000          0.000000       0.000000   \n",
       "activity_successful  0.000000          0.000000       0.000000   \n",
       "activity_training    0.000000          0.000000       0.000000   \n",
       "activity_your        0.000000          0.000000       0.000000   \n",
       "\n",
       "                     activity_start  activity_successful  activity_training  \\\n",
       "probability_A              0.043448             0.005136           0.042334   \n",
       "probability_B              0.133979             0.053057           0.038278   \n",
       "probability_C              0.082789             0.033805           0.044670   \n",
       "probability_D              0.114274             0.089706           0.128107   \n",
       "time_A                     0.450748             0.133300           0.185838   \n",
       "...                             ...                  ...                ...   \n",
       "activity_slow              0.000000             0.000000           0.000000   \n",
       "activity_start             0.000000             0.000000           0.000000   \n",
       "activity_successful        0.000000             0.000000           0.000000   \n",
       "activity_training          0.000000             0.000000           0.000000   \n",
       "activity_your              0.000000             0.000000           0.000000   \n",
       "\n",
       "                     activity_your  \n",
       "probability_A             0.008351  \n",
       "probability_B             0.101411  \n",
       "probability_C             0.115278  \n",
       "probability_D             0.008436  \n",
       "time_A                    0.081842  \n",
       "...                            ...  \n",
       "activity_slow             0.000000  \n",
       "activity_start            0.000000  \n",
       "activity_successful       0.000000  \n",
       "activity_training         0.000000  \n",
       "activity_your             0.000000  \n",
       "\n",
       "[84 rows x 84 columns]"
      ]
     },
     "execution_count": 36,
     "metadata": {},
     "output_type": "execute_result"
    }
   ],
   "source": [
    "# Calculate the absolute difference between the correlation matrices\n",
    "correlation_diff = abs(correlation_matrix_guided - correlation_matrix_self_guided)\n",
    "\n",
    "# Display the absolute difference matrix\n",
    "correlation_diff"
   ]
  },
  {
   "cell_type": "code",
   "execution_count": 37,
   "metadata": {},
   "outputs": [
    {
     "data": {
      "application/vnd.plotly.v1+json": {
       "config": {
        "plotlyServerURL": "https://plot.ly"
       },
       "data": [
        {
         "coloraxis": "coloraxis",
         "hovertemplate": "x: %{x}<br>y: %{y}<br>Absolute Correlation Difference: %{z}<extra></extra>",
         "name": "0",
         "type": "heatmap",
         "x": [
          "probability_A",
          "probability_B",
          "probability_C",
          "probability_D",
          "time_A",
          "time_B",
          "time_C",
          "time_D",
          "A_min",
          "A_max",
          "A_mean",
          "A_std",
          "B_min",
          "B_max",
          "B_mean",
          "B_std",
          "C_min",
          "C_max",
          "C_mean",
          "C_std",
          "D_min",
          "D_max",
          "D_mean",
          "D_std",
          "P_A_A",
          "P_A_B",
          "P_A_C",
          "P_A_D",
          "P_B_A",
          "P_B_B",
          "P_B_C",
          "P_B_D",
          "P_C_A",
          "P_C_B",
          "P_C_C",
          "P_C_D",
          "P_D_A",
          "P_D_B",
          "P_D_C",
          "P_D_D",
          "GEV_total",
          "GEV_A",
          "GEV_B",
          "GEV_C",
          "GEV_D",
          "max_entropy",
          "entropy",
          "mc_entropy",
          "name_P01",
          "name_P02",
          "name_P03",
          "name_P04",
          "name_P05",
          "name_P06",
          "name_P07",
          "name_P08",
          "name_P09",
          "name_P10",
          "name_P11",
          "name_P12",
          "name_P13",
          "name_P14",
          "name_P15",
          "name_P16",
          "name_P17",
          "name_P18",
          "name_P19",
          "name_P20",
          "name_P21",
          "name_P22",
          "name_P23",
          "name_P24",
          "name_P25",
          "name_P26",
          "name_P27",
          "name_P28",
          "name_P29",
          "name_P30",
          "activity_fitness",
          "activity_slow",
          "activity_start",
          "activity_successful",
          "activity_training",
          "activity_your"
         ],
         "xaxis": "x",
         "y": [
          "probability_A",
          "probability_B",
          "probability_C",
          "probability_D",
          "time_A",
          "time_B",
          "time_C",
          "time_D",
          "A_min",
          "A_max",
          "A_mean",
          "A_std",
          "B_min",
          "B_max",
          "B_mean",
          "B_std",
          "C_min",
          "C_max",
          "C_mean",
          "C_std",
          "D_min",
          "D_max",
          "D_mean",
          "D_std",
          "P_A_A",
          "P_A_B",
          "P_A_C",
          "P_A_D",
          "P_B_A",
          "P_B_B",
          "P_B_C",
          "P_B_D",
          "P_C_A",
          "P_C_B",
          "P_C_C",
          "P_C_D",
          "P_D_A",
          "P_D_B",
          "P_D_C",
          "P_D_D",
          "GEV_total",
          "GEV_A",
          "GEV_B",
          "GEV_C",
          "GEV_D",
          "max_entropy",
          "entropy",
          "mc_entropy",
          "name_P01",
          "name_P02",
          "name_P03",
          "name_P04",
          "name_P05",
          "name_P06",
          "name_P07",
          "name_P08",
          "name_P09",
          "name_P10",
          "name_P11",
          "name_P12",
          "name_P13",
          "name_P14",
          "name_P15",
          "name_P16",
          "name_P17",
          "name_P18",
          "name_P19",
          "name_P20",
          "name_P21",
          "name_P22",
          "name_P23",
          "name_P24",
          "name_P25",
          "name_P26",
          "name_P27",
          "name_P28",
          "name_P29",
          "name_P30",
          "activity_fitness",
          "activity_slow",
          "activity_start",
          "activity_successful",
          "activity_training",
          "activity_your"
         ],
         "yaxis": "y",
         "z": {
          "bdata": "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",
          "dtype": "f8",
          "shape": "84, 84"
         }
        }
       ],
       "layout": {
        "coloraxis": {
         "cmax": 1,
         "cmin": 0,
         "colorbar": {
          "title": {
           "text": "Absolute Correlation Difference"
          }
         },
         "colorscale": [
          [
           0,
           "rgb(5,48,97)"
          ],
          [
           0.1,
           "rgb(33,102,172)"
          ],
          [
           0.2,
           "rgb(67,147,195)"
          ],
          [
           0.3,
           "rgb(146,197,222)"
          ],
          [
           0.4,
           "rgb(209,229,240)"
          ],
          [
           0.5,
           "rgb(247,247,247)"
          ],
          [
           0.6,
           "rgb(253,219,199)"
          ],
          [
           0.7,
           "rgb(244,165,130)"
          ],
          [
           0.8,
           "rgb(214,96,77)"
          ],
          [
           0.9,
           "rgb(178,24,43)"
          ],
          [
           1,
           "rgb(103,0,31)"
          ]
         ]
        },
        "height": 800,
        "margin": {
         "t": 60
        },
        "template": {
         "data": {
          "bar": [
           {
            "error_x": {
             "color": "#2a3f5f"
            },
            "error_y": {
             "color": "#2a3f5f"
            },
            "marker": {
             "line": {
              "color": "#E5ECF6",
              "width": 0.5
             },
             "pattern": {
              "fillmode": "overlay",
              "size": 10,
              "solidity": 0.2
             }
            },
            "type": "bar"
           }
          ],
          "barpolar": [
           {
            "marker": {
             "line": {
              "color": "#E5ECF6",
              "width": 0.5
             },
             "pattern": {
              "fillmode": "overlay",
              "size": 10,
              "solidity": 0.2
             }
            },
            "type": "barpolar"
           }
          ],
          "carpet": [
           {
            "aaxis": {
             "endlinecolor": "#2a3f5f",
             "gridcolor": "white",
             "linecolor": "white",
             "minorgridcolor": "white",
             "startlinecolor": "#2a3f5f"
            },
            "baxis": {
             "endlinecolor": "#2a3f5f",
             "gridcolor": "white",
             "linecolor": "white",
             "minorgridcolor": "white",
             "startlinecolor": "#2a3f5f"
            },
            "type": "carpet"
           }
          ],
          "choropleth": [
           {
            "colorbar": {
             "outlinewidth": 0,
             "ticks": ""
            },
            "type": "choropleth"
           }
          ],
          "contour": [
           {
            "colorbar": {
             "outlinewidth": 0,
             "ticks": ""
            },
            "colorscale": [
             [
              0,
              "#0d0887"
             ],
             [
              0.1111111111111111,
              "#46039f"
             ],
             [
              0.2222222222222222,
              "#7201a8"
             ],
             [
              0.3333333333333333,
              "#9c179e"
             ],
             [
              0.4444444444444444,
              "#bd3786"
             ],
             [
              0.5555555555555556,
              "#d8576b"
             ],
             [
              0.6666666666666666,
              "#ed7953"
             ],
             [
              0.7777777777777778,
              "#fb9f3a"
             ],
             [
              0.8888888888888888,
              "#fdca26"
             ],
             [
              1,
              "#f0f921"
             ]
            ],
            "type": "contour"
           }
          ],
          "contourcarpet": [
           {
            "colorbar": {
             "outlinewidth": 0,
             "ticks": ""
            },
            "type": "contourcarpet"
           }
          ],
          "heatmap": [
           {
            "colorbar": {
             "outlinewidth": 0,
             "ticks": ""
            },
            "colorscale": [
             [
              0,
              "#0d0887"
             ],
             [
              0.1111111111111111,
              "#46039f"
             ],
             [
              0.2222222222222222,
              "#7201a8"
             ],
             [
              0.3333333333333333,
              "#9c179e"
             ],
             [
              0.4444444444444444,
              "#bd3786"
             ],
             [
              0.5555555555555556,
              "#d8576b"
             ],
             [
              0.6666666666666666,
              "#ed7953"
             ],
             [
              0.7777777777777778,
              "#fb9f3a"
             ],
             [
              0.8888888888888888,
              "#fdca26"
             ],
             [
              1,
              "#f0f921"
             ]
            ],
            "type": "heatmap"
           }
          ],
          "histogram": [
           {
            "marker": {
             "pattern": {
              "fillmode": "overlay",
              "size": 10,
              "solidity": 0.2
             }
            },
            "type": "histogram"
           }
          ],
          "histogram2d": [
           {
            "colorbar": {
             "outlinewidth": 0,
             "ticks": ""
            },
            "colorscale": [
             [
              0,
              "#0d0887"
             ],
             [
              0.1111111111111111,
              "#46039f"
             ],
             [
              0.2222222222222222,
              "#7201a8"
             ],
             [
              0.3333333333333333,
              "#9c179e"
             ],
             [
              0.4444444444444444,
              "#bd3786"
             ],
             [
              0.5555555555555556,
              "#d8576b"
             ],
             [
              0.6666666666666666,
              "#ed7953"
             ],
             [
              0.7777777777777778,
              "#fb9f3a"
             ],
             [
              0.8888888888888888,
              "#fdca26"
             ],
             [
              1,
              "#f0f921"
             ]
            ],
            "type": "histogram2d"
           }
          ],
          "histogram2dcontour": [
           {
            "colorbar": {
             "outlinewidth": 0,
             "ticks": ""
            },
            "colorscale": [
             [
              0,
              "#0d0887"
             ],
             [
              0.1111111111111111,
              "#46039f"
             ],
             [
              0.2222222222222222,
              "#7201a8"
             ],
             [
              0.3333333333333333,
              "#9c179e"
             ],
             [
              0.4444444444444444,
              "#bd3786"
             ],
             [
              0.5555555555555556,
              "#d8576b"
             ],
             [
              0.6666666666666666,
              "#ed7953"
             ],
             [
              0.7777777777777778,
              "#fb9f3a"
             ],
             [
              0.8888888888888888,
              "#fdca26"
             ],
             [
              1,
              "#f0f921"
             ]
            ],
            "type": "histogram2dcontour"
           }
          ],
          "mesh3d": [
           {
            "colorbar": {
             "outlinewidth": 0,
             "ticks": ""
            },
            "type": "mesh3d"
           }
          ],
          "parcoords": [
           {
            "line": {
             "colorbar": {
              "outlinewidth": 0,
              "ticks": ""
             }
            },
            "type": "parcoords"
           }
          ],
          "pie": [
           {
            "automargin": true,
            "type": "pie"
           }
          ],
          "scatter": [
           {
            "fillpattern": {
             "fillmode": "overlay",
             "size": 10,
             "solidity": 0.2
            },
            "type": "scatter"
           }
          ],
          "scatter3d": [
           {
            "line": {
             "colorbar": {
              "outlinewidth": 0,
              "ticks": ""
             }
            },
            "marker": {
             "colorbar": {
              "outlinewidth": 0,
              "ticks": ""
             }
            },
            "type": "scatter3d"
           }
          ],
          "scattercarpet": [
           {
            "marker": {
             "colorbar": {
              "outlinewidth": 0,
              "ticks": ""
             }
            },
            "type": "scattercarpet"
           }
          ],
          "scattergeo": [
           {
            "marker": {
             "colorbar": {
              "outlinewidth": 0,
              "ticks": ""
             }
            },
            "type": "scattergeo"
           }
          ],
          "scattergl": [
           {
            "marker": {
             "colorbar": {
              "outlinewidth": 0,
              "ticks": ""
             }
            },
            "type": "scattergl"
           }
          ],
          "scattermap": [
           {
            "marker": {
             "colorbar": {
              "outlinewidth": 0,
              "ticks": ""
             }
            },
            "type": "scattermap"
           }
          ],
          "scattermapbox": [
           {
            "marker": {
             "colorbar": {
              "outlinewidth": 0,
              "ticks": ""
             }
            },
            "type": "scattermapbox"
           }
          ],
          "scatterpolar": [
           {
            "marker": {
             "colorbar": {
              "outlinewidth": 0,
              "ticks": ""
             }
            },
            "type": "scatterpolar"
           }
          ],
          "scatterpolargl": [
           {
            "marker": {
             "colorbar": {
              "outlinewidth": 0,
              "ticks": ""
             }
            },
            "type": "scatterpolargl"
           }
          ],
          "scatterternary": [
           {
            "marker": {
             "colorbar": {
              "outlinewidth": 0,
              "ticks": ""
             }
            },
            "type": "scatterternary"
           }
          ],
          "surface": [
           {
            "colorbar": {
             "outlinewidth": 0,
             "ticks": ""
            },
            "colorscale": [
             [
              0,
              "#0d0887"
             ],
             [
              0.1111111111111111,
              "#46039f"
             ],
             [
              0.2222222222222222,
              "#7201a8"
             ],
             [
              0.3333333333333333,
              "#9c179e"
             ],
             [
              0.4444444444444444,
              "#bd3786"
             ],
             [
              0.5555555555555556,
              "#d8576b"
             ],
             [
              0.6666666666666666,
              "#ed7953"
             ],
             [
              0.7777777777777778,
              "#fb9f3a"
             ],
             [
              0.8888888888888888,
              "#fdca26"
             ],
             [
              1,
              "#f0f921"
             ]
            ],
            "type": "surface"
           }
          ],
          "table": [
           {
            "cells": {
             "fill": {
              "color": "#EBF0F8"
             },
             "line": {
              "color": "white"
             }
            },
            "header": {
             "fill": {
              "color": "#C8D4E3"
             },
             "line": {
              "color": "white"
             }
            },
            "type": "table"
           }
          ]
         },
         "layout": {
          "annotationdefaults": {
           "arrowcolor": "#2a3f5f",
           "arrowhead": 0,
           "arrowwidth": 1
          },
          "autotypenumbers": "strict",
          "coloraxis": {
           "colorbar": {
            "outlinewidth": 0,
            "ticks": ""
           }
          },
          "colorscale": {
           "diverging": [
            [
             0,
             "#8e0152"
            ],
            [
             0.1,
             "#c51b7d"
            ],
            [
             0.2,
             "#de77ae"
            ],
            [
             0.3,
             "#f1b6da"
            ],
            [
             0.4,
             "#fde0ef"
            ],
            [
             0.5,
             "#f7f7f7"
            ],
            [
             0.6,
             "#e6f5d0"
            ],
            [
             0.7,
             "#b8e186"
            ],
            [
             0.8,
             "#7fbc41"
            ],
            [
             0.9,
             "#4d9221"
            ],
            [
             1,
             "#276419"
            ]
           ],
           "sequential": [
            [
             0,
             "#0d0887"
            ],
            [
             0.1111111111111111,
             "#46039f"
            ],
            [
             0.2222222222222222,
             "#7201a8"
            ],
            [
             0.3333333333333333,
             "#9c179e"
            ],
            [
             0.4444444444444444,
             "#bd3786"
            ],
            [
             0.5555555555555556,
             "#d8576b"
            ],
            [
             0.6666666666666666,
             "#ed7953"
            ],
            [
             0.7777777777777778,
             "#fb9f3a"
            ],
            [
             0.8888888888888888,
             "#fdca26"
            ],
            [
             1,
             "#f0f921"
            ]
           ],
           "sequentialminus": [
            [
             0,
             "#0d0887"
            ],
            [
             0.1111111111111111,
             "#46039f"
            ],
            [
             0.2222222222222222,
             "#7201a8"
            ],
            [
             0.3333333333333333,
             "#9c179e"
            ],
            [
             0.4444444444444444,
             "#bd3786"
            ],
            [
             0.5555555555555556,
             "#d8576b"
            ],
            [
             0.6666666666666666,
             "#ed7953"
            ],
            [
             0.7777777777777778,
             "#fb9f3a"
            ],
            [
             0.8888888888888888,
             "#fdca26"
            ],
            [
             1,
             "#f0f921"
            ]
           ]
          },
          "colorway": [
           "#636efa",
           "#EF553B",
           "#00cc96",
           "#ab63fa",
           "#FFA15A",
           "#19d3f3",
           "#FF6692",
           "#B6E880",
           "#FF97FF",
           "#FECB52"
          ],
          "font": {
           "color": "#2a3f5f"
          },
          "geo": {
           "bgcolor": "white",
           "lakecolor": "white",
           "landcolor": "#E5ECF6",
           "showlakes": true,
           "showland": true,
           "subunitcolor": "white"
          },
          "hoverlabel": {
           "align": "left"
          },
          "hovermode": "closest",
          "mapbox": {
           "style": "light"
          },
          "paper_bgcolor": "white",
          "plot_bgcolor": "#E5ECF6",
          "polar": {
           "angularaxis": {
            "gridcolor": "white",
            "linecolor": "white",
            "ticks": ""
           },
           "bgcolor": "#E5ECF6",
           "radialaxis": {
            "gridcolor": "white",
            "linecolor": "white",
            "ticks": ""
           }
          },
          "scene": {
           "xaxis": {
            "backgroundcolor": "#E5ECF6",
            "gridcolor": "white",
            "gridwidth": 2,
            "linecolor": "white",
            "showbackground": true,
            "ticks": "",
            "zerolinecolor": "white"
           },
           "yaxis": {
            "backgroundcolor": "#E5ECF6",
            "gridcolor": "white",
            "gridwidth": 2,
            "linecolor": "white",
            "showbackground": true,
            "ticks": "",
            "zerolinecolor": "white"
           },
           "zaxis": {
            "backgroundcolor": "#E5ECF6",
            "gridcolor": "white",
            "gridwidth": 2,
            "linecolor": "white",
            "showbackground": true,
            "ticks": "",
            "zerolinecolor": "white"
           }
          },
          "shapedefaults": {
           "line": {
            "color": "#2a3f5f"
           }
          },
          "ternary": {
           "aaxis": {
            "gridcolor": "white",
            "linecolor": "white",
            "ticks": ""
           },
           "baxis": {
            "gridcolor": "white",
            "linecolor": "white",
            "ticks": ""
           },
           "bgcolor": "#E5ECF6",
           "caxis": {
            "gridcolor": "white",
            "linecolor": "white",
            "ticks": ""
           }
          },
          "title": {
           "x": 0.05
          },
          "xaxis": {
           "automargin": true,
           "gridcolor": "white",
           "linecolor": "white",
           "ticks": "",
           "title": {
            "standoff": 15
           },
           "zerolinecolor": "white",
           "zerolinewidth": 2
          },
          "yaxis": {
           "automargin": true,
           "gridcolor": "white",
           "linecolor": "white",
           "ticks": "",
           "title": {
            "standoff": 15
           },
           "zerolinecolor": "white",
           "zerolinewidth": 2
          }
         }
        },
        "title": {
         "text": "Absolute Difference in Correlation Matrices"
        },
        "width": 1000,
        "xaxis": {
         "anchor": "y",
         "constrain": "domain",
         "domain": [
          0,
          1
         ],
         "scaleanchor": "y",
         "title": {
          "text": "Features"
         }
        },
        "yaxis": {
         "anchor": "x",
         "autorange": "reversed",
         "constrain": "domain",
         "domain": [
          0,
          1
         ],
         "title": {
          "text": "Features"
         }
        }
       }
      }
     },
     "metadata": {},
     "output_type": "display_data"
    }
   ],
   "source": [
    "import plotly.express as px\n",
    "\n",
    "# Create the heatmap for the absolute difference between the correlation matrices\n",
    "fig = px.imshow(correlation_diff, \n",
    "                labels=dict(color=\"Absolute Correlation Difference\"),\n",
    "                x=correlation_diff.columns,\n",
    "                y=correlation_diff.index,\n",
    "                color_continuous_scale='RdBu_r',\n",
    "                zmin=0, zmax=1)\n",
    "\n",
    "# Update layout for better readability\n",
    "fig.update_layout(\n",
    "    title='Absolute Difference in Correlation Matrices',\n",
    "    xaxis_title='Features',\n",
    "    yaxis_title='Features',\n",
    "    width=1000,\n",
    "    height=800\n",
    ")\n",
    "\n",
    "# Show the plot\n",
    "fig.show()"
   ]
  },
  {
   "cell_type": "code",
   "execution_count": null,
   "metadata": {},
   "outputs": [],
   "source": []
  },
  {
   "cell_type": "code",
   "execution_count": null,
   "metadata": {},
   "outputs": [],
   "source": []
  }
 ],
 "metadata": {
  "kernelspec": {
   "display_name": ".conda",
   "language": "python",
   "name": "python3"
  },
  "language_info": {
   "codemirror_mode": {
    "name": "ipython",
    "version": 3
   },
   "file_extension": ".py",
   "mimetype": "text/x-python",
   "name": "python",
   "nbconvert_exporter": "python",
   "pygments_lexer": "ipython3",
   "version": "3.11.11"
  }
 },
 "nbformat": 4,
 "nbformat_minor": 2
}
