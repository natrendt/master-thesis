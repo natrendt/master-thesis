{
 "cells": [
  {
   "cell_type": "code",
   "execution_count": null,
   "metadata": {},
   "outputs": [],
   "source": [
    "import numpy as np\n",
    "import pandas as pd\n",
    "import seaborn as sns\n",
    "import matplotlib.pyplot as plt\n",
    "from sklearn.metrics import silhouette_score, davies_bouldin_score, calinski_harabasz_score, adjusted_rand_score\n",
    "from sklearn.cluster import KMeans, DBSCAN\n",
    "from sklearn.preprocessing import StandardScaler, OneHotEncoder\n",
    "from sklearn.decomposition import PCA\n",
    "from sklearn.manifold import TSNE"
   ]
  },
  {
   "cell_type": "code",
   "execution_count": 8,
   "metadata": {},
   "outputs": [
    {
     "data": {
      "text/html": [
       "<div>\n",
       "<style scoped>\n",
       "    .dataframe tbody tr th:only-of-type {\n",
       "        vertical-align: middle;\n",
       "    }\n",
       "\n",
       "    .dataframe tbody tr th {\n",
       "        vertical-align: top;\n",
       "    }\n",
       "\n",
       "    .dataframe thead th {\n",
       "        text-align: right;\n",
       "    }\n",
       "</style>\n",
       "<table border=\"1\" class=\"dataframe\">\n",
       "  <thead>\n",
       "    <tr style=\"text-align: right;\">\n",
       "      <th></th>\n",
       "      <th>name</th>\n",
       "      <th>activity</th>\n",
       "      <th>imagining</th>\n",
       "      <th>probability_A</th>\n",
       "      <th>probability_B</th>\n",
       "      <th>probability_C</th>\n",
       "      <th>probability_D</th>\n",
       "      <th>time_A</th>\n",
       "      <th>time_B</th>\n",
       "      <th>time_C</th>\n",
       "      <th>...</th>\n",
       "      <th>P_D_C</th>\n",
       "      <th>P_D_D</th>\n",
       "      <th>GEV_total</th>\n",
       "      <th>GEV_A</th>\n",
       "      <th>GEV_B</th>\n",
       "      <th>GEV_C</th>\n",
       "      <th>GEV_D</th>\n",
       "      <th>max_entropy</th>\n",
       "      <th>entropy</th>\n",
       "      <th>mc_entropy</th>\n",
       "    </tr>\n",
       "  </thead>\n",
       "  <tbody>\n",
       "    <tr>\n",
       "      <th>0</th>\n",
       "      <td>P19</td>\n",
       "      <td>successful</td>\n",
       "      <td>guided</td>\n",
       "      <td>0.334737</td>\n",
       "      <td>0.250526</td>\n",
       "      <td>0.114947</td>\n",
       "      <td>0.299789</td>\n",
       "      <td>12.720</td>\n",
       "      <td>9.520</td>\n",
       "      <td>4.368</td>\n",
       "      <td>...</td>\n",
       "      <td>0.009480</td>\n",
       "      <td>0.928020</td>\n",
       "      <td>0.625059</td>\n",
       "      <td>0.208141</td>\n",
       "      <td>0.231092</td>\n",
       "      <td>0.087980</td>\n",
       "      <td>0.097846</td>\n",
       "      <td>2.0</td>\n",
       "      <td>1.908582</td>\n",
       "      <td>0.467345</td>\n",
       "    </tr>\n",
       "    <tr>\n",
       "      <th>1</th>\n",
       "      <td>P19</td>\n",
       "      <td>successful</td>\n",
       "      <td>self-guided</td>\n",
       "      <td>0.250867</td>\n",
       "      <td>0.314267</td>\n",
       "      <td>0.208333</td>\n",
       "      <td>0.226533</td>\n",
       "      <td>15.052</td>\n",
       "      <td>18.856</td>\n",
       "      <td>12.500</td>\n",
       "      <td>...</td>\n",
       "      <td>0.021778</td>\n",
       "      <td>0.912890</td>\n",
       "      <td>0.759168</td>\n",
       "      <td>0.162572</td>\n",
       "      <td>0.383593</td>\n",
       "      <td>0.130449</td>\n",
       "      <td>0.082553</td>\n",
       "      <td>2.0</td>\n",
       "      <td>1.982033</td>\n",
       "      <td>0.524097</td>\n",
       "    </tr>\n",
       "    <tr>\n",
       "      <th>2</th>\n",
       "      <td>P19</td>\n",
       "      <td>training</td>\n",
       "      <td>guided</td>\n",
       "      <td>0.296865</td>\n",
       "      <td>0.097189</td>\n",
       "      <td>0.238486</td>\n",
       "      <td>0.367459</td>\n",
       "      <td>10.984</td>\n",
       "      <td>3.596</td>\n",
       "      <td>8.824</td>\n",
       "      <td>...</td>\n",
       "      <td>0.018241</td>\n",
       "      <td>0.948220</td>\n",
       "      <td>0.683006</td>\n",
       "      <td>0.195897</td>\n",
       "      <td>0.078354</td>\n",
       "      <td>0.193590</td>\n",
       "      <td>0.215166</td>\n",
       "      <td>2.0</td>\n",
       "      <td>1.870929</td>\n",
       "      <td>0.370989</td>\n",
       "    </tr>\n",
       "    <tr>\n",
       "      <th>3</th>\n",
       "      <td>P19</td>\n",
       "      <td>training</td>\n",
       "      <td>self-guided</td>\n",
       "      <td>0.250200</td>\n",
       "      <td>0.221067</td>\n",
       "      <td>0.250867</td>\n",
       "      <td>0.277867</td>\n",
       "      <td>15.012</td>\n",
       "      <td>13.264</td>\n",
       "      <td>15.052</td>\n",
       "      <td>...</td>\n",
       "      <td>0.019194</td>\n",
       "      <td>0.929463</td>\n",
       "      <td>0.690942</td>\n",
       "      <td>0.177679</td>\n",
       "      <td>0.128834</td>\n",
       "      <td>0.264577</td>\n",
       "      <td>0.119851</td>\n",
       "      <td>2.0</td>\n",
       "      <td>1.995322</td>\n",
       "      <td>0.506433</td>\n",
       "    </tr>\n",
       "    <tr>\n",
       "      <th>4</th>\n",
       "      <td>P19</td>\n",
       "      <td>slow</td>\n",
       "      <td>guided</td>\n",
       "      <td>0.184766</td>\n",
       "      <td>0.358298</td>\n",
       "      <td>0.152085</td>\n",
       "      <td>0.304851</td>\n",
       "      <td>8.684</td>\n",
       "      <td>16.840</td>\n",
       "      <td>7.148</td>\n",
       "      <td>...</td>\n",
       "      <td>0.015634</td>\n",
       "      <td>0.927694</td>\n",
       "      <td>0.496745</td>\n",
       "      <td>0.117303</td>\n",
       "      <td>0.183319</td>\n",
       "      <td>0.078563</td>\n",
       "      <td>0.117561</td>\n",
       "      <td>2.0</td>\n",
       "      <td>1.916372</td>\n",
       "      <td>0.451174</td>\n",
       "    </tr>\n",
       "    <tr>\n",
       "      <th>...</th>\n",
       "      <td>...</td>\n",
       "      <td>...</td>\n",
       "      <td>...</td>\n",
       "      <td>...</td>\n",
       "      <td>...</td>\n",
       "      <td>...</td>\n",
       "      <td>...</td>\n",
       "      <td>...</td>\n",
       "      <td>...</td>\n",
       "      <td>...</td>\n",
       "      <td>...</td>\n",
       "      <td>...</td>\n",
       "      <td>...</td>\n",
       "      <td>...</td>\n",
       "      <td>...</td>\n",
       "      <td>...</td>\n",
       "      <td>...</td>\n",
       "      <td>...</td>\n",
       "      <td>...</td>\n",
       "      <td>...</td>\n",
       "      <td>...</td>\n",
       "    </tr>\n",
       "    <tr>\n",
       "      <th>355</th>\n",
       "      <td>P20</td>\n",
       "      <td>start</td>\n",
       "      <td>self-guided</td>\n",
       "      <td>0.244000</td>\n",
       "      <td>0.257043</td>\n",
       "      <td>0.195043</td>\n",
       "      <td>0.303913</td>\n",
       "      <td>11.224</td>\n",
       "      <td>11.824</td>\n",
       "      <td>8.972</td>\n",
       "      <td>...</td>\n",
       "      <td>0.030901</td>\n",
       "      <td>0.903004</td>\n",
       "      <td>0.767544</td>\n",
       "      <td>0.176991</td>\n",
       "      <td>0.271176</td>\n",
       "      <td>0.062497</td>\n",
       "      <td>0.256879</td>\n",
       "      <td>2.0</td>\n",
       "      <td>1.982478</td>\n",
       "      <td>0.660350</td>\n",
       "    </tr>\n",
       "    <tr>\n",
       "      <th>356</th>\n",
       "      <td>P20</td>\n",
       "      <td>fitness</td>\n",
       "      <td>guided</td>\n",
       "      <td>0.330703</td>\n",
       "      <td>0.315459</td>\n",
       "      <td>0.169297</td>\n",
       "      <td>0.184541</td>\n",
       "      <td>12.236</td>\n",
       "      <td>11.672</td>\n",
       "      <td>6.264</td>\n",
       "      <td>...</td>\n",
       "      <td>0.019918</td>\n",
       "      <td>0.878149</td>\n",
       "      <td>0.766467</td>\n",
       "      <td>0.319659</td>\n",
       "      <td>0.311013</td>\n",
       "      <td>0.043526</td>\n",
       "      <td>0.092270</td>\n",
       "      <td>2.0</td>\n",
       "      <td>1.936716</td>\n",
       "      <td>0.623212</td>\n",
       "    </tr>\n",
       "    <tr>\n",
       "      <th>357</th>\n",
       "      <td>P20</td>\n",
       "      <td>fitness</td>\n",
       "      <td>self-guided</td>\n",
       "      <td>0.347267</td>\n",
       "      <td>0.280000</td>\n",
       "      <td>0.120200</td>\n",
       "      <td>0.252533</td>\n",
       "      <td>20.836</td>\n",
       "      <td>16.800</td>\n",
       "      <td>7.212</td>\n",
       "      <td>...</td>\n",
       "      <td>0.009770</td>\n",
       "      <td>0.894375</td>\n",
       "      <td>0.805037</td>\n",
       "      <td>0.392133</td>\n",
       "      <td>0.248939</td>\n",
       "      <td>0.028345</td>\n",
       "      <td>0.135620</td>\n",
       "      <td>2.0</td>\n",
       "      <td>1.912893</td>\n",
       "      <td>0.626463</td>\n",
       "    </tr>\n",
       "    <tr>\n",
       "      <th>358</th>\n",
       "      <td>P20</td>\n",
       "      <td>your</td>\n",
       "      <td>guided</td>\n",
       "      <td>0.267800</td>\n",
       "      <td>0.352000</td>\n",
       "      <td>0.148500</td>\n",
       "      <td>0.231700</td>\n",
       "      <td>10.712</td>\n",
       "      <td>14.080</td>\n",
       "      <td>5.940</td>\n",
       "      <td>...</td>\n",
       "      <td>0.013379</td>\n",
       "      <td>0.889944</td>\n",
       "      <td>0.770506</td>\n",
       "      <td>0.248660</td>\n",
       "      <td>0.333379</td>\n",
       "      <td>0.035835</td>\n",
       "      <td>0.152632</td>\n",
       "      <td>2.0</td>\n",
       "      <td>1.936666</td>\n",
       "      <td>0.644831</td>\n",
       "    </tr>\n",
       "    <tr>\n",
       "      <th>359</th>\n",
       "      <td>P20</td>\n",
       "      <td>your</td>\n",
       "      <td>self-guided</td>\n",
       "      <td>0.323733</td>\n",
       "      <td>0.241067</td>\n",
       "      <td>0.155133</td>\n",
       "      <td>0.280067</td>\n",
       "      <td>19.424</td>\n",
       "      <td>14.464</td>\n",
       "      <td>9.308</td>\n",
       "      <td>...</td>\n",
       "      <td>0.017615</td>\n",
       "      <td>0.906451</td>\n",
       "      <td>0.804421</td>\n",
       "      <td>0.378434</td>\n",
       "      <td>0.190348</td>\n",
       "      <td>0.039485</td>\n",
       "      <td>0.196155</td>\n",
       "      <td>2.0</td>\n",
       "      <td>1.952852</td>\n",
       "      <td>0.652335</td>\n",
       "    </tr>\n",
       "  </tbody>\n",
       "</table>\n",
       "<p>360 rows × 51 columns</p>\n",
       "</div>"
      ],
      "text/plain": [
       "    name    activity    imagining  probability_A  probability_B  \\\n",
       "0    P19  successful       guided       0.334737       0.250526   \n",
       "1    P19  successful  self-guided       0.250867       0.314267   \n",
       "2    P19    training       guided       0.296865       0.097189   \n",
       "3    P19    training  self-guided       0.250200       0.221067   \n",
       "4    P19        slow       guided       0.184766       0.358298   \n",
       "..   ...         ...          ...            ...            ...   \n",
       "355  P20       start  self-guided       0.244000       0.257043   \n",
       "356  P20     fitness       guided       0.330703       0.315459   \n",
       "357  P20     fitness  self-guided       0.347267       0.280000   \n",
       "358  P20        your       guided       0.267800       0.352000   \n",
       "359  P20        your  self-guided       0.323733       0.241067   \n",
       "\n",
       "     probability_C  probability_D  time_A  time_B  time_C  ...     P_D_C  \\\n",
       "0         0.114947       0.299789  12.720   9.520   4.368  ...  0.009480   \n",
       "1         0.208333       0.226533  15.052  18.856  12.500  ...  0.021778   \n",
       "2         0.238486       0.367459  10.984   3.596   8.824  ...  0.018241   \n",
       "3         0.250867       0.277867  15.012  13.264  15.052  ...  0.019194   \n",
       "4         0.152085       0.304851   8.684  16.840   7.148  ...  0.015634   \n",
       "..             ...            ...     ...     ...     ...  ...       ...   \n",
       "355       0.195043       0.303913  11.224  11.824   8.972  ...  0.030901   \n",
       "356       0.169297       0.184541  12.236  11.672   6.264  ...  0.019918   \n",
       "357       0.120200       0.252533  20.836  16.800   7.212  ...  0.009770   \n",
       "358       0.148500       0.231700  10.712  14.080   5.940  ...  0.013379   \n",
       "359       0.155133       0.280067  19.424  14.464   9.308  ...  0.017615   \n",
       "\n",
       "        P_D_D  GEV_total     GEV_A     GEV_B     GEV_C     GEV_D  max_entropy  \\\n",
       "0    0.928020   0.625059  0.208141  0.231092  0.087980  0.097846          2.0   \n",
       "1    0.912890   0.759168  0.162572  0.383593  0.130449  0.082553          2.0   \n",
       "2    0.948220   0.683006  0.195897  0.078354  0.193590  0.215166          2.0   \n",
       "3    0.929463   0.690942  0.177679  0.128834  0.264577  0.119851          2.0   \n",
       "4    0.927694   0.496745  0.117303  0.183319  0.078563  0.117561          2.0   \n",
       "..        ...        ...       ...       ...       ...       ...          ...   \n",
       "355  0.903004   0.767544  0.176991  0.271176  0.062497  0.256879          2.0   \n",
       "356  0.878149   0.766467  0.319659  0.311013  0.043526  0.092270          2.0   \n",
       "357  0.894375   0.805037  0.392133  0.248939  0.028345  0.135620          2.0   \n",
       "358  0.889944   0.770506  0.248660  0.333379  0.035835  0.152632          2.0   \n",
       "359  0.906451   0.804421  0.378434  0.190348  0.039485  0.196155          2.0   \n",
       "\n",
       "      entropy  mc_entropy  \n",
       "0    1.908582    0.467345  \n",
       "1    1.982033    0.524097  \n",
       "2    1.870929    0.370989  \n",
       "3    1.995322    0.506433  \n",
       "4    1.916372    0.451174  \n",
       "..        ...         ...  \n",
       "355  1.982478    0.660350  \n",
       "356  1.936716    0.623212  \n",
       "357  1.912893    0.626463  \n",
       "358  1.936666    0.644831  \n",
       "359  1.952852    0.652335  \n",
       "\n",
       "[360 rows x 51 columns]"
      ]
     },
     "execution_count": 8,
     "metadata": {},
     "output_type": "execute_result"
    }
   ],
   "source": [
    "base_df = pd.read_csv('./microstates/results_separateData.csv')\n",
    "base_df['activity'] = base_df['activity'].str.lower()\n",
    "base_df"
   ]
  },
  {
   "cell_type": "code",
   "execution_count": 9,
   "metadata": {},
   "outputs": [],
   "source": [
    "categorical_columns = base_df.select_dtypes(include=['object']).columns.tolist()\n",
    "encoder = OneHotEncoder(sparse_output=False)\n",
    "\n",
    "one_hot_encoded = encoder.fit_transform(base_df[categorical_columns])\n",
    "one_hot_df = pd.DataFrame(one_hot_encoded, columns=encoder.get_feature_names_out(categorical_columns))\n",
    "df_encoded = pd.concat([base_df, one_hot_df], axis=1)\n",
    "\n",
    "df_encoded = df_encoded.drop(categorical_columns, axis=1)"
   ]
  },
  {
   "cell_type": "code",
   "execution_count": 18,
   "metadata": {},
   "outputs": [],
   "source": [
    "# with pd.option_context('display.max_rows', None, 'display.max_columns', None):  # more options can be specified also\n",
    "#     display(df_encoded)"
   ]
  },
  {
   "cell_type": "code",
   "execution_count": 11,
   "metadata": {},
   "outputs": [
    {
     "data": {
      "application/vnd.plotly.v1+json": {
       "config": {
        "plotlyServerURL": "https://plot.ly"
       },
       "data": [
        {
         "coloraxis": "coloraxis",
         "hovertemplate": "x: %{x}<br>y: %{y}<br>Correlation: %{z}<extra></extra>",
         "name": "0",
         "type": "heatmap",
         "x": [
          "probability_A",
          "probability_B",
          "probability_C",
          "probability_D",
          "time_A",
          "time_B",
          "time_C",
          "time_D",
          "A_min",
          "A_max",
          "A_mean",
          "A_std",
          "B_min",
          "B_max",
          "B_mean",
          "B_std",
          "C_min",
          "C_max",
          "C_mean",
          "C_std",
          "D_min",
          "D_max",
          "D_mean",
          "D_std",
          "P_A_A",
          "P_A_B",
          "P_A_C",
          "P_A_D",
          "P_B_A",
          "P_B_B",
          "P_B_C",
          "P_B_D",
          "P_C_A",
          "P_C_B",
          "P_C_C",
          "P_C_D",
          "P_D_A",
          "P_D_B",
          "P_D_C",
          "P_D_D",
          "GEV_total",
          "GEV_A",
          "GEV_B",
          "GEV_C",
          "GEV_D",
          "max_entropy",
          "entropy",
          "mc_entropy",
          "name_P01",
          "name_P02",
          "name_P03",
          "name_P04",
          "name_P05",
          "name_P06",
          "name_P07",
          "name_P08",
          "name_P09",
          "name_P10",
          "name_P11",
          "name_P12",
          "name_P13",
          "name_P14",
          "name_P15",
          "name_P16",
          "name_P17",
          "name_P18",
          "name_P19",
          "name_P20",
          "name_P21",
          "name_P22",
          "name_P23",
          "name_P24",
          "name_P25",
          "name_P26",
          "name_P27",
          "name_P28",
          "name_P29",
          "name_P30",
          "activity_fitness",
          "activity_slow",
          "activity_start",
          "activity_successful",
          "activity_training",
          "activity_your",
          "imagining_guided",
          "imagining_self-guided"
         ],
         "xaxis": "x",
         "y": [
          "probability_A",
          "probability_B",
          "probability_C",
          "probability_D",
          "time_A",
          "time_B",
          "time_C",
          "time_D",
          "A_min",
          "A_max",
          "A_mean",
          "A_std",
          "B_min",
          "B_max",
          "B_mean",
          "B_std",
          "C_min",
          "C_max",
          "C_mean",
          "C_std",
          "D_min",
          "D_max",
          "D_mean",
          "D_std",
          "P_A_A",
          "P_A_B",
          "P_A_C",
          "P_A_D",
          "P_B_A",
          "P_B_B",
          "P_B_C",
          "P_B_D",
          "P_C_A",
          "P_C_B",
          "P_C_C",
          "P_C_D",
          "P_D_A",
          "P_D_B",
          "P_D_C",
          "P_D_D",
          "GEV_total",
          "GEV_A",
          "GEV_B",
          "GEV_C",
          "GEV_D",
          "max_entropy",
          "entropy",
          "mc_entropy",
          "name_P01",
          "name_P02",
          "name_P03",
          "name_P04",
          "name_P05",
          "name_P06",
          "name_P07",
          "name_P08",
          "name_P09",
          "name_P10",
          "name_P11",
          "name_P12",
          "name_P13",
          "name_P14",
          "name_P15",
          "name_P16",
          "name_P17",
          "name_P18",
          "name_P19",
          "name_P20",
          "name_P21",
          "name_P22",
          "name_P23",
          "name_P24",
          "name_P25",
          "name_P26",
          "name_P27",
          "name_P28",
          "name_P29",
          "name_P30",
          "activity_fitness",
          "activity_slow",
          "activity_start",
          "activity_successful",
          "activity_training",
          "activity_your",
          "imagining_guided",
          "imagining_self-guided"
         ],
         "yaxis": "y",
         "z": {
          "bdata": "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",
          "dtype": "f8",
          "shape": "86, 86"
         }
        }
       ],
       "layout": {
        "coloraxis": {
         "cmax": 1,
         "cmin": -1,
         "colorbar": {
          "title": {
           "text": "Correlation"
          }
         },
         "colorscale": [
          [
           0,
           "rgb(5,48,97)"
          ],
          [
           0.1,
           "rgb(33,102,172)"
          ],
          [
           0.2,
           "rgb(67,147,195)"
          ],
          [
           0.3,
           "rgb(146,197,222)"
          ],
          [
           0.4,
           "rgb(209,229,240)"
          ],
          [
           0.5,
           "rgb(247,247,247)"
          ],
          [
           0.6,
           "rgb(253,219,199)"
          ],
          [
           0.7,
           "rgb(244,165,130)"
          ],
          [
           0.8,
           "rgb(214,96,77)"
          ],
          [
           0.9,
           "rgb(178,24,43)"
          ],
          [
           1,
           "rgb(103,0,31)"
          ]
         ]
        },
        "height": 800,
        "margin": {
         "t": 60
        },
        "template": {
         "data": {
          "bar": [
           {
            "error_x": {
             "color": "#2a3f5f"
            },
            "error_y": {
             "color": "#2a3f5f"
            },
            "marker": {
             "line": {
              "color": "#E5ECF6",
              "width": 0.5
             },
             "pattern": {
              "fillmode": "overlay",
              "size": 10,
              "solidity": 0.2
             }
            },
            "type": "bar"
           }
          ],
          "barpolar": [
           {
            "marker": {
             "line": {
              "color": "#E5ECF6",
              "width": 0.5
             },
             "pattern": {
              "fillmode": "overlay",
              "size": 10,
              "solidity": 0.2
             }
            },
            "type": "barpolar"
           }
          ],
          "carpet": [
           {
            "aaxis": {
             "endlinecolor": "#2a3f5f",
             "gridcolor": "white",
             "linecolor": "white",
             "minorgridcolor": "white",
             "startlinecolor": "#2a3f5f"
            },
            "baxis": {
             "endlinecolor": "#2a3f5f",
             "gridcolor": "white",
             "linecolor": "white",
             "minorgridcolor": "white",
             "startlinecolor": "#2a3f5f"
            },
            "type": "carpet"
           }
          ],
          "choropleth": [
           {
            "colorbar": {
             "outlinewidth": 0,
             "ticks": ""
            },
            "type": "choropleth"
           }
          ],
          "contour": [
           {
            "colorbar": {
             "outlinewidth": 0,
             "ticks": ""
            },
            "colorscale": [
             [
              0,
              "#0d0887"
             ],
             [
              0.1111111111111111,
              "#46039f"
             ],
             [
              0.2222222222222222,
              "#7201a8"
             ],
             [
              0.3333333333333333,
              "#9c179e"
             ],
             [
              0.4444444444444444,
              "#bd3786"
             ],
             [
              0.5555555555555556,
              "#d8576b"
             ],
             [
              0.6666666666666666,
              "#ed7953"
             ],
             [
              0.7777777777777778,
              "#fb9f3a"
             ],
             [
              0.8888888888888888,
              "#fdca26"
             ],
             [
              1,
              "#f0f921"
             ]
            ],
            "type": "contour"
           }
          ],
          "contourcarpet": [
           {
            "colorbar": {
             "outlinewidth": 0,
             "ticks": ""
            },
            "type": "contourcarpet"
           }
          ],
          "heatmap": [
           {
            "colorbar": {
             "outlinewidth": 0,
             "ticks": ""
            },
            "colorscale": [
             [
              0,
              "#0d0887"
             ],
             [
              0.1111111111111111,
              "#46039f"
             ],
             [
              0.2222222222222222,
              "#7201a8"
             ],
             [
              0.3333333333333333,
              "#9c179e"
             ],
             [
              0.4444444444444444,
              "#bd3786"
             ],
             [
              0.5555555555555556,
              "#d8576b"
             ],
             [
              0.6666666666666666,
              "#ed7953"
             ],
             [
              0.7777777777777778,
              "#fb9f3a"
             ],
             [
              0.8888888888888888,
              "#fdca26"
             ],
             [
              1,
              "#f0f921"
             ]
            ],
            "type": "heatmap"
           }
          ],
          "histogram": [
           {
            "marker": {
             "pattern": {
              "fillmode": "overlay",
              "size": 10,
              "solidity": 0.2
             }
            },
            "type": "histogram"
           }
          ],
          "histogram2d": [
           {
            "colorbar": {
             "outlinewidth": 0,
             "ticks": ""
            },
            "colorscale": [
             [
              0,
              "#0d0887"
             ],
             [
              0.1111111111111111,
              "#46039f"
             ],
             [
              0.2222222222222222,
              "#7201a8"
             ],
             [
              0.3333333333333333,
              "#9c179e"
             ],
             [
              0.4444444444444444,
              "#bd3786"
             ],
             [
              0.5555555555555556,
              "#d8576b"
             ],
             [
              0.6666666666666666,
              "#ed7953"
             ],
             [
              0.7777777777777778,
              "#fb9f3a"
             ],
             [
              0.8888888888888888,
              "#fdca26"
             ],
             [
              1,
              "#f0f921"
             ]
            ],
            "type": "histogram2d"
           }
          ],
          "histogram2dcontour": [
           {
            "colorbar": {
             "outlinewidth": 0,
             "ticks": ""
            },
            "colorscale": [
             [
              0,
              "#0d0887"
             ],
             [
              0.1111111111111111,
              "#46039f"
             ],
             [
              0.2222222222222222,
              "#7201a8"
             ],
             [
              0.3333333333333333,
              "#9c179e"
             ],
             [
              0.4444444444444444,
              "#bd3786"
             ],
             [
              0.5555555555555556,
              "#d8576b"
             ],
             [
              0.6666666666666666,
              "#ed7953"
             ],
             [
              0.7777777777777778,
              "#fb9f3a"
             ],
             [
              0.8888888888888888,
              "#fdca26"
             ],
             [
              1,
              "#f0f921"
             ]
            ],
            "type": "histogram2dcontour"
           }
          ],
          "mesh3d": [
           {
            "colorbar": {
             "outlinewidth": 0,
             "ticks": ""
            },
            "type": "mesh3d"
           }
          ],
          "parcoords": [
           {
            "line": {
             "colorbar": {
              "outlinewidth": 0,
              "ticks": ""
             }
            },
            "type": "parcoords"
           }
          ],
          "pie": [
           {
            "automargin": true,
            "type": "pie"
           }
          ],
          "scatter": [
           {
            "fillpattern": {
             "fillmode": "overlay",
             "size": 10,
             "solidity": 0.2
            },
            "type": "scatter"
           }
          ],
          "scatter3d": [
           {
            "line": {
             "colorbar": {
              "outlinewidth": 0,
              "ticks": ""
             }
            },
            "marker": {
             "colorbar": {
              "outlinewidth": 0,
              "ticks": ""
             }
            },
            "type": "scatter3d"
           }
          ],
          "scattercarpet": [
           {
            "marker": {
             "colorbar": {
              "outlinewidth": 0,
              "ticks": ""
             }
            },
            "type": "scattercarpet"
           }
          ],
          "scattergeo": [
           {
            "marker": {
             "colorbar": {
              "outlinewidth": 0,
              "ticks": ""
             }
            },
            "type": "scattergeo"
           }
          ],
          "scattergl": [
           {
            "marker": {
             "colorbar": {
              "outlinewidth": 0,
              "ticks": ""
             }
            },
            "type": "scattergl"
           }
          ],
          "scattermap": [
           {
            "marker": {
             "colorbar": {
              "outlinewidth": 0,
              "ticks": ""
             }
            },
            "type": "scattermap"
           }
          ],
          "scattermapbox": [
           {
            "marker": {
             "colorbar": {
              "outlinewidth": 0,
              "ticks": ""
             }
            },
            "type": "scattermapbox"
           }
          ],
          "scatterpolar": [
           {
            "marker": {
             "colorbar": {
              "outlinewidth": 0,
              "ticks": ""
             }
            },
            "type": "scatterpolar"
           }
          ],
          "scatterpolargl": [
           {
            "marker": {
             "colorbar": {
              "outlinewidth": 0,
              "ticks": ""
             }
            },
            "type": "scatterpolargl"
           }
          ],
          "scatterternary": [
           {
            "marker": {
             "colorbar": {
              "outlinewidth": 0,
              "ticks": ""
             }
            },
            "type": "scatterternary"
           }
          ],
          "surface": [
           {
            "colorbar": {
             "outlinewidth": 0,
             "ticks": ""
            },
            "colorscale": [
             [
              0,
              "#0d0887"
             ],
             [
              0.1111111111111111,
              "#46039f"
             ],
             [
              0.2222222222222222,
              "#7201a8"
             ],
             [
              0.3333333333333333,
              "#9c179e"
             ],
             [
              0.4444444444444444,
              "#bd3786"
             ],
             [
              0.5555555555555556,
              "#d8576b"
             ],
             [
              0.6666666666666666,
              "#ed7953"
             ],
             [
              0.7777777777777778,
              "#fb9f3a"
             ],
             [
              0.8888888888888888,
              "#fdca26"
             ],
             [
              1,
              "#f0f921"
             ]
            ],
            "type": "surface"
           }
          ],
          "table": [
           {
            "cells": {
             "fill": {
              "color": "#EBF0F8"
             },
             "line": {
              "color": "white"
             }
            },
            "header": {
             "fill": {
              "color": "#C8D4E3"
             },
             "line": {
              "color": "white"
             }
            },
            "type": "table"
           }
          ]
         },
         "layout": {
          "annotationdefaults": {
           "arrowcolor": "#2a3f5f",
           "arrowhead": 0,
           "arrowwidth": 1
          },
          "autotypenumbers": "strict",
          "coloraxis": {
           "colorbar": {
            "outlinewidth": 0,
            "ticks": ""
           }
          },
          "colorscale": {
           "diverging": [
            [
             0,
             "#8e0152"
            ],
            [
             0.1,
             "#c51b7d"
            ],
            [
             0.2,
             "#de77ae"
            ],
            [
             0.3,
             "#f1b6da"
            ],
            [
             0.4,
             "#fde0ef"
            ],
            [
             0.5,
             "#f7f7f7"
            ],
            [
             0.6,
             "#e6f5d0"
            ],
            [
             0.7,
             "#b8e186"
            ],
            [
             0.8,
             "#7fbc41"
            ],
            [
             0.9,
             "#4d9221"
            ],
            [
             1,
             "#276419"
            ]
           ],
           "sequential": [
            [
             0,
             "#0d0887"
            ],
            [
             0.1111111111111111,
             "#46039f"
            ],
            [
             0.2222222222222222,
             "#7201a8"
            ],
            [
             0.3333333333333333,
             "#9c179e"
            ],
            [
             0.4444444444444444,
             "#bd3786"
            ],
            [
             0.5555555555555556,
             "#d8576b"
            ],
            [
             0.6666666666666666,
             "#ed7953"
            ],
            [
             0.7777777777777778,
             "#fb9f3a"
            ],
            [
             0.8888888888888888,
             "#fdca26"
            ],
            [
             1,
             "#f0f921"
            ]
           ],
           "sequentialminus": [
            [
             0,
             "#0d0887"
            ],
            [
             0.1111111111111111,
             "#46039f"
            ],
            [
             0.2222222222222222,
             "#7201a8"
            ],
            [
             0.3333333333333333,
             "#9c179e"
            ],
            [
             0.4444444444444444,
             "#bd3786"
            ],
            [
             0.5555555555555556,
             "#d8576b"
            ],
            [
             0.6666666666666666,
             "#ed7953"
            ],
            [
             0.7777777777777778,
             "#fb9f3a"
            ],
            [
             0.8888888888888888,
             "#fdca26"
            ],
            [
             1,
             "#f0f921"
            ]
           ]
          },
          "colorway": [
           "#636efa",
           "#EF553B",
           "#00cc96",
           "#ab63fa",
           "#FFA15A",
           "#19d3f3",
           "#FF6692",
           "#B6E880",
           "#FF97FF",
           "#FECB52"
          ],
          "font": {
           "color": "#2a3f5f"
          },
          "geo": {
           "bgcolor": "white",
           "lakecolor": "white",
           "landcolor": "#E5ECF6",
           "showlakes": true,
           "showland": true,
           "subunitcolor": "white"
          },
          "hoverlabel": {
           "align": "left"
          },
          "hovermode": "closest",
          "mapbox": {
           "style": "light"
          },
          "paper_bgcolor": "white",
          "plot_bgcolor": "#E5ECF6",
          "polar": {
           "angularaxis": {
            "gridcolor": "white",
            "linecolor": "white",
            "ticks": ""
           },
           "bgcolor": "#E5ECF6",
           "radialaxis": {
            "gridcolor": "white",
            "linecolor": "white",
            "ticks": ""
           }
          },
          "scene": {
           "xaxis": {
            "backgroundcolor": "#E5ECF6",
            "gridcolor": "white",
            "gridwidth": 2,
            "linecolor": "white",
            "showbackground": true,
            "ticks": "",
            "zerolinecolor": "white"
           },
           "yaxis": {
            "backgroundcolor": "#E5ECF6",
            "gridcolor": "white",
            "gridwidth": 2,
            "linecolor": "white",
            "showbackground": true,
            "ticks": "",
            "zerolinecolor": "white"
           },
           "zaxis": {
            "backgroundcolor": "#E5ECF6",
            "gridcolor": "white",
            "gridwidth": 2,
            "linecolor": "white",
            "showbackground": true,
            "ticks": "",
            "zerolinecolor": "white"
           }
          },
          "shapedefaults": {
           "line": {
            "color": "#2a3f5f"
           }
          },
          "ternary": {
           "aaxis": {
            "gridcolor": "white",
            "linecolor": "white",
            "ticks": ""
           },
           "baxis": {
            "gridcolor": "white",
            "linecolor": "white",
            "ticks": ""
           },
           "bgcolor": "#E5ECF6",
           "caxis": {
            "gridcolor": "white",
            "linecolor": "white",
            "ticks": ""
           }
          },
          "title": {
           "x": 0.05
          },
          "xaxis": {
           "automargin": true,
           "gridcolor": "white",
           "linecolor": "white",
           "ticks": "",
           "title": {
            "standoff": 15
           },
           "zerolinecolor": "white",
           "zerolinewidth": 2
          },
          "yaxis": {
           "automargin": true,
           "gridcolor": "white",
           "linecolor": "white",
           "ticks": "",
           "title": {
            "standoff": 15
           },
           "zerolinecolor": "white",
           "zerolinewidth": 2
          }
         }
        },
        "title": {
         "text": "Correlation Matrix Heatmap"
        },
        "width": 1000,
        "xaxis": {
         "anchor": "y",
         "constrain": "domain",
         "domain": [
          0,
          1
         ],
         "scaleanchor": "y",
         "title": {
          "text": "Features"
         }
        },
        "yaxis": {
         "anchor": "x",
         "autorange": "reversed",
         "constrain": "domain",
         "domain": [
          0,
          1
         ],
         "title": {
          "text": "Features"
         }
        }
       }
      }
     },
     "metadata": {},
     "output_type": "display_data"
    }
   ],
   "source": [
    "import plotly.express as px\n",
    "\n",
    "# Calculate the correlation matrix\n",
    "correlation_matrix = df_encoded.corr()\n",
    "\n",
    "# Create the heatmap\n",
    "fig = px.imshow(correlation_matrix, \n",
    "                labels=dict(color=\"Correlation\"),\n",
    "                x=correlation_matrix.columns,\n",
    "                y=correlation_matrix.columns,\n",
    "                color_continuous_scale='RdBu_r',\n",
    "                zmin=-1, zmax=1)\n",
    "\n",
    "# Update layout for better readability\n",
    "fig.update_layout(\n",
    "    title='Correlation Matrix Heatmap',\n",
    "    xaxis_title='Features',\n",
    "    yaxis_title='Features',\n",
    "    width=1000,\n",
    "    height=800\n",
    ")\n",
    "\n",
    "# Show the plot\n",
    "fig.show()"
   ]
  },
  {
   "cell_type": "code",
   "execution_count": 12,
   "metadata": {},
   "outputs": [
    {
     "name": "stderr",
     "output_type": "stream",
     "text": [
      "C:\\Users\\Marta\\AppData\\Local\\Temp\\ipykernel_10296\\2934940368.py:5: SettingWithCopyWarning:\n",
      "\n",
      "\n",
      "A value is trying to be set on a copy of a slice from a DataFrame\n",
      "\n",
      "See the caveats in the documentation: https://pandas.pydata.org/pandas-docs/stable/user_guide/indexing.html#returning-a-view-versus-a-copy\n",
      "\n",
      "C:\\Users\\Marta\\AppData\\Local\\Temp\\ipykernel_10296\\2934940368.py:6: SettingWithCopyWarning:\n",
      "\n",
      "\n",
      "A value is trying to be set on a copy of a slice from a DataFrame\n",
      "\n",
      "See the caveats in the documentation: https://pandas.pydata.org/pandas-docs/stable/user_guide/indexing.html#returning-a-view-versus-a-copy\n",
      "\n"
     ]
    }
   ],
   "source": [
    "# Split the dataset based on the value of the 'imagining' column\n",
    "df_guided = base_df[base_df['imagining'] == 'guided']\n",
    "df_self_guided = base_df[base_df['imagining'] == 'self-guided']\n",
    "\n",
    "df_guided.drop('imagining', axis=1, inplace=True)\n",
    "df_self_guided.drop('imagining', axis=1, inplace=True)\n",
    "\n",
    "df_guided.reset_index(drop=True, inplace=True)\n",
    "df_self_guided.reset_index(drop=True, inplace=True)"
   ]
  },
  {
   "cell_type": "markdown",
   "metadata": {},
   "source": [
    "## K-Means"
   ]
  },
  {
   "cell_type": "code",
   "execution_count": 13,
   "metadata": {},
   "outputs": [
    {
     "data": {
      "application/vnd.plotly.v1+json": {
       "config": {
        "plotlyServerURL": "https://plot.ly"
       },
       "data": [
        {
         "line": {
          "dash": "dash"
         },
         "marker": {
          "color": "red"
         },
         "mode": "lines+markers",
         "type": "scatter",
         "x": [
          1,
          2,
          3,
          4,
          5,
          6,
          7,
          8,
          9,
          10,
          11,
          12,
          13,
          14,
          15,
          16,
          17,
          18,
          19,
          20
         ],
         "y": [
          30600.00000000001,
          27379.41725230906,
          26270.8278707262,
          25066.023710286478,
          24439.569530163375,
          23803.03970795825,
          23378.979714388402,
          22383.013133708137,
          21900.76334370277,
          21544.811221709744,
          21377.98975102436,
          21084.613467003328,
          20592.524237595302,
          20252.69052354433,
          19724.19273677914,
          19119.278682651595,
          18804.499759596,
          18329.441863328764,
          17946.21471400041,
          17626.68032579893
         ]
        }
       ],
       "layout": {
        "height": 600,
        "template": {
         "data": {
          "bar": [
           {
            "error_x": {
             "color": "#2a3f5f"
            },
            "error_y": {
             "color": "#2a3f5f"
            },
            "marker": {
             "line": {
              "color": "#E5ECF6",
              "width": 0.5
             },
             "pattern": {
              "fillmode": "overlay",
              "size": 10,
              "solidity": 0.2
             }
            },
            "type": "bar"
           }
          ],
          "barpolar": [
           {
            "marker": {
             "line": {
              "color": "#E5ECF6",
              "width": 0.5
             },
             "pattern": {
              "fillmode": "overlay",
              "size": 10,
              "solidity": 0.2
             }
            },
            "type": "barpolar"
           }
          ],
          "carpet": [
           {
            "aaxis": {
             "endlinecolor": "#2a3f5f",
             "gridcolor": "white",
             "linecolor": "white",
             "minorgridcolor": "white",
             "startlinecolor": "#2a3f5f"
            },
            "baxis": {
             "endlinecolor": "#2a3f5f",
             "gridcolor": "white",
             "linecolor": "white",
             "minorgridcolor": "white",
             "startlinecolor": "#2a3f5f"
            },
            "type": "carpet"
           }
          ],
          "choropleth": [
           {
            "colorbar": {
             "outlinewidth": 0,
             "ticks": ""
            },
            "type": "choropleth"
           }
          ],
          "contour": [
           {
            "colorbar": {
             "outlinewidth": 0,
             "ticks": ""
            },
            "colorscale": [
             [
              0,
              "#0d0887"
             ],
             [
              0.1111111111111111,
              "#46039f"
             ],
             [
              0.2222222222222222,
              "#7201a8"
             ],
             [
              0.3333333333333333,
              "#9c179e"
             ],
             [
              0.4444444444444444,
              "#bd3786"
             ],
             [
              0.5555555555555556,
              "#d8576b"
             ],
             [
              0.6666666666666666,
              "#ed7953"
             ],
             [
              0.7777777777777778,
              "#fb9f3a"
             ],
             [
              0.8888888888888888,
              "#fdca26"
             ],
             [
              1,
              "#f0f921"
             ]
            ],
            "type": "contour"
           }
          ],
          "contourcarpet": [
           {
            "colorbar": {
             "outlinewidth": 0,
             "ticks": ""
            },
            "type": "contourcarpet"
           }
          ],
          "heatmap": [
           {
            "colorbar": {
             "outlinewidth": 0,
             "ticks": ""
            },
            "colorscale": [
             [
              0,
              "#0d0887"
             ],
             [
              0.1111111111111111,
              "#46039f"
             ],
             [
              0.2222222222222222,
              "#7201a8"
             ],
             [
              0.3333333333333333,
              "#9c179e"
             ],
             [
              0.4444444444444444,
              "#bd3786"
             ],
             [
              0.5555555555555556,
              "#d8576b"
             ],
             [
              0.6666666666666666,
              "#ed7953"
             ],
             [
              0.7777777777777778,
              "#fb9f3a"
             ],
             [
              0.8888888888888888,
              "#fdca26"
             ],
             [
              1,
              "#f0f921"
             ]
            ],
            "type": "heatmap"
           }
          ],
          "histogram": [
           {
            "marker": {
             "pattern": {
              "fillmode": "overlay",
              "size": 10,
              "solidity": 0.2
             }
            },
            "type": "histogram"
           }
          ],
          "histogram2d": [
           {
            "colorbar": {
             "outlinewidth": 0,
             "ticks": ""
            },
            "colorscale": [
             [
              0,
              "#0d0887"
             ],
             [
              0.1111111111111111,
              "#46039f"
             ],
             [
              0.2222222222222222,
              "#7201a8"
             ],
             [
              0.3333333333333333,
              "#9c179e"
             ],
             [
              0.4444444444444444,
              "#bd3786"
             ],
             [
              0.5555555555555556,
              "#d8576b"
             ],
             [
              0.6666666666666666,
              "#ed7953"
             ],
             [
              0.7777777777777778,
              "#fb9f3a"
             ],
             [
              0.8888888888888888,
              "#fdca26"
             ],
             [
              1,
              "#f0f921"
             ]
            ],
            "type": "histogram2d"
           }
          ],
          "histogram2dcontour": [
           {
            "colorbar": {
             "outlinewidth": 0,
             "ticks": ""
            },
            "colorscale": [
             [
              0,
              "#0d0887"
             ],
             [
              0.1111111111111111,
              "#46039f"
             ],
             [
              0.2222222222222222,
              "#7201a8"
             ],
             [
              0.3333333333333333,
              "#9c179e"
             ],
             [
              0.4444444444444444,
              "#bd3786"
             ],
             [
              0.5555555555555556,
              "#d8576b"
             ],
             [
              0.6666666666666666,
              "#ed7953"
             ],
             [
              0.7777777777777778,
              "#fb9f3a"
             ],
             [
              0.8888888888888888,
              "#fdca26"
             ],
             [
              1,
              "#f0f921"
             ]
            ],
            "type": "histogram2dcontour"
           }
          ],
          "mesh3d": [
           {
            "colorbar": {
             "outlinewidth": 0,
             "ticks": ""
            },
            "type": "mesh3d"
           }
          ],
          "parcoords": [
           {
            "line": {
             "colorbar": {
              "outlinewidth": 0,
              "ticks": ""
             }
            },
            "type": "parcoords"
           }
          ],
          "pie": [
           {
            "automargin": true,
            "type": "pie"
           }
          ],
          "scatter": [
           {
            "fillpattern": {
             "fillmode": "overlay",
             "size": 10,
             "solidity": 0.2
            },
            "type": "scatter"
           }
          ],
          "scatter3d": [
           {
            "line": {
             "colorbar": {
              "outlinewidth": 0,
              "ticks": ""
             }
            },
            "marker": {
             "colorbar": {
              "outlinewidth": 0,
              "ticks": ""
             }
            },
            "type": "scatter3d"
           }
          ],
          "scattercarpet": [
           {
            "marker": {
             "colorbar": {
              "outlinewidth": 0,
              "ticks": ""
             }
            },
            "type": "scattercarpet"
           }
          ],
          "scattergeo": [
           {
            "marker": {
             "colorbar": {
              "outlinewidth": 0,
              "ticks": ""
             }
            },
            "type": "scattergeo"
           }
          ],
          "scattergl": [
           {
            "marker": {
             "colorbar": {
              "outlinewidth": 0,
              "ticks": ""
             }
            },
            "type": "scattergl"
           }
          ],
          "scattermap": [
           {
            "marker": {
             "colorbar": {
              "outlinewidth": 0,
              "ticks": ""
             }
            },
            "type": "scattermap"
           }
          ],
          "scattermapbox": [
           {
            "marker": {
             "colorbar": {
              "outlinewidth": 0,
              "ticks": ""
             }
            },
            "type": "scattermapbox"
           }
          ],
          "scatterpolar": [
           {
            "marker": {
             "colorbar": {
              "outlinewidth": 0,
              "ticks": ""
             }
            },
            "type": "scatterpolar"
           }
          ],
          "scatterpolargl": [
           {
            "marker": {
             "colorbar": {
              "outlinewidth": 0,
              "ticks": ""
             }
            },
            "type": "scatterpolargl"
           }
          ],
          "scatterternary": [
           {
            "marker": {
             "colorbar": {
              "outlinewidth": 0,
              "ticks": ""
             }
            },
            "type": "scatterternary"
           }
          ],
          "surface": [
           {
            "colorbar": {
             "outlinewidth": 0,
             "ticks": ""
            },
            "colorscale": [
             [
              0,
              "#0d0887"
             ],
             [
              0.1111111111111111,
              "#46039f"
             ],
             [
              0.2222222222222222,
              "#7201a8"
             ],
             [
              0.3333333333333333,
              "#9c179e"
             ],
             [
              0.4444444444444444,
              "#bd3786"
             ],
             [
              0.5555555555555556,
              "#d8576b"
             ],
             [
              0.6666666666666666,
              "#ed7953"
             ],
             [
              0.7777777777777778,
              "#fb9f3a"
             ],
             [
              0.8888888888888888,
              "#fdca26"
             ],
             [
              1,
              "#f0f921"
             ]
            ],
            "type": "surface"
           }
          ],
          "table": [
           {
            "cells": {
             "fill": {
              "color": "#EBF0F8"
             },
             "line": {
              "color": "white"
             }
            },
            "header": {
             "fill": {
              "color": "#C8D4E3"
             },
             "line": {
              "color": "white"
             }
            },
            "type": "table"
           }
          ]
         },
         "layout": {
          "annotationdefaults": {
           "arrowcolor": "#2a3f5f",
           "arrowhead": 0,
           "arrowwidth": 1
          },
          "autotypenumbers": "strict",
          "coloraxis": {
           "colorbar": {
            "outlinewidth": 0,
            "ticks": ""
           }
          },
          "colorscale": {
           "diverging": [
            [
             0,
             "#8e0152"
            ],
            [
             0.1,
             "#c51b7d"
            ],
            [
             0.2,
             "#de77ae"
            ],
            [
             0.3,
             "#f1b6da"
            ],
            [
             0.4,
             "#fde0ef"
            ],
            [
             0.5,
             "#f7f7f7"
            ],
            [
             0.6,
             "#e6f5d0"
            ],
            [
             0.7,
             "#b8e186"
            ],
            [
             0.8,
             "#7fbc41"
            ],
            [
             0.9,
             "#4d9221"
            ],
            [
             1,
             "#276419"
            ]
           ],
           "sequential": [
            [
             0,
             "#0d0887"
            ],
            [
             0.1111111111111111,
             "#46039f"
            ],
            [
             0.2222222222222222,
             "#7201a8"
            ],
            [
             0.3333333333333333,
             "#9c179e"
            ],
            [
             0.4444444444444444,
             "#bd3786"
            ],
            [
             0.5555555555555556,
             "#d8576b"
            ],
            [
             0.6666666666666666,
             "#ed7953"
            ],
            [
             0.7777777777777778,
             "#fb9f3a"
            ],
            [
             0.8888888888888888,
             "#fdca26"
            ],
            [
             1,
             "#f0f921"
            ]
           ],
           "sequentialminus": [
            [
             0,
             "#0d0887"
            ],
            [
             0.1111111111111111,
             "#46039f"
            ],
            [
             0.2222222222222222,
             "#7201a8"
            ],
            [
             0.3333333333333333,
             "#9c179e"
            ],
            [
             0.4444444444444444,
             "#bd3786"
            ],
            [
             0.5555555555555556,
             "#d8576b"
            ],
            [
             0.6666666666666666,
             "#ed7953"
            ],
            [
             0.7777777777777778,
             "#fb9f3a"
            ],
            [
             0.8888888888888888,
             "#fdca26"
            ],
            [
             1,
             "#f0f921"
            ]
           ]
          },
          "colorway": [
           "#636efa",
           "#EF553B",
           "#00cc96",
           "#ab63fa",
           "#FFA15A",
           "#19d3f3",
           "#FF6692",
           "#B6E880",
           "#FF97FF",
           "#FECB52"
          ],
          "font": {
           "color": "#2a3f5f"
          },
          "geo": {
           "bgcolor": "white",
           "lakecolor": "white",
           "landcolor": "#E5ECF6",
           "showlakes": true,
           "showland": true,
           "subunitcolor": "white"
          },
          "hoverlabel": {
           "align": "left"
          },
          "hovermode": "closest",
          "mapbox": {
           "style": "light"
          },
          "paper_bgcolor": "white",
          "plot_bgcolor": "#E5ECF6",
          "polar": {
           "angularaxis": {
            "gridcolor": "white",
            "linecolor": "white",
            "ticks": ""
           },
           "bgcolor": "#E5ECF6",
           "radialaxis": {
            "gridcolor": "white",
            "linecolor": "white",
            "ticks": ""
           }
          },
          "scene": {
           "xaxis": {
            "backgroundcolor": "#E5ECF6",
            "gridcolor": "white",
            "gridwidth": 2,
            "linecolor": "white",
            "showbackground": true,
            "ticks": "",
            "zerolinecolor": "white"
           },
           "yaxis": {
            "backgroundcolor": "#E5ECF6",
            "gridcolor": "white",
            "gridwidth": 2,
            "linecolor": "white",
            "showbackground": true,
            "ticks": "",
            "zerolinecolor": "white"
           },
           "zaxis": {
            "backgroundcolor": "#E5ECF6",
            "gridcolor": "white",
            "gridwidth": 2,
            "linecolor": "white",
            "showbackground": true,
            "ticks": "",
            "zerolinecolor": "white"
           }
          },
          "shapedefaults": {
           "line": {
            "color": "#2a3f5f"
           }
          },
          "ternary": {
           "aaxis": {
            "gridcolor": "white",
            "linecolor": "white",
            "ticks": ""
           },
           "baxis": {
            "gridcolor": "white",
            "linecolor": "white",
            "ticks": ""
           },
           "bgcolor": "#E5ECF6",
           "caxis": {
            "gridcolor": "white",
            "linecolor": "white",
            "ticks": ""
           }
          },
          "title": {
           "x": 0.05
          },
          "xaxis": {
           "automargin": true,
           "gridcolor": "white",
           "linecolor": "white",
           "ticks": "",
           "title": {
            "standoff": 15
           },
           "zerolinecolor": "white",
           "zerolinewidth": 2
          },
          "yaxis": {
           "automargin": true,
           "gridcolor": "white",
           "linecolor": "white",
           "ticks": "",
           "title": {
            "standoff": 15
           },
           "zerolinecolor": "white",
           "zerolinewidth": 2
          }
         }
        },
        "title": {
         "text": "Elbow Method"
        },
        "width": 1000,
        "xaxis": {
         "title": {
          "text": "Number of clusters"
         }
        },
        "yaxis": {
         "title": {
          "text": "Inertia"
         }
        }
       }
      }
     },
     "metadata": {},
     "output_type": "display_data"
    }
   ],
   "source": [
    "import plotly.graph_objects as go\n",
    "\n",
    "# Scale the data\n",
    "scaler = StandardScaler()\n",
    "scaled_data = scaler.fit_transform(df_encoded)\n",
    "\n",
    "# Elbow Method\n",
    "wcss = []\n",
    "for i in range(1, 21):\n",
    "    kmeans = KMeans(n_clusters=i, random_state=42)\n",
    "    kmeans.fit(scaled_data)\n",
    "    wcss.append(kmeans.inertia_)\n",
    "\n",
    "# Create the plot\n",
    "fig = go.Figure()\n",
    "fig.add_trace(go.Scatter(x=list(range(1, 21)), y=wcss, mode='lines+markers', marker=dict(color='red'), line=dict(dash='dash')))\n",
    "\n",
    "# Update layout for better readability\n",
    "fig.update_layout(\n",
    "    title='Elbow Method',\n",
    "    xaxis_title='Number of clusters',\n",
    "    yaxis_title='Inertia',\n",
    "    width=1000,\n",
    "    height=600\n",
    ")\n",
    "\n",
    "# Show the plot\n",
    "fig.show()"
   ]
  },
  {
   "cell_type": "code",
   "execution_count": 14,
   "metadata": {},
   "outputs": [
    {
     "data": {
      "application/vnd.plotly.v1+json": {
       "config": {
        "plotlyServerURL": "https://plot.ly"
       },
       "data": [
        {
         "line": {
          "dash": "dash"
         },
         "marker": {
          "color": "red"
         },
         "mode": "lines+markers",
         "type": "scatter",
         "x": [
          2,
          3,
          4,
          5,
          6,
          7,
          8,
          9,
          10,
          11,
          12,
          13,
          14,
          15,
          16,
          17,
          18,
          19,
          20
         ],
         "y": [
          0.1094085749110336,
          0.06160831494300446,
          0.06488947059673578,
          0.058484557027757254,
          0.058872205713509214,
          0.05454251880003229,
          0.07260844286433403,
          0.0748249575727101,
          0.07506965809720252,
          0.06944729220222763,
          0.07311295668147716,
          0.08631160783887927,
          0.09083062740802714,
          0.09920290014840685,
          0.10945150913568094,
          0.11457955646561821,
          0.12484812665672898,
          0.13020721427873302,
          0.13850220748884717
         ]
        }
       ],
       "layout": {
        "height": 600,
        "template": {
         "data": {
          "bar": [
           {
            "error_x": {
             "color": "#2a3f5f"
            },
            "error_y": {
             "color": "#2a3f5f"
            },
            "marker": {
             "line": {
              "color": "#E5ECF6",
              "width": 0.5
             },
             "pattern": {
              "fillmode": "overlay",
              "size": 10,
              "solidity": 0.2
             }
            },
            "type": "bar"
           }
          ],
          "barpolar": [
           {
            "marker": {
             "line": {
              "color": "#E5ECF6",
              "width": 0.5
             },
             "pattern": {
              "fillmode": "overlay",
              "size": 10,
              "solidity": 0.2
             }
            },
            "type": "barpolar"
           }
          ],
          "carpet": [
           {
            "aaxis": {
             "endlinecolor": "#2a3f5f",
             "gridcolor": "white",
             "linecolor": "white",
             "minorgridcolor": "white",
             "startlinecolor": "#2a3f5f"
            },
            "baxis": {
             "endlinecolor": "#2a3f5f",
             "gridcolor": "white",
             "linecolor": "white",
             "minorgridcolor": "white",
             "startlinecolor": "#2a3f5f"
            },
            "type": "carpet"
           }
          ],
          "choropleth": [
           {
            "colorbar": {
             "outlinewidth": 0,
             "ticks": ""
            },
            "type": "choropleth"
           }
          ],
          "contour": [
           {
            "colorbar": {
             "outlinewidth": 0,
             "ticks": ""
            },
            "colorscale": [
             [
              0,
              "#0d0887"
             ],
             [
              0.1111111111111111,
              "#46039f"
             ],
             [
              0.2222222222222222,
              "#7201a8"
             ],
             [
              0.3333333333333333,
              "#9c179e"
             ],
             [
              0.4444444444444444,
              "#bd3786"
             ],
             [
              0.5555555555555556,
              "#d8576b"
             ],
             [
              0.6666666666666666,
              "#ed7953"
             ],
             [
              0.7777777777777778,
              "#fb9f3a"
             ],
             [
              0.8888888888888888,
              "#fdca26"
             ],
             [
              1,
              "#f0f921"
             ]
            ],
            "type": "contour"
           }
          ],
          "contourcarpet": [
           {
            "colorbar": {
             "outlinewidth": 0,
             "ticks": ""
            },
            "type": "contourcarpet"
           }
          ],
          "heatmap": [
           {
            "colorbar": {
             "outlinewidth": 0,
             "ticks": ""
            },
            "colorscale": [
             [
              0,
              "#0d0887"
             ],
             [
              0.1111111111111111,
              "#46039f"
             ],
             [
              0.2222222222222222,
              "#7201a8"
             ],
             [
              0.3333333333333333,
              "#9c179e"
             ],
             [
              0.4444444444444444,
              "#bd3786"
             ],
             [
              0.5555555555555556,
              "#d8576b"
             ],
             [
              0.6666666666666666,
              "#ed7953"
             ],
             [
              0.7777777777777778,
              "#fb9f3a"
             ],
             [
              0.8888888888888888,
              "#fdca26"
             ],
             [
              1,
              "#f0f921"
             ]
            ],
            "type": "heatmap"
           }
          ],
          "histogram": [
           {
            "marker": {
             "pattern": {
              "fillmode": "overlay",
              "size": 10,
              "solidity": 0.2
             }
            },
            "type": "histogram"
           }
          ],
          "histogram2d": [
           {
            "colorbar": {
             "outlinewidth": 0,
             "ticks": ""
            },
            "colorscale": [
             [
              0,
              "#0d0887"
             ],
             [
              0.1111111111111111,
              "#46039f"
             ],
             [
              0.2222222222222222,
              "#7201a8"
             ],
             [
              0.3333333333333333,
              "#9c179e"
             ],
             [
              0.4444444444444444,
              "#bd3786"
             ],
             [
              0.5555555555555556,
              "#d8576b"
             ],
             [
              0.6666666666666666,
              "#ed7953"
             ],
             [
              0.7777777777777778,
              "#fb9f3a"
             ],
             [
              0.8888888888888888,
              "#fdca26"
             ],
             [
              1,
              "#f0f921"
             ]
            ],
            "type": "histogram2d"
           }
          ],
          "histogram2dcontour": [
           {
            "colorbar": {
             "outlinewidth": 0,
             "ticks": ""
            },
            "colorscale": [
             [
              0,
              "#0d0887"
             ],
             [
              0.1111111111111111,
              "#46039f"
             ],
             [
              0.2222222222222222,
              "#7201a8"
             ],
             [
              0.3333333333333333,
              "#9c179e"
             ],
             [
              0.4444444444444444,
              "#bd3786"
             ],
             [
              0.5555555555555556,
              "#d8576b"
             ],
             [
              0.6666666666666666,
              "#ed7953"
             ],
             [
              0.7777777777777778,
              "#fb9f3a"
             ],
             [
              0.8888888888888888,
              "#fdca26"
             ],
             [
              1,
              "#f0f921"
             ]
            ],
            "type": "histogram2dcontour"
           }
          ],
          "mesh3d": [
           {
            "colorbar": {
             "outlinewidth": 0,
             "ticks": ""
            },
            "type": "mesh3d"
           }
          ],
          "parcoords": [
           {
            "line": {
             "colorbar": {
              "outlinewidth": 0,
              "ticks": ""
             }
            },
            "type": "parcoords"
           }
          ],
          "pie": [
           {
            "automargin": true,
            "type": "pie"
           }
          ],
          "scatter": [
           {
            "fillpattern": {
             "fillmode": "overlay",
             "size": 10,
             "solidity": 0.2
            },
            "type": "scatter"
           }
          ],
          "scatter3d": [
           {
            "line": {
             "colorbar": {
              "outlinewidth": 0,
              "ticks": ""
             }
            },
            "marker": {
             "colorbar": {
              "outlinewidth": 0,
              "ticks": ""
             }
            },
            "type": "scatter3d"
           }
          ],
          "scattercarpet": [
           {
            "marker": {
             "colorbar": {
              "outlinewidth": 0,
              "ticks": ""
             }
            },
            "type": "scattercarpet"
           }
          ],
          "scattergeo": [
           {
            "marker": {
             "colorbar": {
              "outlinewidth": 0,
              "ticks": ""
             }
            },
            "type": "scattergeo"
           }
          ],
          "scattergl": [
           {
            "marker": {
             "colorbar": {
              "outlinewidth": 0,
              "ticks": ""
             }
            },
            "type": "scattergl"
           }
          ],
          "scattermap": [
           {
            "marker": {
             "colorbar": {
              "outlinewidth": 0,
              "ticks": ""
             }
            },
            "type": "scattermap"
           }
          ],
          "scattermapbox": [
           {
            "marker": {
             "colorbar": {
              "outlinewidth": 0,
              "ticks": ""
             }
            },
            "type": "scattermapbox"
           }
          ],
          "scatterpolar": [
           {
            "marker": {
             "colorbar": {
              "outlinewidth": 0,
              "ticks": ""
             }
            },
            "type": "scatterpolar"
           }
          ],
          "scatterpolargl": [
           {
            "marker": {
             "colorbar": {
              "outlinewidth": 0,
              "ticks": ""
             }
            },
            "type": "scatterpolargl"
           }
          ],
          "scatterternary": [
           {
            "marker": {
             "colorbar": {
              "outlinewidth": 0,
              "ticks": ""
             }
            },
            "type": "scatterternary"
           }
          ],
          "surface": [
           {
            "colorbar": {
             "outlinewidth": 0,
             "ticks": ""
            },
            "colorscale": [
             [
              0,
              "#0d0887"
             ],
             [
              0.1111111111111111,
              "#46039f"
             ],
             [
              0.2222222222222222,
              "#7201a8"
             ],
             [
              0.3333333333333333,
              "#9c179e"
             ],
             [
              0.4444444444444444,
              "#bd3786"
             ],
             [
              0.5555555555555556,
              "#d8576b"
             ],
             [
              0.6666666666666666,
              "#ed7953"
             ],
             [
              0.7777777777777778,
              "#fb9f3a"
             ],
             [
              0.8888888888888888,
              "#fdca26"
             ],
             [
              1,
              "#f0f921"
             ]
            ],
            "type": "surface"
           }
          ],
          "table": [
           {
            "cells": {
             "fill": {
              "color": "#EBF0F8"
             },
             "line": {
              "color": "white"
             }
            },
            "header": {
             "fill": {
              "color": "#C8D4E3"
             },
             "line": {
              "color": "white"
             }
            },
            "type": "table"
           }
          ]
         },
         "layout": {
          "annotationdefaults": {
           "arrowcolor": "#2a3f5f",
           "arrowhead": 0,
           "arrowwidth": 1
          },
          "autotypenumbers": "strict",
          "coloraxis": {
           "colorbar": {
            "outlinewidth": 0,
            "ticks": ""
           }
          },
          "colorscale": {
           "diverging": [
            [
             0,
             "#8e0152"
            ],
            [
             0.1,
             "#c51b7d"
            ],
            [
             0.2,
             "#de77ae"
            ],
            [
             0.3,
             "#f1b6da"
            ],
            [
             0.4,
             "#fde0ef"
            ],
            [
             0.5,
             "#f7f7f7"
            ],
            [
             0.6,
             "#e6f5d0"
            ],
            [
             0.7,
             "#b8e186"
            ],
            [
             0.8,
             "#7fbc41"
            ],
            [
             0.9,
             "#4d9221"
            ],
            [
             1,
             "#276419"
            ]
           ],
           "sequential": [
            [
             0,
             "#0d0887"
            ],
            [
             0.1111111111111111,
             "#46039f"
            ],
            [
             0.2222222222222222,
             "#7201a8"
            ],
            [
             0.3333333333333333,
             "#9c179e"
            ],
            [
             0.4444444444444444,
             "#bd3786"
            ],
            [
             0.5555555555555556,
             "#d8576b"
            ],
            [
             0.6666666666666666,
             "#ed7953"
            ],
            [
             0.7777777777777778,
             "#fb9f3a"
            ],
            [
             0.8888888888888888,
             "#fdca26"
            ],
            [
             1,
             "#f0f921"
            ]
           ],
           "sequentialminus": [
            [
             0,
             "#0d0887"
            ],
            [
             0.1111111111111111,
             "#46039f"
            ],
            [
             0.2222222222222222,
             "#7201a8"
            ],
            [
             0.3333333333333333,
             "#9c179e"
            ],
            [
             0.4444444444444444,
             "#bd3786"
            ],
            [
             0.5555555555555556,
             "#d8576b"
            ],
            [
             0.6666666666666666,
             "#ed7953"
            ],
            [
             0.7777777777777778,
             "#fb9f3a"
            ],
            [
             0.8888888888888888,
             "#fdca26"
            ],
            [
             1,
             "#f0f921"
            ]
           ]
          },
          "colorway": [
           "#636efa",
           "#EF553B",
           "#00cc96",
           "#ab63fa",
           "#FFA15A",
           "#19d3f3",
           "#FF6692",
           "#B6E880",
           "#FF97FF",
           "#FECB52"
          ],
          "font": {
           "color": "#2a3f5f"
          },
          "geo": {
           "bgcolor": "white",
           "lakecolor": "white",
           "landcolor": "#E5ECF6",
           "showlakes": true,
           "showland": true,
           "subunitcolor": "white"
          },
          "hoverlabel": {
           "align": "left"
          },
          "hovermode": "closest",
          "mapbox": {
           "style": "light"
          },
          "paper_bgcolor": "white",
          "plot_bgcolor": "#E5ECF6",
          "polar": {
           "angularaxis": {
            "gridcolor": "white",
            "linecolor": "white",
            "ticks": ""
           },
           "bgcolor": "#E5ECF6",
           "radialaxis": {
            "gridcolor": "white",
            "linecolor": "white",
            "ticks": ""
           }
          },
          "scene": {
           "xaxis": {
            "backgroundcolor": "#E5ECF6",
            "gridcolor": "white",
            "gridwidth": 2,
            "linecolor": "white",
            "showbackground": true,
            "ticks": "",
            "zerolinecolor": "white"
           },
           "yaxis": {
            "backgroundcolor": "#E5ECF6",
            "gridcolor": "white",
            "gridwidth": 2,
            "linecolor": "white",
            "showbackground": true,
            "ticks": "",
            "zerolinecolor": "white"
           },
           "zaxis": {
            "backgroundcolor": "#E5ECF6",
            "gridcolor": "white",
            "gridwidth": 2,
            "linecolor": "white",
            "showbackground": true,
            "ticks": "",
            "zerolinecolor": "white"
           }
          },
          "shapedefaults": {
           "line": {
            "color": "#2a3f5f"
           }
          },
          "ternary": {
           "aaxis": {
            "gridcolor": "white",
            "linecolor": "white",
            "ticks": ""
           },
           "baxis": {
            "gridcolor": "white",
            "linecolor": "white",
            "ticks": ""
           },
           "bgcolor": "#E5ECF6",
           "caxis": {
            "gridcolor": "white",
            "linecolor": "white",
            "ticks": ""
           }
          },
          "title": {
           "x": 0.05
          },
          "xaxis": {
           "automargin": true,
           "gridcolor": "white",
           "linecolor": "white",
           "ticks": "",
           "title": {
            "standoff": 15
           },
           "zerolinecolor": "white",
           "zerolinewidth": 2
          },
          "yaxis": {
           "automargin": true,
           "gridcolor": "white",
           "linecolor": "white",
           "ticks": "",
           "title": {
            "standoff": 15
           },
           "zerolinecolor": "white",
           "zerolinewidth": 2
          }
         }
        },
        "title": {
         "text": "Silhouette Analysis"
        },
        "width": 1000,
        "xaxis": {
         "title": {
          "text": "Number of clusters"
         }
        },
        "yaxis": {
         "title": {
          "text": "Silhouette Score"
         }
        }
       }
      }
     },
     "metadata": {},
     "output_type": "display_data"
    }
   ],
   "source": [
    "import plotly.graph_objects as go\n",
    "\n",
    "# Silhouette Analysis\n",
    "silhouette_scores = []\n",
    "for n_clusters in range(2, 21):\n",
    "    kmeans = KMeans(n_clusters=n_clusters, random_state=42)\n",
    "    cluster_labels = kmeans.fit_predict(scaled_data)\n",
    "    silhouette_avg = silhouette_score(scaled_data, cluster_labels)\n",
    "    silhouette_scores.append(silhouette_avg)\n",
    "\n",
    "# Create the plot\n",
    "fig = go.Figure()\n",
    "fig.add_trace(go.Scatter(x=list(range(2, 21)), y=silhouette_scores, mode='lines+markers', marker=dict(color='red'), line=dict(dash='dash')))\n",
    "\n",
    "# Update layout for better readability\n",
    "fig.update_layout(\n",
    "    title='Silhouette Analysis',\n",
    "    xaxis_title='Number of clusters',\n",
    "    yaxis_title='Silhouette Score',\n",
    "    width=1000,\n",
    "    height=600\n",
    ")\n",
    "\n",
    "# Show the plot\n",
    "fig.show()\n"
   ]
  },
  {
   "cell_type": "code",
   "execution_count": 15,
   "metadata": {},
   "outputs": [
    {
     "data": {
      "text/plain": [
       "cluster\n",
       "1    68\n",
       "5    60\n",
       "4    56\n",
       "2    47\n",
       "0    46\n",
       "3    39\n",
       "6    32\n",
       "7    12\n",
       "Name: count, dtype: int64"
      ]
     },
     "execution_count": 15,
     "metadata": {},
     "output_type": "execute_result"
    }
   ],
   "source": [
    "kmeans = KMeans(n_clusters = 8, init='k-means++')\n",
    "kmeans.fit(scaled_data)\n",
    "pred = kmeans.predict(scaled_data)\n",
    "\n",
    "frame = pd.DataFrame(scaled_data)\n",
    "frame['cluster'] = pred\n",
    "frame['cluster'].value_counts()"
   ]
  },
  {
   "cell_type": "code",
   "execution_count": 16,
   "metadata": {},
   "outputs": [
    {
     "data": {
      "application/vnd.plotly.v1+json": {
       "config": {
        "plotlyServerURL": "https://plot.ly"
       },
       "data": [
        {
         "hovertemplate": "feature_0=%{x}<br>feature_1=%{y}<br>cluster=%{marker.color}<extra></extra>",
         "legendgroup": "",
         "marker": {
          "color": {
           "bdata": "AgAAAAQAAAADAAAAAgAAAAMAAAAFAAAABAAAAAUAAAACAAAABgAAAAAAAAADAAAABQAAAAUAAAAFAAAAAQAAAAUAAAAFAAAABAAAAAUAAAAAAAAABAAAAAAAAAAEAAAAAQAAAAEAAAABAAAABAAAAAQAAAAEAAAABAAAAAEAAAABAAAAAQAAAAQAAAABAAAAAAAAAAEAAAAAAAAAAQAAAAAAAAAGAAAAAQAAAAEAAAAAAAAABQAAAAAAAAABAAAAAQAAAAUAAAAEAAAABQAAAAUAAAAEAAAAAQAAAAEAAAABAAAABAAAAAUAAAABAAAAAgAAAAYAAAADAAAAAAAAAAAAAAAEAAAABQAAAAQAAAAAAAAAAAAAAAYAAAABAAAABgAAAAYAAAAGAAAABAAAAAYAAAACAAAABAAAAAQAAAAGAAAABgAAAAYAAAAGAAAAAwAAAAMAAAADAAAAAwAAAAMAAAAGAAAAAwAAAAMAAAAGAAAAAAAAAAIAAAAFAAAABwAAAAcAAAAHAAAABwAAAAcAAAAHAAAABwAAAAcAAAAHAAAABwAAAAcAAAAHAAAABAAAAAEAAAABAAAAAQAAAAQAAAABAAAAAQAAAAEAAAAEAAAAAQAAAAEAAAABAAAAAQAAAAQAAAACAAAABAAAAAQAAAABAAAAAAAAAAAAAAAEAAAAAQAAAAEAAAAEAAAABgAAAAYAAAACAAAAAgAAAAIAAAAGAAAAAgAAAAIAAAACAAAAAgAAAAIAAAACAAAAAQAAAAEAAAABAAAAAQAAAAEAAAABAAAAAQAAAAEAAAABAAAAAQAAAAEAAAABAAAAAAAAAAQAAAAAAAAAAQAAAAIAAAAGAAAAAAAAAAAAAAAEAAAAAgAAAAAAAAAAAAAABAAAAAYAAAABAAAAAQAAAAMAAAACAAAABAAAAAQAAAADAAAAAwAAAAMAAAADAAAABQAAAAUAAAAFAAAABQAAAAUAAAAFAAAABQAAAAAAAAAEAAAAAQAAAAUAAAAAAAAAAAAAAAAAAAAAAAAAAgAAAAAAAAAAAAAAAAAAAAAAAAAAAAAAAAAAAAAAAAAAAAAAAQAAAAEAAAAFAAAAAQAAAAUAAAAFAAAAAQAAAAEAAAAFAAAABQAAAAUAAAAFAAAAAwAAAAAAAAAGAAAAAQAAAAYAAAADAAAAAAAAAAEAAAACAAAAAQAAAAEAAAABAAAABQAAAAUAAAABAAAAAQAAAAEAAAABAAAABQAAAAUAAAAGAAAABQAAAAEAAAABAAAABQAAAAQAAAAFAAAABQAAAAUAAAAFAAAABQAAAAUAAAAEAAAABQAAAAUAAAAFAAAAAgAAAAIAAAACAAAAAgAAAAIAAAACAAAAAgAAAAIAAAACAAAAAgAAAAIAAAACAAAAAwAAAAIAAAADAAAAAgAAAAMAAAACAAAAAwAAAAMAAAADAAAAAwAAAAMAAAACAAAAAAAAAAAAAAAAAAAABQAAAAAAAAAEAAAAAAAAAAAAAAAAAAAAAAAAAAAAAAAGAAAAAwAAAAMAAAADAAAAAwAAAAMAAAADAAAAAwAAAAYAAAADAAAAAwAAAAMAAAADAAAAAgAAAAYAAAADAAAAAgAAAAIAAAACAAAAAgAAAAIAAAAGAAAAAAAAAAYAAAADAAAABQAAAAQAAAAGAAAABQAAAAQAAAAFAAAAAQAAAAUAAAAFAAAABQAAAAQAAAAFAAAABAAAAAQAAAAEAAAABAAAAAQAAAAEAAAABAAAAAQAAAAEAAAABAAAAAQAAAAEAAAAAQAAAAYAAAAGAAAABAAAAAIAAAAGAAAAAgAAAAQAAAACAAAABgAAAAIAAAAEAAAABAAAAAUAAAAFAAAABQAAAAEAAAAFAAAAAQAAAAUAAAAEAAAABAAAAAUAAAAFAAAA",
           "dtype": "i4"
          },
          "coloraxis": "coloraxis",
          "symbol": "circle"
         },
         "mode": "markers",
         "name": "",
         "orientation": "v",
         "showlegend": false,
         "type": "scatter",
         "x": {
          "bdata": "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",
          "dtype": "f8"
         },
         "xaxis": "x",
         "y": {
          "bdata": "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",
          "dtype": "f8"
         },
         "yaxis": "y"
        }
       ],
       "layout": {
        "coloraxis": {
         "colorbar": {
          "title": {
           "text": "cluster"
          }
         },
         "colorscale": [
          [
           0,
           "#0d0887"
          ],
          [
           0.1111111111111111,
           "#46039f"
          ],
          [
           0.2222222222222222,
           "#7201a8"
          ],
          [
           0.3333333333333333,
           "#9c179e"
          ],
          [
           0.4444444444444444,
           "#bd3786"
          ],
          [
           0.5555555555555556,
           "#d8576b"
          ],
          [
           0.6666666666666666,
           "#ed7953"
          ],
          [
           0.7777777777777778,
           "#fb9f3a"
          ],
          [
           0.8888888888888888,
           "#fdca26"
          ],
          [
           1,
           "#f0f921"
          ]
         ]
        },
        "legend": {
         "tracegroupgap": 0
        },
        "template": {
         "data": {
          "bar": [
           {
            "error_x": {
             "color": "#2a3f5f"
            },
            "error_y": {
             "color": "#2a3f5f"
            },
            "marker": {
             "line": {
              "color": "#E5ECF6",
              "width": 0.5
             },
             "pattern": {
              "fillmode": "overlay",
              "size": 10,
              "solidity": 0.2
             }
            },
            "type": "bar"
           }
          ],
          "barpolar": [
           {
            "marker": {
             "line": {
              "color": "#E5ECF6",
              "width": 0.5
             },
             "pattern": {
              "fillmode": "overlay",
              "size": 10,
              "solidity": 0.2
             }
            },
            "type": "barpolar"
           }
          ],
          "carpet": [
           {
            "aaxis": {
             "endlinecolor": "#2a3f5f",
             "gridcolor": "white",
             "linecolor": "white",
             "minorgridcolor": "white",
             "startlinecolor": "#2a3f5f"
            },
            "baxis": {
             "endlinecolor": "#2a3f5f",
             "gridcolor": "white",
             "linecolor": "white",
             "minorgridcolor": "white",
             "startlinecolor": "#2a3f5f"
            },
            "type": "carpet"
           }
          ],
          "choropleth": [
           {
            "colorbar": {
             "outlinewidth": 0,
             "ticks": ""
            },
            "type": "choropleth"
           }
          ],
          "contour": [
           {
            "colorbar": {
             "outlinewidth": 0,
             "ticks": ""
            },
            "colorscale": [
             [
              0,
              "#0d0887"
             ],
             [
              0.1111111111111111,
              "#46039f"
             ],
             [
              0.2222222222222222,
              "#7201a8"
             ],
             [
              0.3333333333333333,
              "#9c179e"
             ],
             [
              0.4444444444444444,
              "#bd3786"
             ],
             [
              0.5555555555555556,
              "#d8576b"
             ],
             [
              0.6666666666666666,
              "#ed7953"
             ],
             [
              0.7777777777777778,
              "#fb9f3a"
             ],
             [
              0.8888888888888888,
              "#fdca26"
             ],
             [
              1,
              "#f0f921"
             ]
            ],
            "type": "contour"
           }
          ],
          "contourcarpet": [
           {
            "colorbar": {
             "outlinewidth": 0,
             "ticks": ""
            },
            "type": "contourcarpet"
           }
          ],
          "heatmap": [
           {
            "colorbar": {
             "outlinewidth": 0,
             "ticks": ""
            },
            "colorscale": [
             [
              0,
              "#0d0887"
             ],
             [
              0.1111111111111111,
              "#46039f"
             ],
             [
              0.2222222222222222,
              "#7201a8"
             ],
             [
              0.3333333333333333,
              "#9c179e"
             ],
             [
              0.4444444444444444,
              "#bd3786"
             ],
             [
              0.5555555555555556,
              "#d8576b"
             ],
             [
              0.6666666666666666,
              "#ed7953"
             ],
             [
              0.7777777777777778,
              "#fb9f3a"
             ],
             [
              0.8888888888888888,
              "#fdca26"
             ],
             [
              1,
              "#f0f921"
             ]
            ],
            "type": "heatmap"
           }
          ],
          "histogram": [
           {
            "marker": {
             "pattern": {
              "fillmode": "overlay",
              "size": 10,
              "solidity": 0.2
             }
            },
            "type": "histogram"
           }
          ],
          "histogram2d": [
           {
            "colorbar": {
             "outlinewidth": 0,
             "ticks": ""
            },
            "colorscale": [
             [
              0,
              "#0d0887"
             ],
             [
              0.1111111111111111,
              "#46039f"
             ],
             [
              0.2222222222222222,
              "#7201a8"
             ],
             [
              0.3333333333333333,
              "#9c179e"
             ],
             [
              0.4444444444444444,
              "#bd3786"
             ],
             [
              0.5555555555555556,
              "#d8576b"
             ],
             [
              0.6666666666666666,
              "#ed7953"
             ],
             [
              0.7777777777777778,
              "#fb9f3a"
             ],
             [
              0.8888888888888888,
              "#fdca26"
             ],
             [
              1,
              "#f0f921"
             ]
            ],
            "type": "histogram2d"
           }
          ],
          "histogram2dcontour": [
           {
            "colorbar": {
             "outlinewidth": 0,
             "ticks": ""
            },
            "colorscale": [
             [
              0,
              "#0d0887"
             ],
             [
              0.1111111111111111,
              "#46039f"
             ],
             [
              0.2222222222222222,
              "#7201a8"
             ],
             [
              0.3333333333333333,
              "#9c179e"
             ],
             [
              0.4444444444444444,
              "#bd3786"
             ],
             [
              0.5555555555555556,
              "#d8576b"
             ],
             [
              0.6666666666666666,
              "#ed7953"
             ],
             [
              0.7777777777777778,
              "#fb9f3a"
             ],
             [
              0.8888888888888888,
              "#fdca26"
             ],
             [
              1,
              "#f0f921"
             ]
            ],
            "type": "histogram2dcontour"
           }
          ],
          "mesh3d": [
           {
            "colorbar": {
             "outlinewidth": 0,
             "ticks": ""
            },
            "type": "mesh3d"
           }
          ],
          "parcoords": [
           {
            "line": {
             "colorbar": {
              "outlinewidth": 0,
              "ticks": ""
             }
            },
            "type": "parcoords"
           }
          ],
          "pie": [
           {
            "automargin": true,
            "type": "pie"
           }
          ],
          "scatter": [
           {
            "fillpattern": {
             "fillmode": "overlay",
             "size": 10,
             "solidity": 0.2
            },
            "type": "scatter"
           }
          ],
          "scatter3d": [
           {
            "line": {
             "colorbar": {
              "outlinewidth": 0,
              "ticks": ""
             }
            },
            "marker": {
             "colorbar": {
              "outlinewidth": 0,
              "ticks": ""
             }
            },
            "type": "scatter3d"
           }
          ],
          "scattercarpet": [
           {
            "marker": {
             "colorbar": {
              "outlinewidth": 0,
              "ticks": ""
             }
            },
            "type": "scattercarpet"
           }
          ],
          "scattergeo": [
           {
            "marker": {
             "colorbar": {
              "outlinewidth": 0,
              "ticks": ""
             }
            },
            "type": "scattergeo"
           }
          ],
          "scattergl": [
           {
            "marker": {
             "colorbar": {
              "outlinewidth": 0,
              "ticks": ""
             }
            },
            "type": "scattergl"
           }
          ],
          "scattermap": [
           {
            "marker": {
             "colorbar": {
              "outlinewidth": 0,
              "ticks": ""
             }
            },
            "type": "scattermap"
           }
          ],
          "scattermapbox": [
           {
            "marker": {
             "colorbar": {
              "outlinewidth": 0,
              "ticks": ""
             }
            },
            "type": "scattermapbox"
           }
          ],
          "scatterpolar": [
           {
            "marker": {
             "colorbar": {
              "outlinewidth": 0,
              "ticks": ""
             }
            },
            "type": "scatterpolar"
           }
          ],
          "scatterpolargl": [
           {
            "marker": {
             "colorbar": {
              "outlinewidth": 0,
              "ticks": ""
             }
            },
            "type": "scatterpolargl"
           }
          ],
          "scatterternary": [
           {
            "marker": {
             "colorbar": {
              "outlinewidth": 0,
              "ticks": ""
             }
            },
            "type": "scatterternary"
           }
          ],
          "surface": [
           {
            "colorbar": {
             "outlinewidth": 0,
             "ticks": ""
            },
            "colorscale": [
             [
              0,
              "#0d0887"
             ],
             [
              0.1111111111111111,
              "#46039f"
             ],
             [
              0.2222222222222222,
              "#7201a8"
             ],
             [
              0.3333333333333333,
              "#9c179e"
             ],
             [
              0.4444444444444444,
              "#bd3786"
             ],
             [
              0.5555555555555556,
              "#d8576b"
             ],
             [
              0.6666666666666666,
              "#ed7953"
             ],
             [
              0.7777777777777778,
              "#fb9f3a"
             ],
             [
              0.8888888888888888,
              "#fdca26"
             ],
             [
              1,
              "#f0f921"
             ]
            ],
            "type": "surface"
           }
          ],
          "table": [
           {
            "cells": {
             "fill": {
              "color": "#EBF0F8"
             },
             "line": {
              "color": "white"
             }
            },
            "header": {
             "fill": {
              "color": "#C8D4E3"
             },
             "line": {
              "color": "white"
             }
            },
            "type": "table"
           }
          ]
         },
         "layout": {
          "annotationdefaults": {
           "arrowcolor": "#2a3f5f",
           "arrowhead": 0,
           "arrowwidth": 1
          },
          "autotypenumbers": "strict",
          "coloraxis": {
           "colorbar": {
            "outlinewidth": 0,
            "ticks": ""
           }
          },
          "colorscale": {
           "diverging": [
            [
             0,
             "#8e0152"
            ],
            [
             0.1,
             "#c51b7d"
            ],
            [
             0.2,
             "#de77ae"
            ],
            [
             0.3,
             "#f1b6da"
            ],
            [
             0.4,
             "#fde0ef"
            ],
            [
             0.5,
             "#f7f7f7"
            ],
            [
             0.6,
             "#e6f5d0"
            ],
            [
             0.7,
             "#b8e186"
            ],
            [
             0.8,
             "#7fbc41"
            ],
            [
             0.9,
             "#4d9221"
            ],
            [
             1,
             "#276419"
            ]
           ],
           "sequential": [
            [
             0,
             "#0d0887"
            ],
            [
             0.1111111111111111,
             "#46039f"
            ],
            [
             0.2222222222222222,
             "#7201a8"
            ],
            [
             0.3333333333333333,
             "#9c179e"
            ],
            [
             0.4444444444444444,
             "#bd3786"
            ],
            [
             0.5555555555555556,
             "#d8576b"
            ],
            [
             0.6666666666666666,
             "#ed7953"
            ],
            [
             0.7777777777777778,
             "#fb9f3a"
            ],
            [
             0.8888888888888888,
             "#fdca26"
            ],
            [
             1,
             "#f0f921"
            ]
           ],
           "sequentialminus": [
            [
             0,
             "#0d0887"
            ],
            [
             0.1111111111111111,
             "#46039f"
            ],
            [
             0.2222222222222222,
             "#7201a8"
            ],
            [
             0.3333333333333333,
             "#9c179e"
            ],
            [
             0.4444444444444444,
             "#bd3786"
            ],
            [
             0.5555555555555556,
             "#d8576b"
            ],
            [
             0.6666666666666666,
             "#ed7953"
            ],
            [
             0.7777777777777778,
             "#fb9f3a"
            ],
            [
             0.8888888888888888,
             "#fdca26"
            ],
            [
             1,
             "#f0f921"
            ]
           ]
          },
          "colorway": [
           "#636efa",
           "#EF553B",
           "#00cc96",
           "#ab63fa",
           "#FFA15A",
           "#19d3f3",
           "#FF6692",
           "#B6E880",
           "#FF97FF",
           "#FECB52"
          ],
          "font": {
           "color": "#2a3f5f"
          },
          "geo": {
           "bgcolor": "white",
           "lakecolor": "white",
           "landcolor": "#E5ECF6",
           "showlakes": true,
           "showland": true,
           "subunitcolor": "white"
          },
          "hoverlabel": {
           "align": "left"
          },
          "hovermode": "closest",
          "mapbox": {
           "style": "light"
          },
          "paper_bgcolor": "white",
          "plot_bgcolor": "#E5ECF6",
          "polar": {
           "angularaxis": {
            "gridcolor": "white",
            "linecolor": "white",
            "ticks": ""
           },
           "bgcolor": "#E5ECF6",
           "radialaxis": {
            "gridcolor": "white",
            "linecolor": "white",
            "ticks": ""
           }
          },
          "scene": {
           "xaxis": {
            "backgroundcolor": "#E5ECF6",
            "gridcolor": "white",
            "gridwidth": 2,
            "linecolor": "white",
            "showbackground": true,
            "ticks": "",
            "zerolinecolor": "white"
           },
           "yaxis": {
            "backgroundcolor": "#E5ECF6",
            "gridcolor": "white",
            "gridwidth": 2,
            "linecolor": "white",
            "showbackground": true,
            "ticks": "",
            "zerolinecolor": "white"
           },
           "zaxis": {
            "backgroundcolor": "#E5ECF6",
            "gridcolor": "white",
            "gridwidth": 2,
            "linecolor": "white",
            "showbackground": true,
            "ticks": "",
            "zerolinecolor": "white"
           }
          },
          "shapedefaults": {
           "line": {
            "color": "#2a3f5f"
           }
          },
          "ternary": {
           "aaxis": {
            "gridcolor": "white",
            "linecolor": "white",
            "ticks": ""
           },
           "baxis": {
            "gridcolor": "white",
            "linecolor": "white",
            "ticks": ""
           },
           "bgcolor": "#E5ECF6",
           "caxis": {
            "gridcolor": "white",
            "linecolor": "white",
            "ticks": ""
           }
          },
          "title": {
           "x": 0.05
          },
          "xaxis": {
           "automargin": true,
           "gridcolor": "white",
           "linecolor": "white",
           "ticks": "",
           "title": {
            "standoff": 15
           },
           "zerolinecolor": "white",
           "zerolinewidth": 2
          },
          "yaxis": {
           "automargin": true,
           "gridcolor": "white",
           "linecolor": "white",
           "ticks": "",
           "title": {
            "standoff": 15
           },
           "zerolinecolor": "white",
           "zerolinewidth": 2
          }
         }
        },
        "title": {
         "text": "Cluster Visualization"
        },
        "xaxis": {
         "anchor": "y",
         "domain": [
          0,
          1
         ],
         "title": {
          "text": "feature_0"
         }
        },
        "yaxis": {
         "anchor": "x",
         "domain": [
          0,
          1
         ],
         "title": {
          "text": "feature_1"
         }
        }
       }
      }
     },
     "metadata": {},
     "output_type": "display_data"
    }
   ],
   "source": [
    "import plotly.express as px\n",
    "\n",
    "# Create a DataFrame for the scaled data with cluster labels\n",
    "df_scaled = pd.DataFrame(scaled_data, columns=[f'feature_{i}' for i in range(scaled_data.shape[1])])\n",
    "df_scaled['cluster'] = pred\n",
    "\n",
    "# Create a scatter plot for the first two features\n",
    "fig = px.scatter(df_scaled, x='feature_0', y='feature_1', color='cluster', title='Cluster Visualization')\n",
    "fig.show()"
   ]
  },
  {
   "cell_type": "code",
   "execution_count": 22,
   "metadata": {},
   "outputs": [
    {
     "data": {
      "text/plain": [
       "cluster\n",
       "1    68\n",
       "5    60\n",
       "4    56\n",
       "2    47\n",
       "0    46\n",
       "3    39\n",
       "6    32\n",
       "7    12\n",
       "Name: count, dtype: int64"
      ]
     },
     "execution_count": 22,
     "metadata": {},
     "output_type": "execute_result"
    }
   ],
   "source": [
    "# Add the cluster labels to the original dataframe\n",
    "df_scaled['cluster'] = pred\n",
    "\n",
    "df_scaled['cluster'].value_counts()"
   ]
  },
  {
   "cell_type": "code",
   "execution_count": 24,
   "metadata": {},
   "outputs": [],
   "source": [
    "X, y = df_scaled.drop('cluster', axis=1), df_scaled['cluster']"
   ]
  },
  {
   "cell_type": "code",
   "execution_count": 25,
   "metadata": {},
   "outputs": [],
   "source": [
    "pca = PCA(n_components=2)\n",
    "X_pca = pca.fit_transform(X)"
   ]
  },
  {
   "cell_type": "code",
   "execution_count": 28,
   "metadata": {
    "vscode": {
     "languageId": "ruby"
    }
   },
   "outputs": [
    {
     "data": {
      "application/vnd.plotly.v1+json": {
       "config": {
        "plotlyServerURL": "https://plot.ly"
       },
       "data": [
        {
         "hovertemplate": "PCA Component 1=%{x}<br>PCA Component 2=%{y}<br>cluster=%{marker.color}<extra></extra>",
         "legendgroup": "",
         "marker": {
          "color": {
           "bdata": "AgAAAAQAAAADAAAAAgAAAAMAAAAFAAAABAAAAAUAAAACAAAABgAAAAAAAAADAAAABQAAAAUAAAAFAAAAAQAAAAUAAAAFAAAABAAAAAUAAAAAAAAABAAAAAAAAAAEAAAAAQAAAAEAAAABAAAABAAAAAQAAAAEAAAABAAAAAEAAAABAAAAAQAAAAQAAAABAAAAAAAAAAEAAAAAAAAAAQAAAAAAAAAGAAAAAQAAAAEAAAAAAAAABQAAAAAAAAABAAAAAQAAAAUAAAAEAAAABQAAAAUAAAAEAAAAAQAAAAEAAAABAAAABAAAAAUAAAABAAAAAgAAAAYAAAADAAAAAAAAAAAAAAAEAAAABQAAAAQAAAAAAAAAAAAAAAYAAAABAAAABgAAAAYAAAAGAAAABAAAAAYAAAACAAAABAAAAAQAAAAGAAAABgAAAAYAAAAGAAAAAwAAAAMAAAADAAAAAwAAAAMAAAAGAAAAAwAAAAMAAAAGAAAAAAAAAAIAAAAFAAAABwAAAAcAAAAHAAAABwAAAAcAAAAHAAAABwAAAAcAAAAHAAAABwAAAAcAAAAHAAAABAAAAAEAAAABAAAAAQAAAAQAAAABAAAAAQAAAAEAAAAEAAAAAQAAAAEAAAABAAAAAQAAAAQAAAACAAAABAAAAAQAAAABAAAAAAAAAAAAAAAEAAAAAQAAAAEAAAAEAAAABgAAAAYAAAACAAAAAgAAAAIAAAAGAAAAAgAAAAIAAAACAAAAAgAAAAIAAAACAAAAAQAAAAEAAAABAAAAAQAAAAEAAAABAAAAAQAAAAEAAAABAAAAAQAAAAEAAAABAAAAAAAAAAQAAAAAAAAAAQAAAAIAAAAGAAAAAAAAAAAAAAAEAAAAAgAAAAAAAAAAAAAABAAAAAYAAAABAAAAAQAAAAMAAAACAAAABAAAAAQAAAADAAAAAwAAAAMAAAADAAAABQAAAAUAAAAFAAAABQAAAAUAAAAFAAAABQAAAAAAAAAEAAAAAQAAAAUAAAAAAAAAAAAAAAAAAAAAAAAAAgAAAAAAAAAAAAAAAAAAAAAAAAAAAAAAAAAAAAAAAAAAAAAAAQAAAAEAAAAFAAAAAQAAAAUAAAAFAAAAAQAAAAEAAAAFAAAABQAAAAUAAAAFAAAAAwAAAAAAAAAGAAAAAQAAAAYAAAADAAAAAAAAAAEAAAACAAAAAQAAAAEAAAABAAAABQAAAAUAAAABAAAAAQAAAAEAAAABAAAABQAAAAUAAAAGAAAABQAAAAEAAAABAAAABQAAAAQAAAAFAAAABQAAAAUAAAAFAAAABQAAAAUAAAAEAAAABQAAAAUAAAAFAAAAAgAAAAIAAAACAAAAAgAAAAIAAAACAAAAAgAAAAIAAAACAAAAAgAAAAIAAAACAAAAAwAAAAIAAAADAAAAAgAAAAMAAAACAAAAAwAAAAMAAAADAAAAAwAAAAMAAAACAAAAAAAAAAAAAAAAAAAABQAAAAAAAAAEAAAAAAAAAAAAAAAAAAAAAAAAAAAAAAAGAAAAAwAAAAMAAAADAAAAAwAAAAMAAAADAAAAAwAAAAYAAAADAAAAAwAAAAMAAAADAAAAAgAAAAYAAAADAAAAAgAAAAIAAAACAAAAAgAAAAIAAAAGAAAAAAAAAAYAAAADAAAABQAAAAQAAAAGAAAABQAAAAQAAAAFAAAAAQAAAAUAAAAFAAAABQAAAAQAAAAFAAAABAAAAAQAAAAEAAAABAAAAAQAAAAEAAAABAAAAAQAAAAEAAAABAAAAAQAAAAEAAAAAQAAAAYAAAAGAAAABAAAAAIAAAAGAAAAAgAAAAQAAAACAAAABgAAAAIAAAAEAAAABAAAAAUAAAAFAAAABQAAAAEAAAAFAAAAAQAAAAUAAAAEAAAABAAAAAUAAAAFAAAA",
           "dtype": "i4"
          },
          "coloraxis": "coloraxis",
          "symbol": "circle"
         },
         "mode": "markers",
         "name": "",
         "orientation": "v",
         "showlegend": false,
         "type": "scatter",
         "x": {
          "bdata": "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",
          "dtype": "f8"
         },
         "xaxis": "x",
         "y": {
          "bdata": "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",
          "dtype": "f8"
         },
         "yaxis": "y"
        }
       ],
       "layout": {
        "coloraxis": {
         "colorbar": {
          "title": {
           "text": "cluster"
          }
         },
         "colorscale": [
          [
           0,
           "#0d0887"
          ],
          [
           0.1111111111111111,
           "#46039f"
          ],
          [
           0.2222222222222222,
           "#7201a8"
          ],
          [
           0.3333333333333333,
           "#9c179e"
          ],
          [
           0.4444444444444444,
           "#bd3786"
          ],
          [
           0.5555555555555556,
           "#d8576b"
          ],
          [
           0.6666666666666666,
           "#ed7953"
          ],
          [
           0.7777777777777778,
           "#fb9f3a"
          ],
          [
           0.8888888888888888,
           "#fdca26"
          ],
          [
           1,
           "#f0f921"
          ]
         ]
        },
        "legend": {
         "tracegroupgap": 0
        },
        "template": {
         "data": {
          "bar": [
           {
            "error_x": {
             "color": "#2a3f5f"
            },
            "error_y": {
             "color": "#2a3f5f"
            },
            "marker": {
             "line": {
              "color": "#E5ECF6",
              "width": 0.5
             },
             "pattern": {
              "fillmode": "overlay",
              "size": 10,
              "solidity": 0.2
             }
            },
            "type": "bar"
           }
          ],
          "barpolar": [
           {
            "marker": {
             "line": {
              "color": "#E5ECF6",
              "width": 0.5
             },
             "pattern": {
              "fillmode": "overlay",
              "size": 10,
              "solidity": 0.2
             }
            },
            "type": "barpolar"
           }
          ],
          "carpet": [
           {
            "aaxis": {
             "endlinecolor": "#2a3f5f",
             "gridcolor": "white",
             "linecolor": "white",
             "minorgridcolor": "white",
             "startlinecolor": "#2a3f5f"
            },
            "baxis": {
             "endlinecolor": "#2a3f5f",
             "gridcolor": "white",
             "linecolor": "white",
             "minorgridcolor": "white",
             "startlinecolor": "#2a3f5f"
            },
            "type": "carpet"
           }
          ],
          "choropleth": [
           {
            "colorbar": {
             "outlinewidth": 0,
             "ticks": ""
            },
            "type": "choropleth"
           }
          ],
          "contour": [
           {
            "colorbar": {
             "outlinewidth": 0,
             "ticks": ""
            },
            "colorscale": [
             [
              0,
              "#0d0887"
             ],
             [
              0.1111111111111111,
              "#46039f"
             ],
             [
              0.2222222222222222,
              "#7201a8"
             ],
             [
              0.3333333333333333,
              "#9c179e"
             ],
             [
              0.4444444444444444,
              "#bd3786"
             ],
             [
              0.5555555555555556,
              "#d8576b"
             ],
             [
              0.6666666666666666,
              "#ed7953"
             ],
             [
              0.7777777777777778,
              "#fb9f3a"
             ],
             [
              0.8888888888888888,
              "#fdca26"
             ],
             [
              1,
              "#f0f921"
             ]
            ],
            "type": "contour"
           }
          ],
          "contourcarpet": [
           {
            "colorbar": {
             "outlinewidth": 0,
             "ticks": ""
            },
            "type": "contourcarpet"
           }
          ],
          "heatmap": [
           {
            "colorbar": {
             "outlinewidth": 0,
             "ticks": ""
            },
            "colorscale": [
             [
              0,
              "#0d0887"
             ],
             [
              0.1111111111111111,
              "#46039f"
             ],
             [
              0.2222222222222222,
              "#7201a8"
             ],
             [
              0.3333333333333333,
              "#9c179e"
             ],
             [
              0.4444444444444444,
              "#bd3786"
             ],
             [
              0.5555555555555556,
              "#d8576b"
             ],
             [
              0.6666666666666666,
              "#ed7953"
             ],
             [
              0.7777777777777778,
              "#fb9f3a"
             ],
             [
              0.8888888888888888,
              "#fdca26"
             ],
             [
              1,
              "#f0f921"
             ]
            ],
            "type": "heatmap"
           }
          ],
          "histogram": [
           {
            "marker": {
             "pattern": {
              "fillmode": "overlay",
              "size": 10,
              "solidity": 0.2
             }
            },
            "type": "histogram"
           }
          ],
          "histogram2d": [
           {
            "colorbar": {
             "outlinewidth": 0,
             "ticks": ""
            },
            "colorscale": [
             [
              0,
              "#0d0887"
             ],
             [
              0.1111111111111111,
              "#46039f"
             ],
             [
              0.2222222222222222,
              "#7201a8"
             ],
             [
              0.3333333333333333,
              "#9c179e"
             ],
             [
              0.4444444444444444,
              "#bd3786"
             ],
             [
              0.5555555555555556,
              "#d8576b"
             ],
             [
              0.6666666666666666,
              "#ed7953"
             ],
             [
              0.7777777777777778,
              "#fb9f3a"
             ],
             [
              0.8888888888888888,
              "#fdca26"
             ],
             [
              1,
              "#f0f921"
             ]
            ],
            "type": "histogram2d"
           }
          ],
          "histogram2dcontour": [
           {
            "colorbar": {
             "outlinewidth": 0,
             "ticks": ""
            },
            "colorscale": [
             [
              0,
              "#0d0887"
             ],
             [
              0.1111111111111111,
              "#46039f"
             ],
             [
              0.2222222222222222,
              "#7201a8"
             ],
             [
              0.3333333333333333,
              "#9c179e"
             ],
             [
              0.4444444444444444,
              "#bd3786"
             ],
             [
              0.5555555555555556,
              "#d8576b"
             ],
             [
              0.6666666666666666,
              "#ed7953"
             ],
             [
              0.7777777777777778,
              "#fb9f3a"
             ],
             [
              0.8888888888888888,
              "#fdca26"
             ],
             [
              1,
              "#f0f921"
             ]
            ],
            "type": "histogram2dcontour"
           }
          ],
          "mesh3d": [
           {
            "colorbar": {
             "outlinewidth": 0,
             "ticks": ""
            },
            "type": "mesh3d"
           }
          ],
          "parcoords": [
           {
            "line": {
             "colorbar": {
              "outlinewidth": 0,
              "ticks": ""
             }
            },
            "type": "parcoords"
           }
          ],
          "pie": [
           {
            "automargin": true,
            "type": "pie"
           }
          ],
          "scatter": [
           {
            "fillpattern": {
             "fillmode": "overlay",
             "size": 10,
             "solidity": 0.2
            },
            "type": "scatter"
           }
          ],
          "scatter3d": [
           {
            "line": {
             "colorbar": {
              "outlinewidth": 0,
              "ticks": ""
             }
            },
            "marker": {
             "colorbar": {
              "outlinewidth": 0,
              "ticks": ""
             }
            },
            "type": "scatter3d"
           }
          ],
          "scattercarpet": [
           {
            "marker": {
             "colorbar": {
              "outlinewidth": 0,
              "ticks": ""
             }
            },
            "type": "scattercarpet"
           }
          ],
          "scattergeo": [
           {
            "marker": {
             "colorbar": {
              "outlinewidth": 0,
              "ticks": ""
             }
            },
            "type": "scattergeo"
           }
          ],
          "scattergl": [
           {
            "marker": {
             "colorbar": {
              "outlinewidth": 0,
              "ticks": ""
             }
            },
            "type": "scattergl"
           }
          ],
          "scattermap": [
           {
            "marker": {
             "colorbar": {
              "outlinewidth": 0,
              "ticks": ""
             }
            },
            "type": "scattermap"
           }
          ],
          "scattermapbox": [
           {
            "marker": {
             "colorbar": {
              "outlinewidth": 0,
              "ticks": ""
             }
            },
            "type": "scattermapbox"
           }
          ],
          "scatterpolar": [
           {
            "marker": {
             "colorbar": {
              "outlinewidth": 0,
              "ticks": ""
             }
            },
            "type": "scatterpolar"
           }
          ],
          "scatterpolargl": [
           {
            "marker": {
             "colorbar": {
              "outlinewidth": 0,
              "ticks": ""
             }
            },
            "type": "scatterpolargl"
           }
          ],
          "scatterternary": [
           {
            "marker": {
             "colorbar": {
              "outlinewidth": 0,
              "ticks": ""
             }
            },
            "type": "scatterternary"
           }
          ],
          "surface": [
           {
            "colorbar": {
             "outlinewidth": 0,
             "ticks": ""
            },
            "colorscale": [
             [
              0,
              "#0d0887"
             ],
             [
              0.1111111111111111,
              "#46039f"
             ],
             [
              0.2222222222222222,
              "#7201a8"
             ],
             [
              0.3333333333333333,
              "#9c179e"
             ],
             [
              0.4444444444444444,
              "#bd3786"
             ],
             [
              0.5555555555555556,
              "#d8576b"
             ],
             [
              0.6666666666666666,
              "#ed7953"
             ],
             [
              0.7777777777777778,
              "#fb9f3a"
             ],
             [
              0.8888888888888888,
              "#fdca26"
             ],
             [
              1,
              "#f0f921"
             ]
            ],
            "type": "surface"
           }
          ],
          "table": [
           {
            "cells": {
             "fill": {
              "color": "#EBF0F8"
             },
             "line": {
              "color": "white"
             }
            },
            "header": {
             "fill": {
              "color": "#C8D4E3"
             },
             "line": {
              "color": "white"
             }
            },
            "type": "table"
           }
          ]
         },
         "layout": {
          "annotationdefaults": {
           "arrowcolor": "#2a3f5f",
           "arrowhead": 0,
           "arrowwidth": 1
          },
          "autotypenumbers": "strict",
          "coloraxis": {
           "colorbar": {
            "outlinewidth": 0,
            "ticks": ""
           }
          },
          "colorscale": {
           "diverging": [
            [
             0,
             "#8e0152"
            ],
            [
             0.1,
             "#c51b7d"
            ],
            [
             0.2,
             "#de77ae"
            ],
            [
             0.3,
             "#f1b6da"
            ],
            [
             0.4,
             "#fde0ef"
            ],
            [
             0.5,
             "#f7f7f7"
            ],
            [
             0.6,
             "#e6f5d0"
            ],
            [
             0.7,
             "#b8e186"
            ],
            [
             0.8,
             "#7fbc41"
            ],
            [
             0.9,
             "#4d9221"
            ],
            [
             1,
             "#276419"
            ]
           ],
           "sequential": [
            [
             0,
             "#0d0887"
            ],
            [
             0.1111111111111111,
             "#46039f"
            ],
            [
             0.2222222222222222,
             "#7201a8"
            ],
            [
             0.3333333333333333,
             "#9c179e"
            ],
            [
             0.4444444444444444,
             "#bd3786"
            ],
            [
             0.5555555555555556,
             "#d8576b"
            ],
            [
             0.6666666666666666,
             "#ed7953"
            ],
            [
             0.7777777777777778,
             "#fb9f3a"
            ],
            [
             0.8888888888888888,
             "#fdca26"
            ],
            [
             1,
             "#f0f921"
            ]
           ],
           "sequentialminus": [
            [
             0,
             "#0d0887"
            ],
            [
             0.1111111111111111,
             "#46039f"
            ],
            [
             0.2222222222222222,
             "#7201a8"
            ],
            [
             0.3333333333333333,
             "#9c179e"
            ],
            [
             0.4444444444444444,
             "#bd3786"
            ],
            [
             0.5555555555555556,
             "#d8576b"
            ],
            [
             0.6666666666666666,
             "#ed7953"
            ],
            [
             0.7777777777777778,
             "#fb9f3a"
            ],
            [
             0.8888888888888888,
             "#fdca26"
            ],
            [
             1,
             "#f0f921"
            ]
           ]
          },
          "colorway": [
           "#636efa",
           "#EF553B",
           "#00cc96",
           "#ab63fa",
           "#FFA15A",
           "#19d3f3",
           "#FF6692",
           "#B6E880",
           "#FF97FF",
           "#FECB52"
          ],
          "font": {
           "color": "#2a3f5f"
          },
          "geo": {
           "bgcolor": "white",
           "lakecolor": "white",
           "landcolor": "#E5ECF6",
           "showlakes": true,
           "showland": true,
           "subunitcolor": "white"
          },
          "hoverlabel": {
           "align": "left"
          },
          "hovermode": "closest",
          "mapbox": {
           "style": "light"
          },
          "paper_bgcolor": "white",
          "plot_bgcolor": "#E5ECF6",
          "polar": {
           "angularaxis": {
            "gridcolor": "white",
            "linecolor": "white",
            "ticks": ""
           },
           "bgcolor": "#E5ECF6",
           "radialaxis": {
            "gridcolor": "white",
            "linecolor": "white",
            "ticks": ""
           }
          },
          "scene": {
           "xaxis": {
            "backgroundcolor": "#E5ECF6",
            "gridcolor": "white",
            "gridwidth": 2,
            "linecolor": "white",
            "showbackground": true,
            "ticks": "",
            "zerolinecolor": "white"
           },
           "yaxis": {
            "backgroundcolor": "#E5ECF6",
            "gridcolor": "white",
            "gridwidth": 2,
            "linecolor": "white",
            "showbackground": true,
            "ticks": "",
            "zerolinecolor": "white"
           },
           "zaxis": {
            "backgroundcolor": "#E5ECF6",
            "gridcolor": "white",
            "gridwidth": 2,
            "linecolor": "white",
            "showbackground": true,
            "ticks": "",
            "zerolinecolor": "white"
           }
          },
          "shapedefaults": {
           "line": {
            "color": "#2a3f5f"
           }
          },
          "ternary": {
           "aaxis": {
            "gridcolor": "white",
            "linecolor": "white",
            "ticks": ""
           },
           "baxis": {
            "gridcolor": "white",
            "linecolor": "white",
            "ticks": ""
           },
           "bgcolor": "#E5ECF6",
           "caxis": {
            "gridcolor": "white",
            "linecolor": "white",
            "ticks": ""
           }
          },
          "title": {
           "x": 0.05
          },
          "xaxis": {
           "automargin": true,
           "gridcolor": "white",
           "linecolor": "white",
           "ticks": "",
           "title": {
            "standoff": 15
           },
           "zerolinecolor": "white",
           "zerolinewidth": 2
          },
          "yaxis": {
           "automargin": true,
           "gridcolor": "white",
           "linecolor": "white",
           "ticks": "",
           "title": {
            "standoff": 15
           },
           "zerolinecolor": "white",
           "zerolinewidth": 2
          }
         }
        },
        "title": {
         "text": "Clusters visualized with PCA"
        },
        "xaxis": {
         "anchor": "y",
         "domain": [
          0,
          1
         ],
         "title": {
          "text": "PCA Component 1"
         }
        },
        "yaxis": {
         "anchor": "x",
         "domain": [
          0,
          1
         ],
         "title": {
          "text": "PCA Component 2"
         }
        }
       }
      }
     },
     "metadata": {},
     "output_type": "display_data"
    }
   ],
   "source": [
    "import plotly.express as px\n",
    "\n",
    "# Create a DataFrame for the PCA components with cluster labels\n",
    "df_pca = pd.DataFrame(X_pca, columns=['PCA Component 1', 'PCA Component 2'])\n",
    "df_pca['cluster'] = pred\n",
    "\n",
    "# Create a scatter plot for the PCA components\n",
    "fig = px.scatter(df_pca, x='PCA Component 1', y='PCA Component 2', color='cluster', title='Clusters visualized with PCA')\n",
    "fig.show()"
   ]
  },
  {
   "cell_type": "code",
   "execution_count": 29,
   "metadata": {},
   "outputs": [],
   "source": [
    "tsne = TSNE(n_components=2, random_state=42)\n",
    "X_tsne = tsne.fit_transform(X)"
   ]
  },
  {
   "cell_type": "code",
   "execution_count": 30,
   "metadata": {},
   "outputs": [
    {
     "data": {
      "application/vnd.plotly.v1+json": {
       "config": {
        "plotlyServerURL": "https://plot.ly"
       },
       "data": [
        {
         "hovertemplate": "PCA Component 1=%{x}<br>PCA Component 2=%{y}<br>cluster=%{marker.color}<extra></extra>",
         "legendgroup": "",
         "marker": {
          "color": {
           "bdata": "AgAAAAQAAAADAAAAAgAAAAMAAAAFAAAABAAAAAUAAAACAAAABgAAAAAAAAADAAAABQAAAAUAAAAFAAAAAQAAAAUAAAAFAAAABAAAAAUAAAAAAAAABAAAAAAAAAAEAAAAAQAAAAEAAAABAAAABAAAAAQAAAAEAAAABAAAAAEAAAABAAAAAQAAAAQAAAABAAAAAAAAAAEAAAAAAAAAAQAAAAAAAAAGAAAAAQAAAAEAAAAAAAAABQAAAAAAAAABAAAAAQAAAAUAAAAEAAAABQAAAAUAAAAEAAAAAQAAAAEAAAABAAAABAAAAAUAAAABAAAAAgAAAAYAAAADAAAAAAAAAAAAAAAEAAAABQAAAAQAAAAAAAAAAAAAAAYAAAABAAAABgAAAAYAAAAGAAAABAAAAAYAAAACAAAABAAAAAQAAAAGAAAABgAAAAYAAAAGAAAAAwAAAAMAAAADAAAAAwAAAAMAAAAGAAAAAwAAAAMAAAAGAAAAAAAAAAIAAAAFAAAABwAAAAcAAAAHAAAABwAAAAcAAAAHAAAABwAAAAcAAAAHAAAABwAAAAcAAAAHAAAABAAAAAEAAAABAAAAAQAAAAQAAAABAAAAAQAAAAEAAAAEAAAAAQAAAAEAAAABAAAAAQAAAAQAAAACAAAABAAAAAQAAAABAAAAAAAAAAAAAAAEAAAAAQAAAAEAAAAEAAAABgAAAAYAAAACAAAAAgAAAAIAAAAGAAAAAgAAAAIAAAACAAAAAgAAAAIAAAACAAAAAQAAAAEAAAABAAAAAQAAAAEAAAABAAAAAQAAAAEAAAABAAAAAQAAAAEAAAABAAAAAAAAAAQAAAAAAAAAAQAAAAIAAAAGAAAAAAAAAAAAAAAEAAAAAgAAAAAAAAAAAAAABAAAAAYAAAABAAAAAQAAAAMAAAACAAAABAAAAAQAAAADAAAAAwAAAAMAAAADAAAABQAAAAUAAAAFAAAABQAAAAUAAAAFAAAABQAAAAAAAAAEAAAAAQAAAAUAAAAAAAAAAAAAAAAAAAAAAAAAAgAAAAAAAAAAAAAAAAAAAAAAAAAAAAAAAAAAAAAAAAAAAAAAAQAAAAEAAAAFAAAAAQAAAAUAAAAFAAAAAQAAAAEAAAAFAAAABQAAAAUAAAAFAAAAAwAAAAAAAAAGAAAAAQAAAAYAAAADAAAAAAAAAAEAAAACAAAAAQAAAAEAAAABAAAABQAAAAUAAAABAAAAAQAAAAEAAAABAAAABQAAAAUAAAAGAAAABQAAAAEAAAABAAAABQAAAAQAAAAFAAAABQAAAAUAAAAFAAAABQAAAAUAAAAEAAAABQAAAAUAAAAFAAAAAgAAAAIAAAACAAAAAgAAAAIAAAACAAAAAgAAAAIAAAACAAAAAgAAAAIAAAACAAAAAwAAAAIAAAADAAAAAgAAAAMAAAACAAAAAwAAAAMAAAADAAAAAwAAAAMAAAACAAAAAAAAAAAAAAAAAAAABQAAAAAAAAAEAAAAAAAAAAAAAAAAAAAAAAAAAAAAAAAGAAAAAwAAAAMAAAADAAAAAwAAAAMAAAADAAAAAwAAAAYAAAADAAAAAwAAAAMAAAADAAAAAgAAAAYAAAADAAAAAgAAAAIAAAACAAAAAgAAAAIAAAAGAAAAAAAAAAYAAAADAAAABQAAAAQAAAAGAAAABQAAAAQAAAAFAAAAAQAAAAUAAAAFAAAABQAAAAQAAAAFAAAABAAAAAQAAAAEAAAABAAAAAQAAAAEAAAABAAAAAQAAAAEAAAABAAAAAQAAAAEAAAAAQAAAAYAAAAGAAAABAAAAAIAAAAGAAAAAgAAAAQAAAACAAAABgAAAAIAAAAEAAAABAAAAAUAAAAFAAAABQAAAAEAAAAFAAAAAQAAAAUAAAAEAAAABAAAAAUAAAAFAAAA",
           "dtype": "i4"
          },
          "coloraxis": "coloraxis",
          "symbol": "circle"
         },
         "mode": "markers",
         "name": "",
         "orientation": "v",
         "showlegend": false,
         "type": "scatter",
         "x": {
          "bdata": "Tx2MQJumlEAJRaFAI6+fQICVW0A+GKNAr2KBQHbmjEBwZj5ASsx1QL5Mc0Ag4mpA/eC8wCQLo8Clp7bA7Ym7wMORpMCgJJXBafSTwTdNzsDMN43BLDKPwWmR18AGE5HB7LEdvU44jz66mai/ZKn/P67WMD89b80/kkaEP10yD76zBUa/PQiiPjRmEz8a6QI/9zpYwYcjRsHgzF3BUDdEwWAeT8GY1jLBF+lTwV5IU8GwGnHBUD5lweILYcFKT0LBA9ZcwbGcLsHW11HBsTEvwQSgPMFCxD3BX6BLwX+8TME8TFjB+htYwa+GNcHaGV3BsPwwwQVsT8GP1hrBzfJCwRoJJsGw9hrBBOQuwXx1TcGsfz/Bg+lGwTUaCcHLkADB99sHwXH2BcF6RBfBHLcXwbpQJ8FZrerAmrAQwYyjE8HpuDDBapAUwRmML8EftCvBpowuQfQBE0HkGzBBMgkcQcrWM0GILQ5BBKgiQfOoF0Hr8exAaNQHQaBfJUG9uBVBW5+1QdLYsEH9O8ZBhuK8QQm+vUGkC7NBv3+6QeTLrkHDysVBnlmsQfPWukExDb5BgMjwQOqu7ECTuBVB3UjgQDCyAUGLEAFBOeoTQawT6ECu/RRBiujfQGOhDUFaigNButZ2wOWZdMCTPdY/b9Z4wKBfEsA38X/A0WIUwE0LBMDrRXXA58+MwF5MN8DkNIXAh3vfQHBb7EAlI5ZAglKhQOfQhEBglNpAx2NpQDeHe0AJHrdAFx2TQIC3pECLsJlAraAXwax/0sClQh3BhiTjwPgV/sBTavDARMEgwYuCAsHMvwnBud/ywP8s8MAYb9vANYw2QPilXT8C83NAJmadQKaVkEBhibRAIzU4QAjUCkArXco/czuPQOX/hEDiR41AzRphwRR1nEF0fJvBHGebwaEAkkEYAI9BPa9ywfE4ZMHkk5ZBU6qSQQeIjkFK64xB7b4UwTrBJcHKeR3BbKocwQoBEsH3MyLB67QiwZSWMsEtgEHB8j1EwaXvHMH/pTLBQdALQajdLUGgXzFBB+8tQSpDFUEzCyFBsNQRQRakIEEb1TRBqO4/QfcWAEHmGipB/r27wPlUncC19aLAf3qiwN+u6cDHyd3AJMJ6wH/RksBZ6L3AznLDwGoOy8CZoOTANGXRwNEs/sBPXRnByKUUwahjAsHZd+LAx50BwUQZCsFv9RvBWtILwa+yIMFPCCfBR5yfwO10jMDOGdy/xHjMv26E/b8D1Iq/FQR7wKbGe8BZkc2/RAp5wKi19L85EOG/MNL+QAcsC0F+OtxA/B/iQP5v8UC6MrVAc4TNQIKhtUAhvwFBOsrOQOYgrkBV8sNAzeRqQLkwg0CCzTRAVpdbQJXIOEC3sQhAo5RCQAsGh0BPihFABqL0P3j6SkDnSIBAuMaDQdbgXEEASIFBQdxfQZRBjEGYjWVBo1qGQeJicUGvLntBqXVvQVWMikHNZ2NBQ5i9wIVIsMBl+v3AFAbmwK/j1MB7xbjAhBznwC9RncAsT9/Ayy2gwGHEzMB+5OTAbpdDQbpPbUEmbFJB53FkQaVIVEFP1V9B61hLQfyEOUETz19B7qxaQch/W0GxIFNBNYKPvhTXWr8AtYvAEA3Gv1I0gb/TUK+/hyMGv0auFMBSWm2/AJXCv5sT0L1zqYnABbFWQDtUNz9ntuu/249CQHeSrz+VAKk/dRwVQASXGkDI+uo/3BbpP8jKST8h8ABAeO5rwT3WaMFKy4HBNZZrwekSgcH5tIfBqPZ4wVLajMHBBobBxWmLwc45hsEPsIHBBgiNwFZgKsAogVLAM1WBwJTkiMA3VtLAzJAkwJIUmsB4BXHASYd8wJl7H8AcPKrAw+ksQK0fMUCH9Pg/edhiQHKzcD74L2NAVEQTvj0IGkC+SW5Aa5yLQHHZWUBLa4NA",
          "dtype": "f4"
         },
         "xaxis": "x",
         "y": {
          "bdata": "CZPewAwvocBR0PPAkrTKwLSitMADwbDAEQzBwGsxscDIlgXBjiN/wJxg1cC6F43AeAXLQbcXyUFalMxBHazeQdHuxkHaKSjBVyghwbVa3UG+5y3BCTgrwbzE3kFLxSLB8MryQDFIBkHcCwZBXAngQA583UBGoelAh4/TQARrBkGcvuNAfDcVQVsvx0CBNwxBvfetQCKp9UCDybRAIRLTQAHmtEDo4bdAZJnUQJ7760Bq9c5AN53kQFBmnkCMJdpAyjpwQdQ6aEGTrE9BnVliQY2HaUEteFpBNrZzQVZSaUENDGpBiERYQROzdEFyvltB4DxcwawhfMFYp2DBTQhmwUkiWsG75y/BeNpIweY+eMGr2V3BUJlVwcWQK8EwRC3BELXOwMTKzsAn7trASlqVwLDivcCCFMXAmhudwGH6psBsdOvA2svLwKIQ48D64K3AHWsiwSZzEMEj2zDBxL8RwVaUJcGctkTBlxozwdN8PcEe5wvBltoNwdgEBcGuFf/AshQWwW6PHcEIYRPB4603wYBjFsFGWPbA94EIwcyOI8EKHBnBH9ouwa56EMEo+TDBzi03QW3eCUGAcjxBZP0aQXS/P0GJshVB9/rzQMLcL0EMUEFBKiwEQS1DAUFIWg5BG5BmQCKc/j9ZyBLB1o+LP2m8BkA3lYhA1Y+mP57sJkAOk44+dzM8QJ7ZeEDas8o/U4uMwdgvjcFgsYrBblmRwVnTjcFKMInBJk+PwRL8lsEY1JrBANmYwVVKi8EEf5TBkg6wwQe/pcF3YrHBIBKkwQw0rMFog6fBjWWwwbSXosG+hajBabahwfoWsMECp6zBLO8PQEwL+T53++U/mS8+QMUujDx4J1xA/3axP4ypbz8lTN4+O1bwvmPkxj8Y5PA/GdWgwUmDYcEnryFBs1whQYxgUMEppmrB+uidwRU1oMFbf0PBF/RKwSWdPsGUvknBg+GhQfgGtkH9hKVBkFmrQYtEp0GpdLNBA5uiQajwykE1X5xBsBGcQSDEn0GeTstBonSIv/66SL0qYJu/DxYAwNWOnr+2n/y/y+WTvl7/FjwRZN2++SEGvrRccb+dYME+C9ttQQXzbUEpC4JB80l+QZuphEEt/YlBHHdYQbL8akE/34VBplSKQZtPgUHPlIFBKikqwLnb070OkjI/XDsAQKvgOEAQoKC/5jouPjolqz/7rfO+WnLYP4Ub0T8Ts9M/A6CmQcJmpUFQOaZBkRmhQTXGlEHO6Z5BQ7uqQU3vp0HSbI1BKeSjQdJ5lUH2X55BpcyYQVj/lUG2h5ZBGGeeQZHinUEVdphBlYuWQXdsk0HCB4ZB36uRQaqsoEE9X6JB2907wRqfR8FuJ0vBHhlUwRZJX8GSUWDBgrxGwcBuW8Fyb0HBD1lQwZv3NMH7ek/BDgz2wP2K1sAKExTBbK4AwWRaEcEKRQfBQl4FwUyp7sDm8QXB2439wADQ+8BgwOXARyUEQXw3EEFFoQtBJhYgQT7tBUHacx5BaW8UQQ/oDkEXwwJB44oMQSv96kBqxeJAOv5zwfcQgMGoH2DB+xZzwViBdMHxrX/Bh/JxwQ6NgsEb8GPBPreEwV1naMEQ0n/B90iEwMBRu8Bdt4fAfn6TwP1Qk8BSo6LAGpCnwBOGnsBfiEHAJGg+wECgW8B/QojAvcVxQTS0UkHWLwvBvn1hQTkCUkELq15BvDRPQfbHVUH2znNBNn1vQYP2Y0EPJmhBKKkHwM4qgb/zlBTAcdx3v+iukr4VfSe/myILwHk4nT5hzg++x/0/vx5uH8BfI9C/tdIXwcrDFMGncRnB5NgiwZcBUsG1ky3BGnhUwdPgNcEfZDnBktoswTROVMH+JzPB87fNQahjxEGwZMRBY43AQd+GwEGTx8VBnI/AQe2wvkE9Ds9BWarKQT0QzkGmUcVB",
          "dtype": "f4"
         },
         "yaxis": "y"
        }
       ],
       "layout": {
        "coloraxis": {
         "colorbar": {
          "title": {
           "text": "cluster"
          }
         },
         "colorscale": [
          [
           0,
           "#0d0887"
          ],
          [
           0.1111111111111111,
           "#46039f"
          ],
          [
           0.2222222222222222,
           "#7201a8"
          ],
          [
           0.3333333333333333,
           "#9c179e"
          ],
          [
           0.4444444444444444,
           "#bd3786"
          ],
          [
           0.5555555555555556,
           "#d8576b"
          ],
          [
           0.6666666666666666,
           "#ed7953"
          ],
          [
           0.7777777777777778,
           "#fb9f3a"
          ],
          [
           0.8888888888888888,
           "#fdca26"
          ],
          [
           1,
           "#f0f921"
          ]
         ]
        },
        "legend": {
         "tracegroupgap": 0
        },
        "template": {
         "data": {
          "bar": [
           {
            "error_x": {
             "color": "#2a3f5f"
            },
            "error_y": {
             "color": "#2a3f5f"
            },
            "marker": {
             "line": {
              "color": "#E5ECF6",
              "width": 0.5
             },
             "pattern": {
              "fillmode": "overlay",
              "size": 10,
              "solidity": 0.2
             }
            },
            "type": "bar"
           }
          ],
          "barpolar": [
           {
            "marker": {
             "line": {
              "color": "#E5ECF6",
              "width": 0.5
             },
             "pattern": {
              "fillmode": "overlay",
              "size": 10,
              "solidity": 0.2
             }
            },
            "type": "barpolar"
           }
          ],
          "carpet": [
           {
            "aaxis": {
             "endlinecolor": "#2a3f5f",
             "gridcolor": "white",
             "linecolor": "white",
             "minorgridcolor": "white",
             "startlinecolor": "#2a3f5f"
            },
            "baxis": {
             "endlinecolor": "#2a3f5f",
             "gridcolor": "white",
             "linecolor": "white",
             "minorgridcolor": "white",
             "startlinecolor": "#2a3f5f"
            },
            "type": "carpet"
           }
          ],
          "choropleth": [
           {
            "colorbar": {
             "outlinewidth": 0,
             "ticks": ""
            },
            "type": "choropleth"
           }
          ],
          "contour": [
           {
            "colorbar": {
             "outlinewidth": 0,
             "ticks": ""
            },
            "colorscale": [
             [
              0,
              "#0d0887"
             ],
             [
              0.1111111111111111,
              "#46039f"
             ],
             [
              0.2222222222222222,
              "#7201a8"
             ],
             [
              0.3333333333333333,
              "#9c179e"
             ],
             [
              0.4444444444444444,
              "#bd3786"
             ],
             [
              0.5555555555555556,
              "#d8576b"
             ],
             [
              0.6666666666666666,
              "#ed7953"
             ],
             [
              0.7777777777777778,
              "#fb9f3a"
             ],
             [
              0.8888888888888888,
              "#fdca26"
             ],
             [
              1,
              "#f0f921"
             ]
            ],
            "type": "contour"
           }
          ],
          "contourcarpet": [
           {
            "colorbar": {
             "outlinewidth": 0,
             "ticks": ""
            },
            "type": "contourcarpet"
           }
          ],
          "heatmap": [
           {
            "colorbar": {
             "outlinewidth": 0,
             "ticks": ""
            },
            "colorscale": [
             [
              0,
              "#0d0887"
             ],
             [
              0.1111111111111111,
              "#46039f"
             ],
             [
              0.2222222222222222,
              "#7201a8"
             ],
             [
              0.3333333333333333,
              "#9c179e"
             ],
             [
              0.4444444444444444,
              "#bd3786"
             ],
             [
              0.5555555555555556,
              "#d8576b"
             ],
             [
              0.6666666666666666,
              "#ed7953"
             ],
             [
              0.7777777777777778,
              "#fb9f3a"
             ],
             [
              0.8888888888888888,
              "#fdca26"
             ],
             [
              1,
              "#f0f921"
             ]
            ],
            "type": "heatmap"
           }
          ],
          "histogram": [
           {
            "marker": {
             "pattern": {
              "fillmode": "overlay",
              "size": 10,
              "solidity": 0.2
             }
            },
            "type": "histogram"
           }
          ],
          "histogram2d": [
           {
            "colorbar": {
             "outlinewidth": 0,
             "ticks": ""
            },
            "colorscale": [
             [
              0,
              "#0d0887"
             ],
             [
              0.1111111111111111,
              "#46039f"
             ],
             [
              0.2222222222222222,
              "#7201a8"
             ],
             [
              0.3333333333333333,
              "#9c179e"
             ],
             [
              0.4444444444444444,
              "#bd3786"
             ],
             [
              0.5555555555555556,
              "#d8576b"
             ],
             [
              0.6666666666666666,
              "#ed7953"
             ],
             [
              0.7777777777777778,
              "#fb9f3a"
             ],
             [
              0.8888888888888888,
              "#fdca26"
             ],
             [
              1,
              "#f0f921"
             ]
            ],
            "type": "histogram2d"
           }
          ],
          "histogram2dcontour": [
           {
            "colorbar": {
             "outlinewidth": 0,
             "ticks": ""
            },
            "colorscale": [
             [
              0,
              "#0d0887"
             ],
             [
              0.1111111111111111,
              "#46039f"
             ],
             [
              0.2222222222222222,
              "#7201a8"
             ],
             [
              0.3333333333333333,
              "#9c179e"
             ],
             [
              0.4444444444444444,
              "#bd3786"
             ],
             [
              0.5555555555555556,
              "#d8576b"
             ],
             [
              0.6666666666666666,
              "#ed7953"
             ],
             [
              0.7777777777777778,
              "#fb9f3a"
             ],
             [
              0.8888888888888888,
              "#fdca26"
             ],
             [
              1,
              "#f0f921"
             ]
            ],
            "type": "histogram2dcontour"
           }
          ],
          "mesh3d": [
           {
            "colorbar": {
             "outlinewidth": 0,
             "ticks": ""
            },
            "type": "mesh3d"
           }
          ],
          "parcoords": [
           {
            "line": {
             "colorbar": {
              "outlinewidth": 0,
              "ticks": ""
             }
            },
            "type": "parcoords"
           }
          ],
          "pie": [
           {
            "automargin": true,
            "type": "pie"
           }
          ],
          "scatter": [
           {
            "fillpattern": {
             "fillmode": "overlay",
             "size": 10,
             "solidity": 0.2
            },
            "type": "scatter"
           }
          ],
          "scatter3d": [
           {
            "line": {
             "colorbar": {
              "outlinewidth": 0,
              "ticks": ""
             }
            },
            "marker": {
             "colorbar": {
              "outlinewidth": 0,
              "ticks": ""
             }
            },
            "type": "scatter3d"
           }
          ],
          "scattercarpet": [
           {
            "marker": {
             "colorbar": {
              "outlinewidth": 0,
              "ticks": ""
             }
            },
            "type": "scattercarpet"
           }
          ],
          "scattergeo": [
           {
            "marker": {
             "colorbar": {
              "outlinewidth": 0,
              "ticks": ""
             }
            },
            "type": "scattergeo"
           }
          ],
          "scattergl": [
           {
            "marker": {
             "colorbar": {
              "outlinewidth": 0,
              "ticks": ""
             }
            },
            "type": "scattergl"
           }
          ],
          "scattermap": [
           {
            "marker": {
             "colorbar": {
              "outlinewidth": 0,
              "ticks": ""
             }
            },
            "type": "scattermap"
           }
          ],
          "scattermapbox": [
           {
            "marker": {
             "colorbar": {
              "outlinewidth": 0,
              "ticks": ""
             }
            },
            "type": "scattermapbox"
           }
          ],
          "scatterpolar": [
           {
            "marker": {
             "colorbar": {
              "outlinewidth": 0,
              "ticks": ""
             }
            },
            "type": "scatterpolar"
           }
          ],
          "scatterpolargl": [
           {
            "marker": {
             "colorbar": {
              "outlinewidth": 0,
              "ticks": ""
             }
            },
            "type": "scatterpolargl"
           }
          ],
          "scatterternary": [
           {
            "marker": {
             "colorbar": {
              "outlinewidth": 0,
              "ticks": ""
             }
            },
            "type": "scatterternary"
           }
          ],
          "surface": [
           {
            "colorbar": {
             "outlinewidth": 0,
             "ticks": ""
            },
            "colorscale": [
             [
              0,
              "#0d0887"
             ],
             [
              0.1111111111111111,
              "#46039f"
             ],
             [
              0.2222222222222222,
              "#7201a8"
             ],
             [
              0.3333333333333333,
              "#9c179e"
             ],
             [
              0.4444444444444444,
              "#bd3786"
             ],
             [
              0.5555555555555556,
              "#d8576b"
             ],
             [
              0.6666666666666666,
              "#ed7953"
             ],
             [
              0.7777777777777778,
              "#fb9f3a"
             ],
             [
              0.8888888888888888,
              "#fdca26"
             ],
             [
              1,
              "#f0f921"
             ]
            ],
            "type": "surface"
           }
          ],
          "table": [
           {
            "cells": {
             "fill": {
              "color": "#EBF0F8"
             },
             "line": {
              "color": "white"
             }
            },
            "header": {
             "fill": {
              "color": "#C8D4E3"
             },
             "line": {
              "color": "white"
             }
            },
            "type": "table"
           }
          ]
         },
         "layout": {
          "annotationdefaults": {
           "arrowcolor": "#2a3f5f",
           "arrowhead": 0,
           "arrowwidth": 1
          },
          "autotypenumbers": "strict",
          "coloraxis": {
           "colorbar": {
            "outlinewidth": 0,
            "ticks": ""
           }
          },
          "colorscale": {
           "diverging": [
            [
             0,
             "#8e0152"
            ],
            [
             0.1,
             "#c51b7d"
            ],
            [
             0.2,
             "#de77ae"
            ],
            [
             0.3,
             "#f1b6da"
            ],
            [
             0.4,
             "#fde0ef"
            ],
            [
             0.5,
             "#f7f7f7"
            ],
            [
             0.6,
             "#e6f5d0"
            ],
            [
             0.7,
             "#b8e186"
            ],
            [
             0.8,
             "#7fbc41"
            ],
            [
             0.9,
             "#4d9221"
            ],
            [
             1,
             "#276419"
            ]
           ],
           "sequential": [
            [
             0,
             "#0d0887"
            ],
            [
             0.1111111111111111,
             "#46039f"
            ],
            [
             0.2222222222222222,
             "#7201a8"
            ],
            [
             0.3333333333333333,
             "#9c179e"
            ],
            [
             0.4444444444444444,
             "#bd3786"
            ],
            [
             0.5555555555555556,
             "#d8576b"
            ],
            [
             0.6666666666666666,
             "#ed7953"
            ],
            [
             0.7777777777777778,
             "#fb9f3a"
            ],
            [
             0.8888888888888888,
             "#fdca26"
            ],
            [
             1,
             "#f0f921"
            ]
           ],
           "sequentialminus": [
            [
             0,
             "#0d0887"
            ],
            [
             0.1111111111111111,
             "#46039f"
            ],
            [
             0.2222222222222222,
             "#7201a8"
            ],
            [
             0.3333333333333333,
             "#9c179e"
            ],
            [
             0.4444444444444444,
             "#bd3786"
            ],
            [
             0.5555555555555556,
             "#d8576b"
            ],
            [
             0.6666666666666666,
             "#ed7953"
            ],
            [
             0.7777777777777778,
             "#fb9f3a"
            ],
            [
             0.8888888888888888,
             "#fdca26"
            ],
            [
             1,
             "#f0f921"
            ]
           ]
          },
          "colorway": [
           "#636efa",
           "#EF553B",
           "#00cc96",
           "#ab63fa",
           "#FFA15A",
           "#19d3f3",
           "#FF6692",
           "#B6E880",
           "#FF97FF",
           "#FECB52"
          ],
          "font": {
           "color": "#2a3f5f"
          },
          "geo": {
           "bgcolor": "white",
           "lakecolor": "white",
           "landcolor": "#E5ECF6",
           "showlakes": true,
           "showland": true,
           "subunitcolor": "white"
          },
          "hoverlabel": {
           "align": "left"
          },
          "hovermode": "closest",
          "mapbox": {
           "style": "light"
          },
          "paper_bgcolor": "white",
          "plot_bgcolor": "#E5ECF6",
          "polar": {
           "angularaxis": {
            "gridcolor": "white",
            "linecolor": "white",
            "ticks": ""
           },
           "bgcolor": "#E5ECF6",
           "radialaxis": {
            "gridcolor": "white",
            "linecolor": "white",
            "ticks": ""
           }
          },
          "scene": {
           "xaxis": {
            "backgroundcolor": "#E5ECF6",
            "gridcolor": "white",
            "gridwidth": 2,
            "linecolor": "white",
            "showbackground": true,
            "ticks": "",
            "zerolinecolor": "white"
           },
           "yaxis": {
            "backgroundcolor": "#E5ECF6",
            "gridcolor": "white",
            "gridwidth": 2,
            "linecolor": "white",
            "showbackground": true,
            "ticks": "",
            "zerolinecolor": "white"
           },
           "zaxis": {
            "backgroundcolor": "#E5ECF6",
            "gridcolor": "white",
            "gridwidth": 2,
            "linecolor": "white",
            "showbackground": true,
            "ticks": "",
            "zerolinecolor": "white"
           }
          },
          "shapedefaults": {
           "line": {
            "color": "#2a3f5f"
           }
          },
          "ternary": {
           "aaxis": {
            "gridcolor": "white",
            "linecolor": "white",
            "ticks": ""
           },
           "baxis": {
            "gridcolor": "white",
            "linecolor": "white",
            "ticks": ""
           },
           "bgcolor": "#E5ECF6",
           "caxis": {
            "gridcolor": "white",
            "linecolor": "white",
            "ticks": ""
           }
          },
          "title": {
           "x": 0.05
          },
          "xaxis": {
           "automargin": true,
           "gridcolor": "white",
           "linecolor": "white",
           "ticks": "",
           "title": {
            "standoff": 15
           },
           "zerolinecolor": "white",
           "zerolinewidth": 2
          },
          "yaxis": {
           "automargin": true,
           "gridcolor": "white",
           "linecolor": "white",
           "ticks": "",
           "title": {
            "standoff": 15
           },
           "zerolinecolor": "white",
           "zerolinewidth": 2
          }
         }
        },
        "title": {
         "text": "Clusters visualized with tSNE"
        },
        "xaxis": {
         "anchor": "y",
         "domain": [
          0,
          1
         ],
         "title": {
          "text": "PCA Component 1"
         }
        },
        "yaxis": {
         "anchor": "x",
         "domain": [
          0,
          1
         ],
         "title": {
          "text": "PCA Component 2"
         }
        }
       }
      }
     },
     "metadata": {},
     "output_type": "display_data"
    }
   ],
   "source": [
    "import plotly.express as px\n",
    "\n",
    "# Create a DataFrame for the PCA components with cluster labels\n",
    "df_tsne = pd.DataFrame(X_tsne, columns=['PCA Component 1', 'PCA Component 2'])\n",
    "df_tsne['cluster'] = pred\n",
    "\n",
    "# Create a scatter plot for the PCA components\n",
    "fig = px.scatter(df_tsne, x='PCA Component 1', y='PCA Component 2', color='cluster', title='Clusters visualized with tSNE')\n",
    "fig.show()"
   ]
  },
  {
   "cell_type": "code",
   "execution_count": 31,
   "metadata": {},
   "outputs": [
    {
     "name": "stdout",
     "output_type": "stream",
     "text": [
      "Silhouette Score: 0.06748468160048139\n"
     ]
    }
   ],
   "source": [
    "sil_score = silhouette_score(X, pred)\n",
    "print(f\"Silhouette Score: {sil_score}\")"
   ]
  },
  {
   "cell_type": "code",
   "execution_count": 34,
   "metadata": {},
   "outputs": [
    {
     "name": "stdout",
     "output_type": "stream",
     "text": [
      "Davies-Bouldin Index: 2.7432846030110665\n"
     ]
    }
   ],
   "source": [
    "db_score = davies_bouldin_score(X, pred)\n",
    "print(f\"Davies-Bouldin Index: {db_score}\")"
   ]
  },
  {
   "cell_type": "code",
   "execution_count": 35,
   "metadata": {},
   "outputs": [
    {
     "name": "stdout",
     "output_type": "stream",
     "text": [
      "Calinski-Harabasz Index: 18.02670096586827\n"
     ]
    }
   ],
   "source": [
    "ch_score = calinski_harabasz_score(X, pred)\n",
    "print(f\"Calinski-Harabasz Index: {ch_score}\")"
   ]
  },
  {
   "cell_type": "code",
   "execution_count": null,
   "metadata": {},
   "outputs": [],
   "source": [
    "ari_score = adjusted_rand_score(y, pred)\n",
    "print(f\"Adjusted Rand Index: {ari_score}\")"
   ]
  }
 ],
 "metadata": {
  "kernelspec": {
   "display_name": ".conda",
   "language": "python",
   "name": "python3"
  },
  "language_info": {
   "codemirror_mode": {
    "name": "ipython",
    "version": 3
   },
   "file_extension": ".py",
   "mimetype": "text/x-python",
   "name": "python",
   "nbconvert_exporter": "python",
   "pygments_lexer": "ipython3",
   "version": "3.11.11"
  }
 },
 "nbformat": 4,
 "nbformat_minor": 2
}
